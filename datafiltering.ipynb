{
 "cells": [
  {
   "cell_type": "code",
   "execution_count": 1,
   "metadata": {},
   "outputs": [],
   "source": [
    "import pandas as pd\n",
    "import numpy as np"
   ]
  },
  {
   "cell_type": "code",
   "execution_count": 2,
   "metadata": {},
   "outputs": [
    {
     "ename": "FileNotFoundError",
     "evalue": "File b'clean_data.csv' does not exist",
     "output_type": "error",
     "traceback": [
      "\u001b[1;31m---------------------------------------------------------------------------\u001b[0m",
      "\u001b[1;31mFileNotFoundError\u001b[0m                         Traceback (most recent call last)",
      "\u001b[1;32m<ipython-input-2-3ea97a848462>\u001b[0m in \u001b[0;36m<module>\u001b[1;34m\u001b[0m\n\u001b[1;32m----> 1\u001b[1;33m \u001b[0mdataset\u001b[0m \u001b[1;33m=\u001b[0m \u001b[0mpd\u001b[0m\u001b[1;33m.\u001b[0m\u001b[0mread_csv\u001b[0m\u001b[1;33m(\u001b[0m\u001b[1;34m\"clean_data.csv\"\u001b[0m\u001b[1;33m)\u001b[0m\u001b[1;33m\u001b[0m\u001b[1;33m\u001b[0m\u001b[0m\n\u001b[0m",
      "\u001b[1;32m~\\Anaconda3\\lib\\site-packages\\pandas\\io\\parsers.py\u001b[0m in \u001b[0;36mparser_f\u001b[1;34m(filepath_or_buffer, sep, delimiter, header, names, index_col, usecols, squeeze, prefix, mangle_dupe_cols, dtype, engine, converters, true_values, false_values, skipinitialspace, skiprows, nrows, na_values, keep_default_na, na_filter, verbose, skip_blank_lines, parse_dates, infer_datetime_format, keep_date_col, date_parser, dayfirst, iterator, chunksize, compression, thousands, decimal, lineterminator, quotechar, quoting, escapechar, comment, encoding, dialect, tupleize_cols, error_bad_lines, warn_bad_lines, skipfooter, skip_footer, doublequote, delim_whitespace, as_recarray, compact_ints, use_unsigned, low_memory, buffer_lines, memory_map, float_precision)\u001b[0m\n\u001b[0;32m    707\u001b[0m                     skip_blank_lines=skip_blank_lines)\n\u001b[0;32m    708\u001b[0m \u001b[1;33m\u001b[0m\u001b[0m\n\u001b[1;32m--> 709\u001b[1;33m         \u001b[1;32mreturn\u001b[0m \u001b[0m_read\u001b[0m\u001b[1;33m(\u001b[0m\u001b[0mfilepath_or_buffer\u001b[0m\u001b[1;33m,\u001b[0m \u001b[0mkwds\u001b[0m\u001b[1;33m)\u001b[0m\u001b[1;33m\u001b[0m\u001b[1;33m\u001b[0m\u001b[0m\n\u001b[0m\u001b[0;32m    710\u001b[0m \u001b[1;33m\u001b[0m\u001b[0m\n\u001b[0;32m    711\u001b[0m     \u001b[0mparser_f\u001b[0m\u001b[1;33m.\u001b[0m\u001b[0m__name__\u001b[0m \u001b[1;33m=\u001b[0m \u001b[0mname\u001b[0m\u001b[1;33m\u001b[0m\u001b[1;33m\u001b[0m\u001b[0m\n",
      "\u001b[1;32m~\\Anaconda3\\lib\\site-packages\\pandas\\io\\parsers.py\u001b[0m in \u001b[0;36m_read\u001b[1;34m(filepath_or_buffer, kwds)\u001b[0m\n\u001b[0;32m    447\u001b[0m \u001b[1;33m\u001b[0m\u001b[0m\n\u001b[0;32m    448\u001b[0m     \u001b[1;31m# Create the parser.\u001b[0m\u001b[1;33m\u001b[0m\u001b[1;33m\u001b[0m\u001b[1;33m\u001b[0m\u001b[0m\n\u001b[1;32m--> 449\u001b[1;33m     \u001b[0mparser\u001b[0m \u001b[1;33m=\u001b[0m \u001b[0mTextFileReader\u001b[0m\u001b[1;33m(\u001b[0m\u001b[0mfilepath_or_buffer\u001b[0m\u001b[1;33m,\u001b[0m \u001b[1;33m**\u001b[0m\u001b[0mkwds\u001b[0m\u001b[1;33m)\u001b[0m\u001b[1;33m\u001b[0m\u001b[1;33m\u001b[0m\u001b[0m\n\u001b[0m\u001b[0;32m    450\u001b[0m \u001b[1;33m\u001b[0m\u001b[0m\n\u001b[0;32m    451\u001b[0m     \u001b[1;32mif\u001b[0m \u001b[0mchunksize\u001b[0m \u001b[1;32mor\u001b[0m \u001b[0miterator\u001b[0m\u001b[1;33m:\u001b[0m\u001b[1;33m\u001b[0m\u001b[1;33m\u001b[0m\u001b[0m\n",
      "\u001b[1;32m~\\Anaconda3\\lib\\site-packages\\pandas\\io\\parsers.py\u001b[0m in \u001b[0;36m__init__\u001b[1;34m(self, f, engine, **kwds)\u001b[0m\n\u001b[0;32m    816\u001b[0m             \u001b[0mself\u001b[0m\u001b[1;33m.\u001b[0m\u001b[0moptions\u001b[0m\u001b[1;33m[\u001b[0m\u001b[1;34m'has_index_names'\u001b[0m\u001b[1;33m]\u001b[0m \u001b[1;33m=\u001b[0m \u001b[0mkwds\u001b[0m\u001b[1;33m[\u001b[0m\u001b[1;34m'has_index_names'\u001b[0m\u001b[1;33m]\u001b[0m\u001b[1;33m\u001b[0m\u001b[1;33m\u001b[0m\u001b[0m\n\u001b[0;32m    817\u001b[0m \u001b[1;33m\u001b[0m\u001b[0m\n\u001b[1;32m--> 818\u001b[1;33m         \u001b[0mself\u001b[0m\u001b[1;33m.\u001b[0m\u001b[0m_make_engine\u001b[0m\u001b[1;33m(\u001b[0m\u001b[0mself\u001b[0m\u001b[1;33m.\u001b[0m\u001b[0mengine\u001b[0m\u001b[1;33m)\u001b[0m\u001b[1;33m\u001b[0m\u001b[1;33m\u001b[0m\u001b[0m\n\u001b[0m\u001b[0;32m    819\u001b[0m \u001b[1;33m\u001b[0m\u001b[0m\n\u001b[0;32m    820\u001b[0m     \u001b[1;32mdef\u001b[0m \u001b[0mclose\u001b[0m\u001b[1;33m(\u001b[0m\u001b[0mself\u001b[0m\u001b[1;33m)\u001b[0m\u001b[1;33m:\u001b[0m\u001b[1;33m\u001b[0m\u001b[1;33m\u001b[0m\u001b[0m\n",
      "\u001b[1;32m~\\Anaconda3\\lib\\site-packages\\pandas\\io\\parsers.py\u001b[0m in \u001b[0;36m_make_engine\u001b[1;34m(self, engine)\u001b[0m\n\u001b[0;32m   1047\u001b[0m     \u001b[1;32mdef\u001b[0m \u001b[0m_make_engine\u001b[0m\u001b[1;33m(\u001b[0m\u001b[0mself\u001b[0m\u001b[1;33m,\u001b[0m \u001b[0mengine\u001b[0m\u001b[1;33m=\u001b[0m\u001b[1;34m'c'\u001b[0m\u001b[1;33m)\u001b[0m\u001b[1;33m:\u001b[0m\u001b[1;33m\u001b[0m\u001b[1;33m\u001b[0m\u001b[0m\n\u001b[0;32m   1048\u001b[0m         \u001b[1;32mif\u001b[0m \u001b[0mengine\u001b[0m \u001b[1;33m==\u001b[0m \u001b[1;34m'c'\u001b[0m\u001b[1;33m:\u001b[0m\u001b[1;33m\u001b[0m\u001b[1;33m\u001b[0m\u001b[0m\n\u001b[1;32m-> 1049\u001b[1;33m             \u001b[0mself\u001b[0m\u001b[1;33m.\u001b[0m\u001b[0m_engine\u001b[0m \u001b[1;33m=\u001b[0m \u001b[0mCParserWrapper\u001b[0m\u001b[1;33m(\u001b[0m\u001b[0mself\u001b[0m\u001b[1;33m.\u001b[0m\u001b[0mf\u001b[0m\u001b[1;33m,\u001b[0m \u001b[1;33m**\u001b[0m\u001b[0mself\u001b[0m\u001b[1;33m.\u001b[0m\u001b[0moptions\u001b[0m\u001b[1;33m)\u001b[0m\u001b[1;33m\u001b[0m\u001b[1;33m\u001b[0m\u001b[0m\n\u001b[0m\u001b[0;32m   1050\u001b[0m         \u001b[1;32melse\u001b[0m\u001b[1;33m:\u001b[0m\u001b[1;33m\u001b[0m\u001b[1;33m\u001b[0m\u001b[0m\n\u001b[0;32m   1051\u001b[0m             \u001b[1;32mif\u001b[0m \u001b[0mengine\u001b[0m \u001b[1;33m==\u001b[0m \u001b[1;34m'python'\u001b[0m\u001b[1;33m:\u001b[0m\u001b[1;33m\u001b[0m\u001b[1;33m\u001b[0m\u001b[0m\n",
      "\u001b[1;32m~\\Anaconda3\\lib\\site-packages\\pandas\\io\\parsers.py\u001b[0m in \u001b[0;36m__init__\u001b[1;34m(self, src, **kwds)\u001b[0m\n\u001b[0;32m   1693\u001b[0m         \u001b[0mkwds\u001b[0m\u001b[1;33m[\u001b[0m\u001b[1;34m'allow_leading_cols'\u001b[0m\u001b[1;33m]\u001b[0m \u001b[1;33m=\u001b[0m \u001b[0mself\u001b[0m\u001b[1;33m.\u001b[0m\u001b[0mindex_col\u001b[0m \u001b[1;32mis\u001b[0m \u001b[1;32mnot\u001b[0m \u001b[1;32mFalse\u001b[0m\u001b[1;33m\u001b[0m\u001b[1;33m\u001b[0m\u001b[0m\n\u001b[0;32m   1694\u001b[0m \u001b[1;33m\u001b[0m\u001b[0m\n\u001b[1;32m-> 1695\u001b[1;33m         \u001b[0mself\u001b[0m\u001b[1;33m.\u001b[0m\u001b[0m_reader\u001b[0m \u001b[1;33m=\u001b[0m \u001b[0mparsers\u001b[0m\u001b[1;33m.\u001b[0m\u001b[0mTextReader\u001b[0m\u001b[1;33m(\u001b[0m\u001b[0msrc\u001b[0m\u001b[1;33m,\u001b[0m \u001b[1;33m**\u001b[0m\u001b[0mkwds\u001b[0m\u001b[1;33m)\u001b[0m\u001b[1;33m\u001b[0m\u001b[1;33m\u001b[0m\u001b[0m\n\u001b[0m\u001b[0;32m   1696\u001b[0m \u001b[1;33m\u001b[0m\u001b[0m\n\u001b[0;32m   1697\u001b[0m         \u001b[1;31m# XXX\u001b[0m\u001b[1;33m\u001b[0m\u001b[1;33m\u001b[0m\u001b[1;33m\u001b[0m\u001b[0m\n",
      "\u001b[1;32mpandas/_libs/parsers.pyx\u001b[0m in \u001b[0;36mpandas._libs.parsers.TextReader.__cinit__\u001b[1;34m()\u001b[0m\n",
      "\u001b[1;32mpandas/_libs/parsers.pyx\u001b[0m in \u001b[0;36mpandas._libs.parsers.TextReader._setup_parser_source\u001b[1;34m()\u001b[0m\n",
      "\u001b[1;31mFileNotFoundError\u001b[0m: File b'clean_data.csv' does not exist"
     ]
    }
   ],
   "source": [
    "dataset = pd.read_csv(\"clean_data.csv\")"
   ]
  },
  {
   "cell_type": "code",
   "execution_count": null,
   "metadata": {},
   "outputs": [],
   "source": [
    "dataset.head()"
   ]
  },
  {
   "cell_type": "code",
   "execution_count": null,
   "metadata": {},
   "outputs": [],
   "source": [
    "rest = dataset.drop(['review_id','user_id','review_stars','date','user_review_count','yelping_since','fans','average_stars'], axis=1)\n"
   ]
  },
  {
   "cell_type": "code",
   "execution_count": null,
   "metadata": {},
   "outputs": [],
   "source": [
    "rest = rest.drop_duplicates()\n",
    "rest.head()\n",
    "#rest.to_csv('clean_rest.csv',index=None)\n",
    "#rest['_rating'] = np.nan"
   ]
  },
  {
   "cell_type": "code",
   "execution_count": null,
   "metadata": {},
   "outputs": [],
   "source": [
    "# Category\n",
    "print(rest.shape)\n",
    "vc = rest['category'].unique()\n",
    "for i in vc:\n",
    "    avg_rating = np.mean(rest.loc[rest['category'] == i]['restaurant_stars'])\n",
    "    \n",
    "    rest.loc[rest['category'] == i,'cat_rating'] = avg_rating\n",
    "    print(i,rest.loc[rest['category'] == i]['cat_rating'])"
   ]
  },
  {
   "cell_type": "code",
   "execution_count": null,
   "metadata": {},
   "outputs": [],
   "source": [
    "#State\n",
    "print(rest.shape)\n",
    "rest['state_rating'] = np.nan\n",
    "vc = rest['state'].unique()\n",
    "for i in vc:\n",
    "    avg_rating = np.mean(rest.loc[rest['state'] == i]['restaurant_stars'])\n",
    "    \n",
    "    rest.loc[rest['state'] == i,'state_rating'] = avg_rating\n",
    "    print(i,rest.loc[rest['state'] == i]['state_rating'])"
   ]
  },
  {
   "cell_type": "code",
   "execution_count": null,
   "metadata": {},
   "outputs": [],
   "source": [
    "#State and category\n",
    "print(rest.shape)\n",
    "rest['state_cat_rating'] = np.nan\n",
    "vc = rest['state'].unique()\n",
    "for i in vc:\n",
    "    for j in rest.loc[rest['state'] == i]['category'].unique():\n",
    "        avg_rating = np.mean(rest.loc[(rest['state'] == i) & (rest['category'] == j)]['restaurant_stars'])\n",
    "\n",
    "        rest.loc[(rest['state'] == i) & (rest['category'] == j),'state_cat_rating'] = avg_rating\n",
    "        print(i,j,avg_rating)"
   ]
  },
  {
   "cell_type": "code",
   "execution_count": null,
   "metadata": {},
   "outputs": [],
   "source": [
    "rest.head() \n",
    "rest.to_csv('clean_rest.csv',index=None)\n",
    "\n"
   ]
  },
  {
   "cell_type": "code",
   "execution_count": null,
   "metadata": {},
   "outputs": [],
   "source": [
    "rest.loc[rest['state'] == 'MLN']['city'].value_counts()"
   ]
  },
  {
   "cell_type": "code",
   "execution_count": 4,
   "metadata": {},
   "outputs": [],
   "source": [
    "df = pd.read_csv('clean_rest.csv')"
   ]
  },
  {
   "cell_type": "code",
   "execution_count": 9,
   "metadata": {},
   "outputs": [
    {
     "data": {
      "text/html": [
       "<div>\n",
       "<style scoped>\n",
       "    .dataframe tbody tr th:only-of-type {\n",
       "        vertical-align: middle;\n",
       "    }\n",
       "\n",
       "    .dataframe tbody tr th {\n",
       "        vertical-align: top;\n",
       "    }\n",
       "\n",
       "    .dataframe thead th {\n",
       "        text-align: right;\n",
       "    }\n",
       "</style>\n",
       "<table border=\"1\" class=\"dataframe\">\n",
       "  <thead>\n",
       "    <tr style=\"text-align: right;\">\n",
       "      <th></th>\n",
       "      <th>business_id</th>\n",
       "      <th>city</th>\n",
       "      <th>state</th>\n",
       "      <th>postal_code</th>\n",
       "      <th>latitude</th>\n",
       "      <th>longitude</th>\n",
       "      <th>restaurant_stars</th>\n",
       "      <th>restaurant_review_count</th>\n",
       "      <th>category</th>\n",
       "      <th>cat_rating</th>\n",
       "      <th>state_rating</th>\n",
       "      <th>state_cat_rating</th>\n",
       "    </tr>\n",
       "  </thead>\n",
       "  <tbody>\n",
       "    <tr>\n",
       "      <th>46407</th>\n",
       "      <td>EfEa965NrYsNBTc6EFNSvA</td>\n",
       "      <td>Lower Burrell</td>\n",
       "      <td>PA</td>\n",
       "      <td>15068</td>\n",
       "      <td>40.591304</td>\n",
       "      <td>-79.728690</td>\n",
       "      <td>4.5</td>\n",
       "      <td>3</td>\n",
       "      <td>Sandwiches</td>\n",
       "      <td>3.400435</td>\n",
       "      <td>3.466936</td>\n",
       "      <td>3.588571</td>\n",
       "    </tr>\n",
       "    <tr>\n",
       "      <th>46408</th>\n",
       "      <td>S8Wp6CALbFZb8G-if3-76g</td>\n",
       "      <td>Böblingen</td>\n",
       "      <td>BW</td>\n",
       "      <td>71034</td>\n",
       "      <td>48.679600</td>\n",
       "      <td>8.991560</td>\n",
       "      <td>2.0</td>\n",
       "      <td>3</td>\n",
       "      <td>Burgers</td>\n",
       "      <td>2.958082</td>\n",
       "      <td>3.721654</td>\n",
       "      <td>3.171875</td>\n",
       "    </tr>\n",
       "    <tr>\n",
       "      <th>46409</th>\n",
       "      <td>4dZ1OXJFADBrgN1850WGRQ</td>\n",
       "      <td>Phoenix</td>\n",
       "      <td>AZ</td>\n",
       "      <td>85029</td>\n",
       "      <td>33.541839</td>\n",
       "      <td>-112.198705</td>\n",
       "      <td>5.0</td>\n",
       "      <td>3</td>\n",
       "      <td>Caterers</td>\n",
       "      <td>3.735202</td>\n",
       "      <td>3.372730</td>\n",
       "      <td>3.830882</td>\n",
       "    </tr>\n",
       "    <tr>\n",
       "      <th>46410</th>\n",
       "      <td>z1ShRxKgVG5UUZnD_R73rQ</td>\n",
       "      <td>Montréal</td>\n",
       "      <td>QC</td>\n",
       "      <td>H2W 1X6</td>\n",
       "      <td>45.515267</td>\n",
       "      <td>-73.575881</td>\n",
       "      <td>2.5</td>\n",
       "      <td>3</td>\n",
       "      <td>Fast Food</td>\n",
       "      <td>2.784861</td>\n",
       "      <td>3.629170</td>\n",
       "      <td>3.095455</td>\n",
       "    </tr>\n",
       "    <tr>\n",
       "      <th>46411</th>\n",
       "      <td>pHq_hlWqlB0QKexF7kO2mg</td>\n",
       "      <td>Tempe</td>\n",
       "      <td>AZ</td>\n",
       "      <td>85283</td>\n",
       "      <td>33.378214</td>\n",
       "      <td>-111.936102</td>\n",
       "      <td>1.5</td>\n",
       "      <td>3</td>\n",
       "      <td>American (Traditional)</td>\n",
       "      <td>3.298091</td>\n",
       "      <td>3.372730</td>\n",
       "      <td>3.243562</td>\n",
       "    </tr>\n",
       "  </tbody>\n",
       "</table>\n",
       "</div>"
      ],
      "text/plain": [
       "                  business_id           city state postal_code   latitude  \\\n",
       "46407  EfEa965NrYsNBTc6EFNSvA  Lower Burrell    PA       15068  40.591304   \n",
       "46408  S8Wp6CALbFZb8G-if3-76g      Böblingen    BW       71034  48.679600   \n",
       "46409  4dZ1OXJFADBrgN1850WGRQ        Phoenix    AZ       85029  33.541839   \n",
       "46410  z1ShRxKgVG5UUZnD_R73rQ       Montréal    QC     H2W 1X6  45.515267   \n",
       "46411  pHq_hlWqlB0QKexF7kO2mg          Tempe    AZ       85283  33.378214   \n",
       "\n",
       "        longitude  restaurant_stars  restaurant_review_count  \\\n",
       "46407  -79.728690               4.5                        3   \n",
       "46408    8.991560               2.0                        3   \n",
       "46409 -112.198705               5.0                        3   \n",
       "46410  -73.575881               2.5                        3   \n",
       "46411 -111.936102               1.5                        3   \n",
       "\n",
       "                     category  cat_rating  state_rating  state_cat_rating  \n",
       "46407              Sandwiches    3.400435      3.466936          3.588571  \n",
       "46408                 Burgers    2.958082      3.721654          3.171875  \n",
       "46409                Caterers    3.735202      3.372730          3.830882  \n",
       "46410               Fast Food    2.784861      3.629170          3.095455  \n",
       "46411  American (Traditional)    3.298091      3.372730          3.243562  "
      ]
     },
     "execution_count": 9,
     "metadata": {},
     "output_type": "execute_result"
    }
   ],
   "source": [
    "df.tail(5)"
   ]
  },
  {
   "cell_type": "code",
   "execution_count": 11,
   "metadata": {},
   "outputs": [
    {
     "data": {
      "text/plain": [
       "Toronto                      5976\n",
       "Las Vegas                    4981\n",
       "Phoenix                      3206\n",
       "Montréal                     2708\n",
       "Charlotte                    2079\n",
       "Pittsburgh                   1929\n",
       "Scottsdale                   1233\n",
       "Cleveland                    1157\n",
       "Edinburgh                    1125\n",
       "Mississauga                  1107\n",
       "Mesa                          988\n",
       "Madison                       845\n",
       "Tempe                         820\n",
       "Stuttgart                     738\n",
       "Henderson                     720\n",
       "Chandler                      712\n",
       "Markham                       640\n",
       "Glendale                      606\n",
       "Gilbert                       467\n",
       "Scarborough                   441\n",
       "Brampton                      431\n",
       "Richmond Hill                 383\n",
       "North York                    377\n",
       "Vaughan                       343\n",
       "Champaign                     340\n",
       "Peoria                        306\n",
       "North Las Vegas               294\n",
       "Oakville                      287\n",
       "Concord                       285\n",
       "Etobicoke                     248\n",
       "                             ... \n",
       "Gorebridge                      1\n",
       "Linden                          1\n",
       "Central City                    1\n",
       "Fort  Mill                      1\n",
       "Woodmere Village                1\n",
       "Godmanchester                   1\n",
       "Hinckley                        1\n",
       "Ste-Therese-de-Blainville       1\n",
       "South Amherst                   1\n",
       "Cuyahoga Fls                    1\n",
       "Ridgeville                      1\n",
       "Oakridges                       1\n",
       "Brunswick Hills                 1\n",
       "Sainte-Geneviève                1\n",
       "Baie-D'urfe                     1\n",
       "Warrensvile Heights             1\n",
       "North Toronto                   1\n",
       "Laval, Ste Dorothee             1\n",
       "Orange                          1\n",
       "Mooers                          1\n",
       "Willowdale                      1\n",
       "Phoenix Valley                  1\n",
       "Tornto                          1\n",
       "Mont St-hilaire                 1\n",
       "Bois-Des-Filion                 1\n",
       "Hiram                           1\n",
       "Sainte-Rose                     1\n",
       "Massey                          1\n",
       "Roxboro                         1\n",
       "Mont-Saint-Gregoire             1\n",
       "Name: city, Length: 732, dtype: int64"
      ]
     },
     "execution_count": 11,
     "metadata": {},
     "output_type": "execute_result"
    }
   ],
   "source": [
    "df['city'].value_counts()"
   ]
  },
  {
   "cell_type": "code",
   "execution_count": 14,
   "metadata": {},
   "outputs": [
    {
     "name": "stdout",
     "output_type": "stream",
     "text": [
      "<class 'pandas.core.frame.DataFrame'>\n",
      "RangeIndex: 46412 entries, 0 to 46411\n",
      "Data columns (total 12 columns):\n",
      "business_id                46412 non-null object\n",
      "city                       46412 non-null object\n",
      "state                      46412 non-null object\n",
      "postal_code                46412 non-null object\n",
      "latitude                   46412 non-null float64\n",
      "longitude                  46412 non-null float64\n",
      "restaurant_stars           46412 non-null float64\n",
      "restaurant_review_count    46412 non-null int64\n",
      "category                   46412 non-null object\n",
      "cat_rating                 46412 non-null float64\n",
      "state_rating               46412 non-null float64\n",
      "state_cat_rating           46412 non-null float64\n",
      "dtypes: float64(6), int64(1), object(5)\n",
      "memory usage: 4.2+ MB\n"
     ]
    }
   ],
   "source": [
    "df.info()"
   ]
  },
  {
   "cell_type": "code",
   "execution_count": null,
   "metadata": {},
   "outputs": [],
   "source": []
  }
 ],
 "metadata": {
  "kernelspec": {
   "display_name": "Python 3",
   "language": "python",
   "name": "python3"
  },
  "language_info": {
   "codemirror_mode": {
    "name": "ipython",
    "version": 3
   },
   "file_extension": ".py",
   "mimetype": "text/x-python",
   "name": "python",
   "nbconvert_exporter": "python",
   "pygments_lexer": "ipython3",
   "version": "3.6.9"
  }
 },
 "nbformat": 4,
 "nbformat_minor": 2
}
