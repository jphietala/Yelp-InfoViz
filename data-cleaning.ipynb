{
 "cells": [
  {
   "cell_type": "markdown",
   "metadata": {},
   "source": [
    "# Yelp Restaurant Review Data Analysis"
   ]
  },
  {
   "cell_type": "markdown",
   "metadata": {},
   "source": [
    "This notebook is for data cleaning and merging different datasets into one."
   ]
  },
  {
   "cell_type": "markdown",
   "metadata": {},
   "source": [
    "## Business.json Data"
   ]
  },
  {
   "cell_type": "code",
   "execution_count": 20,
   "metadata": {},
   "outputs": [],
   "source": [
    "import pandas as pd\n",
    "import numpy as np\n",
    "import matplotlib.pyplot as plt\n",
    "import seaborn as sns\n",
    "%matplotlib inline\n",
    "\n",
    "# Columns that are used for the initial dataframe\n",
    "cols = ['business_id', 'city', 'state', 'stars', 'review_count', 'categories']\n",
    "\n",
    "business_df = pd.read_csv('..\\Yelp Dataset\\yelp_business.csv', index_col='business_id', usecols=cols)"
   ]
  },
  {
   "cell_type": "code",
   "execution_count": 21,
   "metadata": {},
   "outputs": [
    {
     "data": {
      "text/html": [
       "<div>\n",
       "<style scoped>\n",
       "    .dataframe tbody tr th:only-of-type {\n",
       "        vertical-align: middle;\n",
       "    }\n",
       "\n",
       "    .dataframe tbody tr th {\n",
       "        vertical-align: top;\n",
       "    }\n",
       "\n",
       "    .dataframe thead th {\n",
       "        text-align: right;\n",
       "    }\n",
       "</style>\n",
       "<table border=\"1\" class=\"dataframe\">\n",
       "  <thead>\n",
       "    <tr style=\"text-align: right;\">\n",
       "      <th></th>\n",
       "      <th>city</th>\n",
       "      <th>state</th>\n",
       "      <th>stars</th>\n",
       "      <th>review_count</th>\n",
       "      <th>categories</th>\n",
       "    </tr>\n",
       "    <tr>\n",
       "      <th>business_id</th>\n",
       "      <th></th>\n",
       "      <th></th>\n",
       "      <th></th>\n",
       "      <th></th>\n",
       "      <th></th>\n",
       "    </tr>\n",
       "  </thead>\n",
       "  <tbody>\n",
       "    <tr>\n",
       "      <th>FYWN1wneV18bWNgQjJ2GNg</th>\n",
       "      <td>Ahwatukee</td>\n",
       "      <td>AZ</td>\n",
       "      <td>4.0</td>\n",
       "      <td>22</td>\n",
       "      <td>Dentists;General Dentistry;Health &amp; Medical;Or...</td>\n",
       "    </tr>\n",
       "    <tr>\n",
       "      <th>He-G7vWjzVUysIKrfNbPUQ</th>\n",
       "      <td>McMurray</td>\n",
       "      <td>PA</td>\n",
       "      <td>3.0</td>\n",
       "      <td>11</td>\n",
       "      <td>Hair Stylists;Hair Salons;Men's Hair Salons;Bl...</td>\n",
       "    </tr>\n",
       "    <tr>\n",
       "      <th>KQPW8lFf1y5BT2MxiSZ3QA</th>\n",
       "      <td>Phoenix</td>\n",
       "      <td>AZ</td>\n",
       "      <td>1.5</td>\n",
       "      <td>18</td>\n",
       "      <td>Departments of Motor Vehicles;Public Services ...</td>\n",
       "    </tr>\n",
       "    <tr>\n",
       "      <th>8DShNS-LuFqpEWIp0HxijA</th>\n",
       "      <td>Tempe</td>\n",
       "      <td>AZ</td>\n",
       "      <td>3.0</td>\n",
       "      <td>9</td>\n",
       "      <td>Sporting Goods;Shopping</td>\n",
       "    </tr>\n",
       "    <tr>\n",
       "      <th>PfOCPjBrlQAnz__NXj9h_w</th>\n",
       "      <td>Cuyahoga Falls</td>\n",
       "      <td>OH</td>\n",
       "      <td>3.5</td>\n",
       "      <td>116</td>\n",
       "      <td>American (New);Nightlife;Bars;Sandwiches;Ameri...</td>\n",
       "    </tr>\n",
       "  </tbody>\n",
       "</table>\n",
       "</div>"
      ],
      "text/plain": [
       "                                  city state  stars  review_count  \\\n",
       "business_id                                                         \n",
       "FYWN1wneV18bWNgQjJ2GNg       Ahwatukee    AZ    4.0            22   \n",
       "He-G7vWjzVUysIKrfNbPUQ        McMurray    PA    3.0            11   \n",
       "KQPW8lFf1y5BT2MxiSZ3QA         Phoenix    AZ    1.5            18   \n",
       "8DShNS-LuFqpEWIp0HxijA           Tempe    AZ    3.0             9   \n",
       "PfOCPjBrlQAnz__NXj9h_w  Cuyahoga Falls    OH    3.5           116   \n",
       "\n",
       "                                                               categories  \n",
       "business_id                                                                \n",
       "FYWN1wneV18bWNgQjJ2GNg  Dentists;General Dentistry;Health & Medical;Or...  \n",
       "He-G7vWjzVUysIKrfNbPUQ  Hair Stylists;Hair Salons;Men's Hair Salons;Bl...  \n",
       "KQPW8lFf1y5BT2MxiSZ3QA  Departments of Motor Vehicles;Public Services ...  \n",
       "8DShNS-LuFqpEWIp0HxijA                            Sporting Goods;Shopping  \n",
       "PfOCPjBrlQAnz__NXj9h_w  American (New);Nightlife;Bars;Sandwiches;Ameri...  "
      ]
     },
     "execution_count": 21,
     "metadata": {},
     "output_type": "execute_result"
    }
   ],
   "source": [
    "business_df.head()"
   ]
  },
  {
   "cell_type": "code",
   "execution_count": 22,
   "metadata": {},
   "outputs": [
    {
     "data": {
      "text/plain": [
       "(174567, 5)"
      ]
     },
     "execution_count": 22,
     "metadata": {},
     "output_type": "execute_result"
    }
   ],
   "source": [
    "business_df.shape"
   ]
  },
  {
   "cell_type": "code",
   "execution_count": 23,
   "metadata": {},
   "outputs": [
    {
     "data": {
      "text/html": [
       "<div>\n",
       "<style scoped>\n",
       "    .dataframe tbody tr th:only-of-type {\n",
       "        vertical-align: middle;\n",
       "    }\n",
       "\n",
       "    .dataframe tbody tr th {\n",
       "        vertical-align: top;\n",
       "    }\n",
       "\n",
       "    .dataframe thead th {\n",
       "        text-align: right;\n",
       "    }\n",
       "</style>\n",
       "<table border=\"1\" class=\"dataframe\">\n",
       "  <thead>\n",
       "    <tr style=\"text-align: right;\">\n",
       "      <th></th>\n",
       "      <th>city</th>\n",
       "      <th>state</th>\n",
       "      <th>stars</th>\n",
       "      <th>review_count</th>\n",
       "      <th>categories</th>\n",
       "    </tr>\n",
       "  </thead>\n",
       "  <tbody>\n",
       "    <tr>\n",
       "      <th>count</th>\n",
       "      <td>174566</td>\n",
       "      <td>174566</td>\n",
       "      <td>174567.000000</td>\n",
       "      <td>174567.000000</td>\n",
       "      <td>174567</td>\n",
       "    </tr>\n",
       "    <tr>\n",
       "      <th>unique</th>\n",
       "      <td>1093</td>\n",
       "      <td>67</td>\n",
       "      <td>NaN</td>\n",
       "      <td>NaN</td>\n",
       "      <td>76419</td>\n",
       "    </tr>\n",
       "    <tr>\n",
       "      <th>top</th>\n",
       "      <td>Las Vegas</td>\n",
       "      <td>AZ</td>\n",
       "      <td>NaN</td>\n",
       "      <td>NaN</td>\n",
       "      <td>Restaurants;Pizza</td>\n",
       "    </tr>\n",
       "    <tr>\n",
       "      <th>freq</th>\n",
       "      <td>26775</td>\n",
       "      <td>52214</td>\n",
       "      <td>NaN</td>\n",
       "      <td>NaN</td>\n",
       "      <td>990</td>\n",
       "    </tr>\n",
       "    <tr>\n",
       "      <th>mean</th>\n",
       "      <td>NaN</td>\n",
       "      <td>NaN</td>\n",
       "      <td>3.632196</td>\n",
       "      <td>30.137059</td>\n",
       "      <td>NaN</td>\n",
       "    </tr>\n",
       "    <tr>\n",
       "      <th>std</th>\n",
       "      <td>NaN</td>\n",
       "      <td>NaN</td>\n",
       "      <td>1.003739</td>\n",
       "      <td>98.208174</td>\n",
       "      <td>NaN</td>\n",
       "    </tr>\n",
       "    <tr>\n",
       "      <th>min</th>\n",
       "      <td>NaN</td>\n",
       "      <td>NaN</td>\n",
       "      <td>1.000000</td>\n",
       "      <td>3.000000</td>\n",
       "      <td>NaN</td>\n",
       "    </tr>\n",
       "    <tr>\n",
       "      <th>25%</th>\n",
       "      <td>NaN</td>\n",
       "      <td>NaN</td>\n",
       "      <td>3.000000</td>\n",
       "      <td>4.000000</td>\n",
       "      <td>NaN</td>\n",
       "    </tr>\n",
       "    <tr>\n",
       "      <th>50%</th>\n",
       "      <td>NaN</td>\n",
       "      <td>NaN</td>\n",
       "      <td>3.500000</td>\n",
       "      <td>8.000000</td>\n",
       "      <td>NaN</td>\n",
       "    </tr>\n",
       "    <tr>\n",
       "      <th>75%</th>\n",
       "      <td>NaN</td>\n",
       "      <td>NaN</td>\n",
       "      <td>4.500000</td>\n",
       "      <td>23.000000</td>\n",
       "      <td>NaN</td>\n",
       "    </tr>\n",
       "    <tr>\n",
       "      <th>max</th>\n",
       "      <td>NaN</td>\n",
       "      <td>NaN</td>\n",
       "      <td>5.000000</td>\n",
       "      <td>7361.000000</td>\n",
       "      <td>NaN</td>\n",
       "    </tr>\n",
       "  </tbody>\n",
       "</table>\n",
       "</div>"
      ],
      "text/plain": [
       "             city   state          stars   review_count         categories\n",
       "count      174566  174566  174567.000000  174567.000000             174567\n",
       "unique       1093      67            NaN            NaN              76419\n",
       "top     Las Vegas      AZ            NaN            NaN  Restaurants;Pizza\n",
       "freq        26775   52214            NaN            NaN                990\n",
       "mean          NaN     NaN       3.632196      30.137059                NaN\n",
       "std           NaN     NaN       1.003739      98.208174                NaN\n",
       "min           NaN     NaN       1.000000       3.000000                NaN\n",
       "25%           NaN     NaN       3.000000       4.000000                NaN\n",
       "50%           NaN     NaN       3.500000       8.000000                NaN\n",
       "75%           NaN     NaN       4.500000      23.000000                NaN\n",
       "max           NaN     NaN       5.000000    7361.000000                NaN"
      ]
     },
     "execution_count": 23,
     "metadata": {},
     "output_type": "execute_result"
    }
   ],
   "source": [
    "business_df.describe(include='all')"
   ]
  },
  {
   "cell_type": "markdown",
   "metadata": {},
   "source": [
    "Because we are visualizing only restaurant review data, we want to extract observations that have Restaurants value in their category attribute."
   ]
  },
  {
   "cell_type": "code",
   "execution_count": 24,
   "metadata": {},
   "outputs": [
    {
     "data": {
      "text/plain": [
       "Restaurants;Pizza                                                                                                                                                                                       990\n",
       "Pizza;Restaurants                                                                                                                                                                                       987\n",
       "Food;Coffee & Tea                                                                                                                                                                                       978\n",
       "Nail Salons;Beauty & Spas                                                                                                                                                                               936\n",
       "Coffee & Tea;Food                                                                                                                                                                                       929\n",
       "Beauty & Spas;Nail Salons                                                                                                                                                                               909\n",
       "Mexican;Restaurants                                                                                                                                                                                     906\n",
       "Restaurants;Mexican                                                                                                                                                                                     864\n",
       "Restaurants;Chinese                                                                                                                                                                                     857\n",
       "Chinese;Restaurants                                                                                                                                                                                     839\n",
       "Beauty & Spas;Hair Salons                                                                                                                                                                               839\n",
       "Hair Salons;Beauty & Spas                                                                                                                                                                               781\n",
       "Restaurants;Italian                                                                                                                                                                                     615\n",
       "Italian;Restaurants                                                                                                                                                                                     554\n",
       "Auto Repair;Automotive                                                                                                                                                                                  551\n",
       "Grocery;Food                                                                                                                                                                                            538\n",
       "Food;Grocery                                                                                                                                                                                            522\n",
       "Automotive;Auto Repair                                                                                                                                                                                  504\n",
       "Na                                                                                                                                                                                                      500\n",
       "Food;Ice Cream & Frozen Yogurt                                                                                                                                                                          424\n",
       "Ice Cream & Frozen Yogurt;Food                                                                                                                                                                          389\n",
       "Financial Services;Banks & Credit Unions                                                                                                                                                                382\n",
       "Food;Bakeries                                                                                                                                                                                           374\n",
       "Restaurants                                                                                                                                                                                             362\n",
       "Bakeries;Food                                                                                                                                                                                           357\n",
       "Beauty & Spas;Barbers                                                                                                                                                                                   355\n",
       "Banks & Credit Unions;Financial Services                                                                                                                                                                346\n",
       "Barbers;Beauty & Spas                                                                                                                                                                                   346\n",
       "Restaurants;American (Traditional)                                                                                                                                                                      311\n",
       "Apartments;Real Estate;Home Services                                                                                                                                                                    309\n",
       "                                                                                                                                                                                                       ... \n",
       "Permanent Makeup;Beauty & Spas;Piercing;Arts & Entertainment;Tattoo                                                                                                                                       1\n",
       "Local Services;Active Life;Funeral Services & Cemeteries                                                                                                                                                  1\n",
       "Farming Equipment;Trailer Dealers;Shopping;Landscaping;Home & Garden;Automotive;Nurseries & Gardening;Home Services;Livestock Feed & Supply                                                               1\n",
       "Nutritionists;Health & Medical;Discount Store;Juice Bars & Smoothies;Vitamins & Supplements;Food;Weight Loss Centers;Shopping                                                                             1\n",
       "Shopping;Local Flavor;Pop-up Shops                                                                                                                                                                        1\n",
       "Restaurants;Bars;Breakfast & Brunch;Mexican;Nightlife;Sports Bars                                                                                                                                         1\n",
       "Sushi Bars;Restaurants;Korean;Japanese                                                                                                                                                                    1\n",
       "Beaches;Dog Parks;Parks;Active Life                                                                                                                                                                       1\n",
       "Department Stores;Fashion;Electronics;Grocery;Food;Mobile Phones;Drugstores;Shopping;Discount Store                                                                                                       1\n",
       "Bars;Restaurants;Nightlife;Barbeque                                                                                                                                                                       1\n",
       "Italian;Buffets;Restaurants;Food;Ice Cream & Frozen Yogurt;Sandwiches;Pizza;Fast Food                                                                                                                     1\n",
       "Food Trucks;Street Vendors;Restaurants;Food Stands;Food                                                                                                                                                   1\n",
       "Caterers;Event Planning & Services;Seafood;Food;Salad;Desserts;Italian;Venues & Event Spaces;Restaurants                                                                                                  1\n",
       "Restaurants;Pizza;Buffets;Chicken Wings                                                                                                                                                                   1\n",
       "Desserts;Restaurants;Food;Ice Cream & Frozen Yogurt;Italian                                                                                                                                               1\n",
       "Trainers;Gyms;Boxing;Fitness & Instruction;Martial Arts;Active Life                                                                                                                                       1\n",
       "Food;Vegan;Gluten-Free;Vegetarian;Breakfast & Brunch;Desserts;Mediterranean;Sandwiches;Restaurants                                                                                                        1\n",
       "Shopping;Fashion;Outlet Stores;Men's Clothing;Women's Clothing                                                                                                                                            1\n",
       "Real Estate;Local Services;Estate Planning Law;Professional Services;Funeral Services & Cemeteries;Lawyers;Home Services;Shopping;Estate Liquidation;Antiques;Wills;Trusts;& Probates;Auction Houses      1\n",
       "Shopping;Drugstores;Cosmetics & Beauty Supply;Beauty & Spas;Convenience Stores;Photography Stores & Services;Food                                                                                         1\n",
       "Food;Bubble Tea;Coffee & Tea;Restaurants;Taiwanese;Juice Bars & Smoothies                                                                                                                                 1\n",
       "Fitness & Instruction;Massage Therapy;Massage Schools;Acupuncture;Active Life;Traditional Chinese Medicine;Yoga;Health & Medical;Specialty Schools;Education                                              1\n",
       "Massage Therapy;Beauty & Spas;Health & Medical;Skin Care;Massage                                                                                                                                          1\n",
       "Home Services;Home & Garden;Shopping;Furniture Stores;Home Decor;Kitchen & Bath;Lighting Fixtures & Equipment                                                                                             1\n",
       "Flowers & Gifts;Food;Shopping;Tobacco Shops;Beer;Wine & Spirits;Head Shops                                                                                                                                1\n",
       "Food;Breakfast & Brunch;Restaurants;French;Southern;Coffee & Tea                                                                                                                                          1\n",
       "Pressure Washers;Window Washing;Home Services                                                                                                                                                             1\n",
       "Clowns;Balloon Services;Fashion;Party & Event Planning;Arts & Entertainment;Performing Arts;Shopping;Face Painting;Event Planning & Services                                                              1\n",
       "Graphic Design;Web Design;Professional Services                                                                                                                                                           1\n",
       "Arts & Entertainment;Food;Grocery;Wineries                                                                                                                                                                1\n",
       "Name: categories, Length: 76419, dtype: int64"
      ]
     },
     "execution_count": 24,
     "metadata": {},
     "output_type": "execute_result"
    }
   ],
   "source": [
    "business_df.categories.value_counts()"
   ]
  },
  {
   "cell_type": "code",
   "execution_count": 25,
   "metadata": {},
   "outputs": [],
   "source": [
    "# Matching 'Restaurants' string with categories attribute and extracting a new dataframe\n",
    "restaurants_df = business_df[business_df['categories'].str.contains('Restaurants')]"
   ]
  },
  {
   "cell_type": "code",
   "execution_count": 26,
   "metadata": {},
   "outputs": [
    {
     "data": {
      "text/plain": [
       "(54618, 5)"
      ]
     },
     "execution_count": 26,
     "metadata": {},
     "output_type": "execute_result"
    }
   ],
   "source": [
    "restaurants_df.shape"
   ]
  },
  {
   "cell_type": "code",
   "execution_count": 27,
   "metadata": {},
   "outputs": [
    {
     "data": {
      "text/html": [
       "<div>\n",
       "<style scoped>\n",
       "    .dataframe tbody tr th:only-of-type {\n",
       "        vertical-align: middle;\n",
       "    }\n",
       "\n",
       "    .dataframe tbody tr th {\n",
       "        vertical-align: top;\n",
       "    }\n",
       "\n",
       "    .dataframe thead th {\n",
       "        text-align: right;\n",
       "    }\n",
       "</style>\n",
       "<table border=\"1\" class=\"dataframe\">\n",
       "  <thead>\n",
       "    <tr style=\"text-align: right;\">\n",
       "      <th></th>\n",
       "      <th>city</th>\n",
       "      <th>state</th>\n",
       "      <th>stars</th>\n",
       "      <th>review_count</th>\n",
       "      <th>categories</th>\n",
       "    </tr>\n",
       "    <tr>\n",
       "      <th>business_id</th>\n",
       "      <th></th>\n",
       "      <th></th>\n",
       "      <th></th>\n",
       "      <th></th>\n",
       "      <th></th>\n",
       "    </tr>\n",
       "  </thead>\n",
       "  <tbody>\n",
       "    <tr>\n",
       "      <th>PfOCPjBrlQAnz__NXj9h_w</th>\n",
       "      <td>Cuyahoga Falls</td>\n",
       "      <td>OH</td>\n",
       "      <td>3.5</td>\n",
       "      <td>116</td>\n",
       "      <td>American (New);Nightlife;Bars;Sandwiches;Ameri...</td>\n",
       "    </tr>\n",
       "    <tr>\n",
       "      <th>o9eMRCWt5PkpLDE0gOPtcQ</th>\n",
       "      <td>Stuttgart</td>\n",
       "      <td>BW</td>\n",
       "      <td>4.0</td>\n",
       "      <td>5</td>\n",
       "      <td>Italian;Restaurants</td>\n",
       "    </tr>\n",
       "    <tr>\n",
       "      <th>XOSRcvtaKc_Q5H1SAzN20A</th>\n",
       "      <td>Houston</td>\n",
       "      <td>PA</td>\n",
       "      <td>4.5</td>\n",
       "      <td>3</td>\n",
       "      <td>Breakfast &amp; Brunch;Gluten-Free;Coffee &amp; Tea;Fo...</td>\n",
       "    </tr>\n",
       "    <tr>\n",
       "      <th>fNMVV_ZX7CJSDWQGdOM8Nw</th>\n",
       "      <td>Charlotte</td>\n",
       "      <td>NC</td>\n",
       "      <td>3.5</td>\n",
       "      <td>7</td>\n",
       "      <td>Restaurants;American (Traditional)</td>\n",
       "    </tr>\n",
       "    <tr>\n",
       "      <th>l09JfMeQ6ynYs5MCJtrcmQ</th>\n",
       "      <td>Toronto</td>\n",
       "      <td>ON</td>\n",
       "      <td>3.0</td>\n",
       "      <td>12</td>\n",
       "      <td>Italian;French;Restaurants</td>\n",
       "    </tr>\n",
       "  </tbody>\n",
       "</table>\n",
       "</div>"
      ],
      "text/plain": [
       "                                  city state  stars  review_count  \\\n",
       "business_id                                                         \n",
       "PfOCPjBrlQAnz__NXj9h_w  Cuyahoga Falls    OH    3.5           116   \n",
       "o9eMRCWt5PkpLDE0gOPtcQ       Stuttgart    BW    4.0             5   \n",
       "XOSRcvtaKc_Q5H1SAzN20A         Houston    PA    4.5             3   \n",
       "fNMVV_ZX7CJSDWQGdOM8Nw       Charlotte    NC    3.5             7   \n",
       "l09JfMeQ6ynYs5MCJtrcmQ         Toronto    ON    3.0            12   \n",
       "\n",
       "                                                               categories  \n",
       "business_id                                                                \n",
       "PfOCPjBrlQAnz__NXj9h_w  American (New);Nightlife;Bars;Sandwiches;Ameri...  \n",
       "o9eMRCWt5PkpLDE0gOPtcQ                                Italian;Restaurants  \n",
       "XOSRcvtaKc_Q5H1SAzN20A  Breakfast & Brunch;Gluten-Free;Coffee & Tea;Fo...  \n",
       "fNMVV_ZX7CJSDWQGdOM8Nw                 Restaurants;American (Traditional)  \n",
       "l09JfMeQ6ynYs5MCJtrcmQ                         Italian;French;Restaurants  "
      ]
     },
     "execution_count": 27,
     "metadata": {},
     "output_type": "execute_result"
    }
   ],
   "source": [
    "restaurants_df.head()"
   ]
  },
  {
   "cell_type": "markdown",
   "metadata": {},
   "source": [
    "Inspecting the DF for missing values"
   ]
  },
  {
   "cell_type": "code",
   "execution_count": 28,
   "metadata": {},
   "outputs": [
    {
     "name": "stdout",
     "output_type": "stream",
     "text": [
      "<class 'pandas.core.frame.DataFrame'>\n",
      "Index: 54618 entries, PfOCPjBrlQAnz__NXj9h_w to UdEmYOnk2iJDY9lpEPAlJQ\n",
      "Data columns (total 5 columns):\n",
      "city            54618 non-null object\n",
      "state           54618 non-null object\n",
      "stars           54618 non-null float64\n",
      "review_count    54618 non-null int64\n",
      "categories      54618 non-null object\n",
      "dtypes: float64(1), int64(1), object(3)\n",
      "memory usage: 2.5+ MB\n"
     ]
    }
   ],
   "source": [
    "restaurants_df.info()"
   ]
  },
  {
   "cell_type": "markdown",
   "metadata": {},
   "source": [
    "We want to replace the Restaurants string in categories attribute, because it doesn't provide any additional information"
   ]
  },
  {
   "cell_type": "code",
   "execution_count": 29,
   "metadata": {},
   "outputs": [
    {
     "name": "stderr",
     "output_type": "stream",
     "text": [
      "C:\\Users\\joona\\Anaconda3\\lib\\site-packages\\ipykernel_launcher.py:1: SettingWithCopyWarning: \n",
      "A value is trying to be set on a copy of a slice from a DataFrame.\n",
      "Try using .loc[row_indexer,col_indexer] = value instead\n",
      "\n",
      "See the caveats in the documentation: http://pandas.pydata.org/pandas-docs/stable/indexing.html#indexing-view-versus-copy\n",
      "  \"\"\"Entry point for launching an IPython kernel.\n"
     ]
    }
   ],
   "source": [
    "restaurants_df['categories'] = restaurants_df['categories'].replace({';Restaurants' : '', 'Restaurants;' : '', 'Restaurants' : ''}, regex=True)"
   ]
  },
  {
   "cell_type": "code",
   "execution_count": 30,
   "metadata": {},
   "outputs": [
    {
     "data": {
      "text/html": [
       "<div>\n",
       "<style scoped>\n",
       "    .dataframe tbody tr th:only-of-type {\n",
       "        vertical-align: middle;\n",
       "    }\n",
       "\n",
       "    .dataframe tbody tr th {\n",
       "        vertical-align: top;\n",
       "    }\n",
       "\n",
       "    .dataframe thead th {\n",
       "        text-align: right;\n",
       "    }\n",
       "</style>\n",
       "<table border=\"1\" class=\"dataframe\">\n",
       "  <thead>\n",
       "    <tr style=\"text-align: right;\">\n",
       "      <th></th>\n",
       "      <th>city</th>\n",
       "      <th>state</th>\n",
       "      <th>stars</th>\n",
       "      <th>review_count</th>\n",
       "      <th>categories</th>\n",
       "    </tr>\n",
       "    <tr>\n",
       "      <th>business_id</th>\n",
       "      <th></th>\n",
       "      <th></th>\n",
       "      <th></th>\n",
       "      <th></th>\n",
       "      <th></th>\n",
       "    </tr>\n",
       "  </thead>\n",
       "  <tbody>\n",
       "    <tr>\n",
       "      <th>PfOCPjBrlQAnz__NXj9h_w</th>\n",
       "      <td>Cuyahoga Falls</td>\n",
       "      <td>OH</td>\n",
       "      <td>3.5</td>\n",
       "      <td>116</td>\n",
       "      <td>American (New);Nightlife;Bars;Sandwiches;Ameri...</td>\n",
       "    </tr>\n",
       "    <tr>\n",
       "      <th>o9eMRCWt5PkpLDE0gOPtcQ</th>\n",
       "      <td>Stuttgart</td>\n",
       "      <td>BW</td>\n",
       "      <td>4.0</td>\n",
       "      <td>5</td>\n",
       "      <td>Italian</td>\n",
       "    </tr>\n",
       "    <tr>\n",
       "      <th>XOSRcvtaKc_Q5H1SAzN20A</th>\n",
       "      <td>Houston</td>\n",
       "      <td>PA</td>\n",
       "      <td>4.5</td>\n",
       "      <td>3</td>\n",
       "      <td>Breakfast &amp; Brunch;Gluten-Free;Coffee &amp; Tea;Fo...</td>\n",
       "    </tr>\n",
       "    <tr>\n",
       "      <th>fNMVV_ZX7CJSDWQGdOM8Nw</th>\n",
       "      <td>Charlotte</td>\n",
       "      <td>NC</td>\n",
       "      <td>3.5</td>\n",
       "      <td>7</td>\n",
       "      <td>American (Traditional)</td>\n",
       "    </tr>\n",
       "    <tr>\n",
       "      <th>l09JfMeQ6ynYs5MCJtrcmQ</th>\n",
       "      <td>Toronto</td>\n",
       "      <td>ON</td>\n",
       "      <td>3.0</td>\n",
       "      <td>12</td>\n",
       "      <td>Italian;French</td>\n",
       "    </tr>\n",
       "  </tbody>\n",
       "</table>\n",
       "</div>"
      ],
      "text/plain": [
       "                                  city state  stars  review_count  \\\n",
       "business_id                                                         \n",
       "PfOCPjBrlQAnz__NXj9h_w  Cuyahoga Falls    OH    3.5           116   \n",
       "o9eMRCWt5PkpLDE0gOPtcQ       Stuttgart    BW    4.0             5   \n",
       "XOSRcvtaKc_Q5H1SAzN20A         Houston    PA    4.5             3   \n",
       "fNMVV_ZX7CJSDWQGdOM8Nw       Charlotte    NC    3.5             7   \n",
       "l09JfMeQ6ynYs5MCJtrcmQ         Toronto    ON    3.0            12   \n",
       "\n",
       "                                                               categories  \n",
       "business_id                                                                \n",
       "PfOCPjBrlQAnz__NXj9h_w  American (New);Nightlife;Bars;Sandwiches;Ameri...  \n",
       "o9eMRCWt5PkpLDE0gOPtcQ                                            Italian  \n",
       "XOSRcvtaKc_Q5H1SAzN20A  Breakfast & Brunch;Gluten-Free;Coffee & Tea;Fo...  \n",
       "fNMVV_ZX7CJSDWQGdOM8Nw                             American (Traditional)  \n",
       "l09JfMeQ6ynYs5MCJtrcmQ                                     Italian;French  "
      ]
     },
     "execution_count": 30,
     "metadata": {},
     "output_type": "execute_result"
    }
   ],
   "source": [
    "restaurants_df.head()"
   ]
  },
  {
   "cell_type": "markdown",
   "metadata": {},
   "source": [
    "Now we want to split the categories column by \";\" character and add the first given category (the most important one) to the restaurants_df."
   ]
  },
  {
   "cell_type": "code",
   "execution_count": 31,
   "metadata": {},
   "outputs": [
    {
     "name": "stderr",
     "output_type": "stream",
     "text": [
      "C:\\Users\\joona\\Anaconda3\\lib\\site-packages\\ipykernel_launcher.py:1: SettingWithCopyWarning: \n",
      "A value is trying to be set on a copy of a slice from a DataFrame.\n",
      "Try using .loc[row_indexer,col_indexer] = value instead\n",
      "\n",
      "See the caveats in the documentation: http://pandas.pydata.org/pandas-docs/stable/indexing.html#indexing-view-versus-copy\n",
      "  \"\"\"Entry point for launching an IPython kernel.\n"
     ]
    },
    {
     "data": {
      "text/html": [
       "<div>\n",
       "<style scoped>\n",
       "    .dataframe tbody tr th:only-of-type {\n",
       "        vertical-align: middle;\n",
       "    }\n",
       "\n",
       "    .dataframe tbody tr th {\n",
       "        vertical-align: top;\n",
       "    }\n",
       "\n",
       "    .dataframe thead th {\n",
       "        text-align: right;\n",
       "    }\n",
       "</style>\n",
       "<table border=\"1\" class=\"dataframe\">\n",
       "  <thead>\n",
       "    <tr style=\"text-align: right;\">\n",
       "      <th></th>\n",
       "      <th>city</th>\n",
       "      <th>state</th>\n",
       "      <th>stars</th>\n",
       "      <th>review_count</th>\n",
       "      <th>category</th>\n",
       "    </tr>\n",
       "    <tr>\n",
       "      <th>business_id</th>\n",
       "      <th></th>\n",
       "      <th></th>\n",
       "      <th></th>\n",
       "      <th></th>\n",
       "      <th></th>\n",
       "    </tr>\n",
       "  </thead>\n",
       "  <tbody>\n",
       "    <tr>\n",
       "      <th>PfOCPjBrlQAnz__NXj9h_w</th>\n",
       "      <td>Cuyahoga Falls</td>\n",
       "      <td>OH</td>\n",
       "      <td>3.5</td>\n",
       "      <td>116</td>\n",
       "      <td>American (New)</td>\n",
       "    </tr>\n",
       "    <tr>\n",
       "      <th>o9eMRCWt5PkpLDE0gOPtcQ</th>\n",
       "      <td>Stuttgart</td>\n",
       "      <td>BW</td>\n",
       "      <td>4.0</td>\n",
       "      <td>5</td>\n",
       "      <td>Italian</td>\n",
       "    </tr>\n",
       "    <tr>\n",
       "      <th>XOSRcvtaKc_Q5H1SAzN20A</th>\n",
       "      <td>Houston</td>\n",
       "      <td>PA</td>\n",
       "      <td>4.5</td>\n",
       "      <td>3</td>\n",
       "      <td>Breakfast &amp; Brunch</td>\n",
       "    </tr>\n",
       "    <tr>\n",
       "      <th>fNMVV_ZX7CJSDWQGdOM8Nw</th>\n",
       "      <td>Charlotte</td>\n",
       "      <td>NC</td>\n",
       "      <td>3.5</td>\n",
       "      <td>7</td>\n",
       "      <td>American (Traditional)</td>\n",
       "    </tr>\n",
       "    <tr>\n",
       "      <th>l09JfMeQ6ynYs5MCJtrcmQ</th>\n",
       "      <td>Toronto</td>\n",
       "      <td>ON</td>\n",
       "      <td>3.0</td>\n",
       "      <td>12</td>\n",
       "      <td>Italian</td>\n",
       "    </tr>\n",
       "  </tbody>\n",
       "</table>\n",
       "</div>"
      ],
      "text/plain": [
       "                                  city state  stars  review_count  \\\n",
       "business_id                                                         \n",
       "PfOCPjBrlQAnz__NXj9h_w  Cuyahoga Falls    OH    3.5           116   \n",
       "o9eMRCWt5PkpLDE0gOPtcQ       Stuttgart    BW    4.0             5   \n",
       "XOSRcvtaKc_Q5H1SAzN20A         Houston    PA    4.5             3   \n",
       "fNMVV_ZX7CJSDWQGdOM8Nw       Charlotte    NC    3.5             7   \n",
       "l09JfMeQ6ynYs5MCJtrcmQ         Toronto    ON    3.0            12   \n",
       "\n",
       "                                      category  \n",
       "business_id                                     \n",
       "PfOCPjBrlQAnz__NXj9h_w          American (New)  \n",
       "o9eMRCWt5PkpLDE0gOPtcQ                 Italian  \n",
       "XOSRcvtaKc_Q5H1SAzN20A      Breakfast & Brunch  \n",
       "fNMVV_ZX7CJSDWQGdOM8Nw  American (Traditional)  \n",
       "l09JfMeQ6ynYs5MCJtrcmQ                 Italian  "
      ]
     },
     "execution_count": 31,
     "metadata": {},
     "output_type": "execute_result"
    }
   ],
   "source": [
    "restaurants_df['category'] = restaurants_df.categories.str.split(';').str[0]\n",
    "\n",
    "# Drop the categories column from the dataframe\n",
    "r_df_categorized = restaurants_df.drop(columns='categories')\n",
    "r_df_categorized.head()"
   ]
  },
  {
   "cell_type": "code",
   "execution_count": 32,
   "metadata": {
    "scrolled": true
   },
   "outputs": [
    {
     "data": {
      "text/plain": [
       "Pizza                        3388\n",
       "Fast Food                    2851\n",
       "Mexican                      2559\n",
       "Chinese                      2539\n",
       "Food                         2530\n",
       "Italian                      2326\n",
       "Sandwiches                   2304\n",
       "American (Traditional)       2047\n",
       "Burgers                      1826\n",
       "Nightlife                    1570\n",
       "Breakfast & Brunch           1498\n",
       "Bars                         1488\n",
       "American (New)               1391\n",
       "Japanese                     1159\n",
       "Cafes                        1024\n",
       "Sushi Bars                    908\n",
       "Thai                          833\n",
       "Seafood                       801\n",
       "Indian                        800\n",
       "Chicken Wings                 787\n",
       "Barbeque                      672\n",
       "Vietnamese                    647\n",
       "Mediterranean                 623\n",
       "Asian Fusion                  601\n",
       "Delis                         585\n",
       "Coffee & Tea                  582\n",
       "Steakhouses                   565\n",
       "Canadian (New)                553\n",
       "Greek                         521\n",
       "Salad                         506\n",
       "                             ... \n",
       "Shared Office Spaces            1\n",
       "Roofing                         1\n",
       "Fischbroetchen                  1\n",
       "Soccer                          1\n",
       "Massage Therapy                 1\n",
       "Sailing                         1\n",
       "Laundry Services                1\n",
       "Ethical Grocery                 1\n",
       "Climbing                        1\n",
       "Izakaya                         1\n",
       "Lakes                           1\n",
       "Nail Salons                     1\n",
       "Food Tours                      1\n",
       "CSA                             1\n",
       "Honduran                        1\n",
       "Kitchen & Bath                  1\n",
       "Iberian                         1\n",
       "Cosmetics & Beauty Supply       1\n",
       "Beer Hall                       1\n",
       "Plumbing                        1\n",
       "Wok                             1\n",
       "Grilling Equipment              1\n",
       "Horse Racing                    1\n",
       "Recreation Centers              1\n",
       "Amateur Sports Teams            1\n",
       "Hiking                          1\n",
       "Limos                           1\n",
       "Flatbread                       1\n",
       "Discount Store                  1\n",
       "Furniture Rental                1\n",
       "Name: category, Length: 409, dtype: int64"
      ]
     },
     "execution_count": 32,
     "metadata": {},
     "output_type": "execute_result"
    }
   ],
   "source": [
    "# Count frequencies of different cuisines\n",
    "r_df_categorized['category'].value_counts()"
   ]
  },
  {
   "cell_type": "code",
   "execution_count": 33,
   "metadata": {},
   "outputs": [
    {
     "name": "stdout",
     "output_type": "stream",
     "text": [
      "['Pizza', 'Fast Food', 'Mexican', 'Chinese', 'Food', 'Italian', 'Sandwiches', 'American (Traditional)', 'Burgers', 'Nightlife', 'Breakfast & Brunch', 'Bars', 'American (New)', 'Japanese', 'Cafes', 'Sushi Bars', 'Thai', 'Seafood', 'Indian', 'Chicken Wings', 'Barbeque', 'Vietnamese', 'Mediterranean', 'Asian Fusion', 'Delis', 'Coffee & Tea', 'Steakhouses', 'Canadian (New)', 'Greek', 'Salad', 'French', 'Diners', 'Middle Eastern', 'Korean', 'Event Planning & Services', '', 'Buffets', 'Caribbean', 'Caterers', 'Bakeries', 'Sports Bars', 'Hot Dogs', 'Desserts', 'Vegetarian', 'Specialty Food', 'Pubs', 'Tex-Mex', 'German', 'Latin American', 'Soup']\n"
     ]
    }
   ],
   "source": [
    "# Let's pick 50 most frequent out of these and read them into a list\n",
    "\n",
    "# Read all food categories to an list\n",
    "food_categories_list = r_df_categorized['category'].value_counts().index.tolist()\n",
    "\n",
    "# Select 50 most frequent cuisines and remove one empty (category with only Restaurant) and 'Event Planning and Services'\n",
    "food_categories_50 = food_categories_list[0:50]\n",
    "print(food_categories_50)"
   ]
  },
  {
   "cell_type": "code",
   "execution_count": 34,
   "metadata": {},
   "outputs": [
    {
     "name": "stdout",
     "output_type": "stream",
     "text": [
      "['Pizza' 'Fast Food' 'Mexican' 'Chinese' 'Italian' 'Sandwiches'\n",
      " 'American (Traditional)' 'Burgers' 'Breakfast & Brunch' 'American (New)'\n",
      " 'Japanese' 'Cafes' 'Sushi Bars' 'Thai' 'Seafood' 'Indian' 'Chicken Wings'\n",
      " 'Barbeque' 'Vietnamese' 'Mediterranean' 'Asian Fusion' 'Delis'\n",
      " 'Steakhouses' 'Canadian (New)' 'Greek' 'Salad' 'French' 'Diners'\n",
      " 'Middle Eastern' 'Korean' 'Caribbean' 'Bakeries' 'Hot Dogs' 'Desserts'\n",
      " 'Vegetarian' 'Tex-Mex' 'German' 'Latin American' 'Soup']\n"
     ]
    }
   ],
   "source": [
    "# Let's remove categories that are not usefull in our case (for rxample nightlife)\n",
    "\n",
    "indexes = (4, 9, 11, 25, 34, 35, 36, 38, 40, 44, 45)\n",
    "food_categories = np.delete(food_categories_50, indexes)\n",
    "print(food_categories)"
   ]
  },
  {
   "cell_type": "code",
   "execution_count": 35,
   "metadata": {},
   "outputs": [
    {
     "name": "stdout",
     "output_type": "stream",
     "text": [
      "<class 'pandas.core.frame.DataFrame'>\n",
      "Index: 38454 entries, PfOCPjBrlQAnz__NXj9h_w to UdEmYOnk2iJDY9lpEPAlJQ\n",
      "Data columns (total 5 columns):\n",
      "city            38454 non-null object\n",
      "state           38454 non-null object\n",
      "stars           38454 non-null float64\n",
      "review_count    38454 non-null int64\n",
      "category        38454 non-null object\n",
      "dtypes: float64(1), int64(1), object(3)\n",
      "memory usage: 1.8+ MB\n"
     ]
    }
   ],
   "source": [
    "# Filter rows of containing only these most frequently used cuisines\n",
    "\n",
    "r_df_clean = r_df_categorized[r_df_categorized['category'].isin(food_categories)]\n",
    "r_df_clean.info()"
   ]
  },
  {
   "cell_type": "code",
   "execution_count": 36,
   "metadata": {},
   "outputs": [
    {
     "data": {
      "text/html": [
       "<div>\n",
       "<style scoped>\n",
       "    .dataframe tbody tr th:only-of-type {\n",
       "        vertical-align: middle;\n",
       "    }\n",
       "\n",
       "    .dataframe tbody tr th {\n",
       "        vertical-align: top;\n",
       "    }\n",
       "\n",
       "    .dataframe thead th {\n",
       "        text-align: right;\n",
       "    }\n",
       "</style>\n",
       "<table border=\"1\" class=\"dataframe\">\n",
       "  <thead>\n",
       "    <tr style=\"text-align: right;\">\n",
       "      <th></th>\n",
       "      <th>city</th>\n",
       "      <th>state</th>\n",
       "      <th>stars</th>\n",
       "      <th>review_count</th>\n",
       "      <th>category</th>\n",
       "    </tr>\n",
       "  </thead>\n",
       "  <tbody>\n",
       "    <tr>\n",
       "      <th>count</th>\n",
       "      <td>38454</td>\n",
       "      <td>38454</td>\n",
       "      <td>38454.000000</td>\n",
       "      <td>38454.000000</td>\n",
       "      <td>38454</td>\n",
       "    </tr>\n",
       "    <tr>\n",
       "      <th>unique</th>\n",
       "      <td>691</td>\n",
       "      <td>37</td>\n",
       "      <td>NaN</td>\n",
       "      <td>NaN</td>\n",
       "      <td>39</td>\n",
       "    </tr>\n",
       "    <tr>\n",
       "      <th>top</th>\n",
       "      <td>Toronto</td>\n",
       "      <td>ON</td>\n",
       "      <td>NaN</td>\n",
       "      <td>NaN</td>\n",
       "      <td>Pizza</td>\n",
       "    </tr>\n",
       "    <tr>\n",
       "      <th>freq</th>\n",
       "      <td>4890</td>\n",
       "      <td>9545</td>\n",
       "      <td>NaN</td>\n",
       "      <td>NaN</td>\n",
       "      <td>3388</td>\n",
       "    </tr>\n",
       "    <tr>\n",
       "      <th>mean</th>\n",
       "      <td>NaN</td>\n",
       "      <td>NaN</td>\n",
       "      <td>3.391130</td>\n",
       "      <td>55.770427</td>\n",
       "      <td>NaN</td>\n",
       "    </tr>\n",
       "    <tr>\n",
       "      <th>std</th>\n",
       "      <td>NaN</td>\n",
       "      <td>NaN</td>\n",
       "      <td>0.806129</td>\n",
       "      <td>142.506078</td>\n",
       "      <td>NaN</td>\n",
       "    </tr>\n",
       "    <tr>\n",
       "      <th>min</th>\n",
       "      <td>NaN</td>\n",
       "      <td>NaN</td>\n",
       "      <td>1.000000</td>\n",
       "      <td>3.000000</td>\n",
       "      <td>NaN</td>\n",
       "    </tr>\n",
       "    <tr>\n",
       "      <th>25%</th>\n",
       "      <td>NaN</td>\n",
       "      <td>NaN</td>\n",
       "      <td>3.000000</td>\n",
       "      <td>7.000000</td>\n",
       "      <td>NaN</td>\n",
       "    </tr>\n",
       "    <tr>\n",
       "      <th>50%</th>\n",
       "      <td>NaN</td>\n",
       "      <td>NaN</td>\n",
       "      <td>3.500000</td>\n",
       "      <td>17.000000</td>\n",
       "      <td>NaN</td>\n",
       "    </tr>\n",
       "    <tr>\n",
       "      <th>75%</th>\n",
       "      <td>NaN</td>\n",
       "      <td>NaN</td>\n",
       "      <td>4.000000</td>\n",
       "      <td>51.000000</td>\n",
       "      <td>NaN</td>\n",
       "    </tr>\n",
       "    <tr>\n",
       "      <th>max</th>\n",
       "      <td>NaN</td>\n",
       "      <td>NaN</td>\n",
       "      <td>5.000000</td>\n",
       "      <td>7361.000000</td>\n",
       "      <td>NaN</td>\n",
       "    </tr>\n",
       "  </tbody>\n",
       "</table>\n",
       "</div>"
      ],
      "text/plain": [
       "           city  state         stars  review_count category\n",
       "count     38454  38454  38454.000000  38454.000000    38454\n",
       "unique      691     37           NaN           NaN       39\n",
       "top     Toronto     ON           NaN           NaN    Pizza\n",
       "freq       4890   9545           NaN           NaN     3388\n",
       "mean        NaN    NaN      3.391130     55.770427      NaN\n",
       "std         NaN    NaN      0.806129    142.506078      NaN\n",
       "min         NaN    NaN      1.000000      3.000000      NaN\n",
       "25%         NaN    NaN      3.000000      7.000000      NaN\n",
       "50%         NaN    NaN      3.500000     17.000000      NaN\n",
       "75%         NaN    NaN      4.000000     51.000000      NaN\n",
       "max         NaN    NaN      5.000000   7361.000000      NaN"
      ]
     },
     "execution_count": 36,
     "metadata": {},
     "output_type": "execute_result"
    }
   ],
   "source": [
    "r_df_clean.describe(include='all')"
   ]
  },
  {
   "cell_type": "markdown",
   "metadata": {},
   "source": [
    "# Review.json Data"
   ]
  },
  {
   "cell_type": "code",
   "execution_count": 37,
   "metadata": {},
   "outputs": [],
   "source": [
    "# Columns that are used for the initial dataframe\n",
    "cols = ['review_id', 'user_id', 'business_id', 'stars', 'date']\n",
    "\n",
    "review_df = pd.read_csv('..\\Yelp Dataset\\yelp_review.csv', index_col='review_id', usecols=cols)"
   ]
  },
  {
   "cell_type": "code",
   "execution_count": 38,
   "metadata": {},
   "outputs": [
    {
     "data": {
      "text/html": [
       "<div>\n",
       "<style scoped>\n",
       "    .dataframe tbody tr th:only-of-type {\n",
       "        vertical-align: middle;\n",
       "    }\n",
       "\n",
       "    .dataframe tbody tr th {\n",
       "        vertical-align: top;\n",
       "    }\n",
       "\n",
       "    .dataframe thead th {\n",
       "        text-align: right;\n",
       "    }\n",
       "</style>\n",
       "<table border=\"1\" class=\"dataframe\">\n",
       "  <thead>\n",
       "    <tr style=\"text-align: right;\">\n",
       "      <th></th>\n",
       "      <th>user_id</th>\n",
       "      <th>business_id</th>\n",
       "      <th>stars</th>\n",
       "      <th>date</th>\n",
       "    </tr>\n",
       "    <tr>\n",
       "      <th>review_id</th>\n",
       "      <th></th>\n",
       "      <th></th>\n",
       "      <th></th>\n",
       "      <th></th>\n",
       "    </tr>\n",
       "  </thead>\n",
       "  <tbody>\n",
       "    <tr>\n",
       "      <th>vkVSCC7xljjrAI4UGfnKEQ</th>\n",
       "      <td>bv2nCi5Qv5vroFiqKGopiw</td>\n",
       "      <td>AEx2SYEUJmTxVVB18LlCwA</td>\n",
       "      <td>5</td>\n",
       "      <td>2016-05-28</td>\n",
       "    </tr>\n",
       "    <tr>\n",
       "      <th>n6QzIUObkYshz4dz2QRJTw</th>\n",
       "      <td>bv2nCi5Qv5vroFiqKGopiw</td>\n",
       "      <td>VR6GpWIda3SfvPC-lg9H3w</td>\n",
       "      <td>5</td>\n",
       "      <td>2016-05-28</td>\n",
       "    </tr>\n",
       "    <tr>\n",
       "      <th>MV3CcKScW05u5LVfF6ok0g</th>\n",
       "      <td>bv2nCi5Qv5vroFiqKGopiw</td>\n",
       "      <td>CKC0-MOWMqoeWf6s-szl8g</td>\n",
       "      <td>5</td>\n",
       "      <td>2016-05-28</td>\n",
       "    </tr>\n",
       "    <tr>\n",
       "      <th>IXvOzsEMYtiJI0CARmj77Q</th>\n",
       "      <td>bv2nCi5Qv5vroFiqKGopiw</td>\n",
       "      <td>ACFtxLv8pGrrxMm6EgjreA</td>\n",
       "      <td>4</td>\n",
       "      <td>2016-05-28</td>\n",
       "    </tr>\n",
       "    <tr>\n",
       "      <th>L_9BTb55X0GDtThi6GlZ6w</th>\n",
       "      <td>bv2nCi5Qv5vroFiqKGopiw</td>\n",
       "      <td>s2I_Ni76bjJNK9yG60iD-Q</td>\n",
       "      <td>4</td>\n",
       "      <td>2016-05-28</td>\n",
       "    </tr>\n",
       "  </tbody>\n",
       "</table>\n",
       "</div>"
      ],
      "text/plain": [
       "                                       user_id             business_id  stars  \\\n",
       "review_id                                                                       \n",
       "vkVSCC7xljjrAI4UGfnKEQ  bv2nCi5Qv5vroFiqKGopiw  AEx2SYEUJmTxVVB18LlCwA      5   \n",
       "n6QzIUObkYshz4dz2QRJTw  bv2nCi5Qv5vroFiqKGopiw  VR6GpWIda3SfvPC-lg9H3w      5   \n",
       "MV3CcKScW05u5LVfF6ok0g  bv2nCi5Qv5vroFiqKGopiw  CKC0-MOWMqoeWf6s-szl8g      5   \n",
       "IXvOzsEMYtiJI0CARmj77Q  bv2nCi5Qv5vroFiqKGopiw  ACFtxLv8pGrrxMm6EgjreA      4   \n",
       "L_9BTb55X0GDtThi6GlZ6w  bv2nCi5Qv5vroFiqKGopiw  s2I_Ni76bjJNK9yG60iD-Q      4   \n",
       "\n",
       "                              date  \n",
       "review_id                           \n",
       "vkVSCC7xljjrAI4UGfnKEQ  2016-05-28  \n",
       "n6QzIUObkYshz4dz2QRJTw  2016-05-28  \n",
       "MV3CcKScW05u5LVfF6ok0g  2016-05-28  \n",
       "IXvOzsEMYtiJI0CARmj77Q  2016-05-28  \n",
       "L_9BTb55X0GDtThi6GlZ6w  2016-05-28  "
      ]
     },
     "execution_count": 38,
     "metadata": {},
     "output_type": "execute_result"
    }
   ],
   "source": [
    "review_df.head()"
   ]
  },
  {
   "cell_type": "code",
   "execution_count": 39,
   "metadata": {},
   "outputs": [
    {
     "name": "stdout",
     "output_type": "stream",
     "text": [
      "<class 'pandas.core.frame.DataFrame'>\n",
      "Index: 5261668 entries, vkVSCC7xljjrAI4UGfnKEQ to ldsIs3sGXPJ7WM7VyAm4lQ\n",
      "Data columns (total 4 columns):\n",
      "user_id        object\n",
      "business_id    object\n",
      "stars          int64\n",
      "date           object\n",
      "dtypes: int64(1), object(3)\n",
      "memory usage: 200.7+ MB\n"
     ]
    }
   ],
   "source": [
    "# Whole dataset has: 5261668 entries\n",
    "review_df.info()"
   ]
  },
  {
   "cell_type": "code",
   "execution_count": 40,
   "metadata": {},
   "outputs": [
    {
     "data": {
      "text/html": [
       "<div>\n",
       "<style scoped>\n",
       "    .dataframe tbody tr th:only-of-type {\n",
       "        vertical-align: middle;\n",
       "    }\n",
       "\n",
       "    .dataframe tbody tr th {\n",
       "        vertical-align: top;\n",
       "    }\n",
       "\n",
       "    .dataframe thead th {\n",
       "        text-align: right;\n",
       "    }\n",
       "</style>\n",
       "<table border=\"1\" class=\"dataframe\">\n",
       "  <thead>\n",
       "    <tr style=\"text-align: right;\">\n",
       "      <th></th>\n",
       "      <th>stars</th>\n",
       "    </tr>\n",
       "  </thead>\n",
       "  <tbody>\n",
       "    <tr>\n",
       "      <th>count</th>\n",
       "      <td>5.261668e+06</td>\n",
       "    </tr>\n",
       "    <tr>\n",
       "      <th>mean</th>\n",
       "      <td>3.727739e+00</td>\n",
       "    </tr>\n",
       "    <tr>\n",
       "      <th>std</th>\n",
       "      <td>1.433593e+00</td>\n",
       "    </tr>\n",
       "    <tr>\n",
       "      <th>min</th>\n",
       "      <td>1.000000e+00</td>\n",
       "    </tr>\n",
       "    <tr>\n",
       "      <th>25%</th>\n",
       "      <td>3.000000e+00</td>\n",
       "    </tr>\n",
       "    <tr>\n",
       "      <th>50%</th>\n",
       "      <td>4.000000e+00</td>\n",
       "    </tr>\n",
       "    <tr>\n",
       "      <th>75%</th>\n",
       "      <td>5.000000e+00</td>\n",
       "    </tr>\n",
       "    <tr>\n",
       "      <th>max</th>\n",
       "      <td>5.000000e+00</td>\n",
       "    </tr>\n",
       "  </tbody>\n",
       "</table>\n",
       "</div>"
      ],
      "text/plain": [
       "              stars\n",
       "count  5.261668e+06\n",
       "mean   3.727739e+00\n",
       "std    1.433593e+00\n",
       "min    1.000000e+00\n",
       "25%    3.000000e+00\n",
       "50%    4.000000e+00\n",
       "75%    5.000000e+00\n",
       "max    5.000000e+00"
      ]
     },
     "execution_count": 40,
     "metadata": {},
     "output_type": "execute_result"
    }
   ],
   "source": [
    "review_df.describe()"
   ]
  },
  {
   "cell_type": "code",
   "execution_count": 41,
   "metadata": {},
   "outputs": [
    {
     "data": {
      "text/html": [
       "<div>\n",
       "<style scoped>\n",
       "    .dataframe tbody tr th:only-of-type {\n",
       "        vertical-align: middle;\n",
       "    }\n",
       "\n",
       "    .dataframe tbody tr th {\n",
       "        vertical-align: top;\n",
       "    }\n",
       "\n",
       "    .dataframe thead th {\n",
       "        text-align: right;\n",
       "    }\n",
       "</style>\n",
       "<table border=\"1\" class=\"dataframe\">\n",
       "  <thead>\n",
       "    <tr style=\"text-align: right;\">\n",
       "      <th></th>\n",
       "      <th>user_id</th>\n",
       "      <th>business_id</th>\n",
       "      <th>stars</th>\n",
       "      <th>date</th>\n",
       "    </tr>\n",
       "    <tr>\n",
       "      <th>review_id</th>\n",
       "      <th></th>\n",
       "      <th></th>\n",
       "      <th></th>\n",
       "      <th></th>\n",
       "    </tr>\n",
       "  </thead>\n",
       "  <tbody>\n",
       "  </tbody>\n",
       "</table>\n",
       "</div>"
      ],
      "text/plain": [
       "Empty DataFrame\n",
       "Columns: [user_id, business_id, stars, date]\n",
       "Index: []"
      ]
     },
     "execution_count": 41,
     "metadata": {},
     "output_type": "execute_result"
    }
   ],
   "source": [
    "review_df[review_df.duplicated()]"
   ]
  },
  {
   "cell_type": "code",
   "execution_count": 42,
   "metadata": {},
   "outputs": [
    {
     "data": {
      "text/plain": [
       "user_id        0\n",
       "business_id    0\n",
       "stars          0\n",
       "date           0\n",
       "dtype: int64"
      ]
     },
     "execution_count": 42,
     "metadata": {},
     "output_type": "execute_result"
    }
   ],
   "source": [
    "review_df.isna().sum()"
   ]
  },
  {
   "cell_type": "markdown",
   "metadata": {},
   "source": [
    "Dataset has no missing or duplicate values"
   ]
  },
  {
   "cell_type": "markdown",
   "metadata": {},
   "source": [
    "## User.json Data"
   ]
  },
  {
   "cell_type": "code",
   "execution_count": 45,
   "metadata": {},
   "outputs": [],
   "source": [
    "# Columns that are used for the initial dataframe\n",
    "cols = ['user_id', 'review_count', 'average_stars']\n",
    "\n",
    "user_df = pd.read_csv('..\\Yelp Dataset\\yelp_user.csv', index_col='user_id', usecols=cols)"
   ]
  },
  {
   "cell_type": "code",
   "execution_count": 46,
   "metadata": {},
   "outputs": [
    {
     "data": {
      "text/html": [
       "<div>\n",
       "<style scoped>\n",
       "    .dataframe tbody tr th:only-of-type {\n",
       "        vertical-align: middle;\n",
       "    }\n",
       "\n",
       "    .dataframe tbody tr th {\n",
       "        vertical-align: top;\n",
       "    }\n",
       "\n",
       "    .dataframe thead th {\n",
       "        text-align: right;\n",
       "    }\n",
       "</style>\n",
       "<table border=\"1\" class=\"dataframe\">\n",
       "  <thead>\n",
       "    <tr style=\"text-align: right;\">\n",
       "      <th></th>\n",
       "      <th>review_count</th>\n",
       "      <th>average_stars</th>\n",
       "    </tr>\n",
       "    <tr>\n",
       "      <th>user_id</th>\n",
       "      <th></th>\n",
       "      <th></th>\n",
       "    </tr>\n",
       "  </thead>\n",
       "  <tbody>\n",
       "    <tr>\n",
       "      <th>JJ-aSuM4pCFPdkfoZ34q0Q</th>\n",
       "      <td>10</td>\n",
       "      <td>3.70</td>\n",
       "    </tr>\n",
       "    <tr>\n",
       "      <th>uUzsFQn_6cXDh6rPNGbIFA</th>\n",
       "      <td>1</td>\n",
       "      <td>2.00</td>\n",
       "    </tr>\n",
       "    <tr>\n",
       "      <th>mBneaEEH5EMyxaVyqS-72A</th>\n",
       "      <td>6</td>\n",
       "      <td>4.67</td>\n",
       "    </tr>\n",
       "    <tr>\n",
       "      <th>W5mJGs-dcDWRGEhAzUYtoA</th>\n",
       "      <td>3</td>\n",
       "      <td>4.67</td>\n",
       "    </tr>\n",
       "    <tr>\n",
       "      <th>4E8--zUZO1Rr1IBK4_83fg</th>\n",
       "      <td>11</td>\n",
       "      <td>3.45</td>\n",
       "    </tr>\n",
       "  </tbody>\n",
       "</table>\n",
       "</div>"
      ],
      "text/plain": [
       "                        review_count  average_stars\n",
       "user_id                                            \n",
       "JJ-aSuM4pCFPdkfoZ34q0Q            10           3.70\n",
       "uUzsFQn_6cXDh6rPNGbIFA             1           2.00\n",
       "mBneaEEH5EMyxaVyqS-72A             6           4.67\n",
       "W5mJGs-dcDWRGEhAzUYtoA             3           4.67\n",
       "4E8--zUZO1Rr1IBK4_83fg            11           3.45"
      ]
     },
     "execution_count": 46,
     "metadata": {},
     "output_type": "execute_result"
    }
   ],
   "source": [
    "user_df.head()"
   ]
  },
  {
   "cell_type": "code",
   "execution_count": 47,
   "metadata": {},
   "outputs": [
    {
     "name": "stdout",
     "output_type": "stream",
     "text": [
      "<class 'pandas.core.frame.DataFrame'>\n",
      "Index: 1326100 entries, JJ-aSuM4pCFPdkfoZ34q0Q to q-1Tz4SvaTpGEMhI_xwm0Q\n",
      "Data columns (total 2 columns):\n",
      "review_count     1326100 non-null int64\n",
      "average_stars    1326100 non-null float64\n",
      "dtypes: float64(1), int64(1)\n",
      "memory usage: 30.4+ MB\n"
     ]
    }
   ],
   "source": [
    "user_df.info()"
   ]
  },
  {
   "cell_type": "code",
   "execution_count": 48,
   "metadata": {},
   "outputs": [
    {
     "data": {
      "text/html": [
       "<div>\n",
       "<style scoped>\n",
       "    .dataframe tbody tr th:only-of-type {\n",
       "        vertical-align: middle;\n",
       "    }\n",
       "\n",
       "    .dataframe tbody tr th {\n",
       "        vertical-align: top;\n",
       "    }\n",
       "\n",
       "    .dataframe thead th {\n",
       "        text-align: right;\n",
       "    }\n",
       "</style>\n",
       "<table border=\"1\" class=\"dataframe\">\n",
       "  <thead>\n",
       "    <tr style=\"text-align: right;\">\n",
       "      <th></th>\n",
       "      <th>review_count</th>\n",
       "      <th>average_stars</th>\n",
       "    </tr>\n",
       "  </thead>\n",
       "  <tbody>\n",
       "    <tr>\n",
       "      <th>count</th>\n",
       "      <td>1.326100e+06</td>\n",
       "      <td>1.326100e+06</td>\n",
       "    </tr>\n",
       "    <tr>\n",
       "      <th>mean</th>\n",
       "      <td>2.311717e+01</td>\n",
       "      <td>3.710841e+00</td>\n",
       "    </tr>\n",
       "    <tr>\n",
       "      <th>std</th>\n",
       "      <td>7.909808e+01</td>\n",
       "      <td>1.120721e+00</td>\n",
       "    </tr>\n",
       "    <tr>\n",
       "      <th>min</th>\n",
       "      <td>0.000000e+00</td>\n",
       "      <td>1.000000e+00</td>\n",
       "    </tr>\n",
       "    <tr>\n",
       "      <th>25%</th>\n",
       "      <td>2.000000e+00</td>\n",
       "      <td>3.090000e+00</td>\n",
       "    </tr>\n",
       "    <tr>\n",
       "      <th>50%</th>\n",
       "      <td>5.000000e+00</td>\n",
       "      <td>3.900000e+00</td>\n",
       "    </tr>\n",
       "    <tr>\n",
       "      <th>75%</th>\n",
       "      <td>1.500000e+01</td>\n",
       "      <td>4.610000e+00</td>\n",
       "    </tr>\n",
       "    <tr>\n",
       "      <th>max</th>\n",
       "      <td>1.195400e+04</td>\n",
       "      <td>5.000000e+00</td>\n",
       "    </tr>\n",
       "  </tbody>\n",
       "</table>\n",
       "</div>"
      ],
      "text/plain": [
       "       review_count  average_stars\n",
       "count  1.326100e+06   1.326100e+06\n",
       "mean   2.311717e+01   3.710841e+00\n",
       "std    7.909808e+01   1.120721e+00\n",
       "min    0.000000e+00   1.000000e+00\n",
       "25%    2.000000e+00   3.090000e+00\n",
       "50%    5.000000e+00   3.900000e+00\n",
       "75%    1.500000e+01   4.610000e+00\n",
       "max    1.195400e+04   5.000000e+00"
      ]
     },
     "execution_count": 48,
     "metadata": {},
     "output_type": "execute_result"
    }
   ],
   "source": [
    "user_df.describe()"
   ]
  },
  {
   "cell_type": "markdown",
   "metadata": {},
   "source": [
    "## Merging DataFrames"
   ]
  },
  {
   "cell_type": "markdown",
   "metadata": {},
   "source": [
    "Let's start merging by inspecting all dataframes and renaming columns that have conflicting names in different dataframes to avoid running into trouble later on"
   ]
  },
  {
   "cell_type": "code",
   "execution_count": 49,
   "metadata": {},
   "outputs": [
    {
     "name": "stderr",
     "output_type": "stream",
     "text": [
      "C:\\Users\\joona\\Anaconda3\\lib\\site-packages\\pandas\\core\\frame.py:3027: SettingWithCopyWarning: \n",
      "A value is trying to be set on a copy of a slice from a DataFrame\n",
      "\n",
      "See the caveats in the documentation: http://pandas.pydata.org/pandas-docs/stable/indexing.html#indexing-view-versus-copy\n",
      "  return super(DataFrame, self).rename(**kwargs)\n"
     ]
    },
    {
     "data": {
      "text/html": [
       "<div>\n",
       "<style scoped>\n",
       "    .dataframe tbody tr th:only-of-type {\n",
       "        vertical-align: middle;\n",
       "    }\n",
       "\n",
       "    .dataframe tbody tr th {\n",
       "        vertical-align: top;\n",
       "    }\n",
       "\n",
       "    .dataframe thead th {\n",
       "        text-align: right;\n",
       "    }\n",
       "</style>\n",
       "<table border=\"1\" class=\"dataframe\">\n",
       "  <thead>\n",
       "    <tr style=\"text-align: right;\">\n",
       "      <th></th>\n",
       "      <th>city</th>\n",
       "      <th>state</th>\n",
       "      <th>restaurant_stars</th>\n",
       "      <th>restaurant_review_count</th>\n",
       "      <th>category</th>\n",
       "    </tr>\n",
       "    <tr>\n",
       "      <th>business_id</th>\n",
       "      <th></th>\n",
       "      <th></th>\n",
       "      <th></th>\n",
       "      <th></th>\n",
       "      <th></th>\n",
       "    </tr>\n",
       "  </thead>\n",
       "  <tbody>\n",
       "    <tr>\n",
       "      <th>PfOCPjBrlQAnz__NXj9h_w</th>\n",
       "      <td>Cuyahoga Falls</td>\n",
       "      <td>OH</td>\n",
       "      <td>3.5</td>\n",
       "      <td>116</td>\n",
       "      <td>American (New)</td>\n",
       "    </tr>\n",
       "    <tr>\n",
       "      <th>o9eMRCWt5PkpLDE0gOPtcQ</th>\n",
       "      <td>Stuttgart</td>\n",
       "      <td>BW</td>\n",
       "      <td>4.0</td>\n",
       "      <td>5</td>\n",
       "      <td>Italian</td>\n",
       "    </tr>\n",
       "    <tr>\n",
       "      <th>XOSRcvtaKc_Q5H1SAzN20A</th>\n",
       "      <td>Houston</td>\n",
       "      <td>PA</td>\n",
       "      <td>4.5</td>\n",
       "      <td>3</td>\n",
       "      <td>Breakfast &amp; Brunch</td>\n",
       "    </tr>\n",
       "    <tr>\n",
       "      <th>fNMVV_ZX7CJSDWQGdOM8Nw</th>\n",
       "      <td>Charlotte</td>\n",
       "      <td>NC</td>\n",
       "      <td>3.5</td>\n",
       "      <td>7</td>\n",
       "      <td>American (Traditional)</td>\n",
       "    </tr>\n",
       "    <tr>\n",
       "      <th>l09JfMeQ6ynYs5MCJtrcmQ</th>\n",
       "      <td>Toronto</td>\n",
       "      <td>ON</td>\n",
       "      <td>3.0</td>\n",
       "      <td>12</td>\n",
       "      <td>Italian</td>\n",
       "    </tr>\n",
       "  </tbody>\n",
       "</table>\n",
       "</div>"
      ],
      "text/plain": [
       "                                  city state  restaurant_stars  \\\n",
       "business_id                                                      \n",
       "PfOCPjBrlQAnz__NXj9h_w  Cuyahoga Falls    OH               3.5   \n",
       "o9eMRCWt5PkpLDE0gOPtcQ       Stuttgart    BW               4.0   \n",
       "XOSRcvtaKc_Q5H1SAzN20A         Houston    PA               4.5   \n",
       "fNMVV_ZX7CJSDWQGdOM8Nw       Charlotte    NC               3.5   \n",
       "l09JfMeQ6ynYs5MCJtrcmQ         Toronto    ON               3.0   \n",
       "\n",
       "                        restaurant_review_count                category  \n",
       "business_id                                                              \n",
       "PfOCPjBrlQAnz__NXj9h_w                      116          American (New)  \n",
       "o9eMRCWt5PkpLDE0gOPtcQ                        5                 Italian  \n",
       "XOSRcvtaKc_Q5H1SAzN20A                        3      Breakfast & Brunch  \n",
       "fNMVV_ZX7CJSDWQGdOM8Nw                        7  American (Traditional)  \n",
       "l09JfMeQ6ynYs5MCJtrcmQ                       12                 Italian  "
      ]
     },
     "execution_count": 49,
     "metadata": {},
     "output_type": "execute_result"
    }
   ],
   "source": [
    "r_df_clean.rename(columns={'stars': 'restaurant_stars', 'review_count': 'restaurant_review_count'}, inplace=True)\n",
    "r_df_clean.head()"
   ]
  },
  {
   "cell_type": "code",
   "execution_count": 50,
   "metadata": {},
   "outputs": [
    {
     "name": "stdout",
     "output_type": "stream",
     "text": [
      "<class 'pandas.core.frame.DataFrame'>\n",
      "Index: 38454 entries, PfOCPjBrlQAnz__NXj9h_w to UdEmYOnk2iJDY9lpEPAlJQ\n",
      "Data columns (total 5 columns):\n",
      "city                       38454 non-null object\n",
      "state                      38454 non-null object\n",
      "restaurant_stars           38454 non-null float64\n",
      "restaurant_review_count    38454 non-null int64\n",
      "category                   38454 non-null object\n",
      "dtypes: float64(1), int64(1), object(3)\n",
      "memory usage: 1.8+ MB\n"
     ]
    }
   ],
   "source": [
    "r_df_clean.info()"
   ]
  },
  {
   "cell_type": "code",
   "execution_count": 54,
   "metadata": {},
   "outputs": [
    {
     "data": {
      "text/html": [
       "<div>\n",
       "<style scoped>\n",
       "    .dataframe tbody tr th:only-of-type {\n",
       "        vertical-align: middle;\n",
       "    }\n",
       "\n",
       "    .dataframe tbody tr th {\n",
       "        vertical-align: top;\n",
       "    }\n",
       "\n",
       "    .dataframe thead th {\n",
       "        text-align: right;\n",
       "    }\n",
       "</style>\n",
       "<table border=\"1\" class=\"dataframe\">\n",
       "  <thead>\n",
       "    <tr style=\"text-align: right;\">\n",
       "      <th></th>\n",
       "      <th>user_id</th>\n",
       "      <th>business_id</th>\n",
       "      <th>review_stars</th>\n",
       "      <th>review_date</th>\n",
       "    </tr>\n",
       "    <tr>\n",
       "      <th>review_id</th>\n",
       "      <th></th>\n",
       "      <th></th>\n",
       "      <th></th>\n",
       "      <th></th>\n",
       "    </tr>\n",
       "  </thead>\n",
       "  <tbody>\n",
       "    <tr>\n",
       "      <th>vkVSCC7xljjrAI4UGfnKEQ</th>\n",
       "      <td>bv2nCi5Qv5vroFiqKGopiw</td>\n",
       "      <td>AEx2SYEUJmTxVVB18LlCwA</td>\n",
       "      <td>5</td>\n",
       "      <td>2016-05-28</td>\n",
       "    </tr>\n",
       "    <tr>\n",
       "      <th>n6QzIUObkYshz4dz2QRJTw</th>\n",
       "      <td>bv2nCi5Qv5vroFiqKGopiw</td>\n",
       "      <td>VR6GpWIda3SfvPC-lg9H3w</td>\n",
       "      <td>5</td>\n",
       "      <td>2016-05-28</td>\n",
       "    </tr>\n",
       "    <tr>\n",
       "      <th>MV3CcKScW05u5LVfF6ok0g</th>\n",
       "      <td>bv2nCi5Qv5vroFiqKGopiw</td>\n",
       "      <td>CKC0-MOWMqoeWf6s-szl8g</td>\n",
       "      <td>5</td>\n",
       "      <td>2016-05-28</td>\n",
       "    </tr>\n",
       "    <tr>\n",
       "      <th>IXvOzsEMYtiJI0CARmj77Q</th>\n",
       "      <td>bv2nCi5Qv5vroFiqKGopiw</td>\n",
       "      <td>ACFtxLv8pGrrxMm6EgjreA</td>\n",
       "      <td>4</td>\n",
       "      <td>2016-05-28</td>\n",
       "    </tr>\n",
       "    <tr>\n",
       "      <th>L_9BTb55X0GDtThi6GlZ6w</th>\n",
       "      <td>bv2nCi5Qv5vroFiqKGopiw</td>\n",
       "      <td>s2I_Ni76bjJNK9yG60iD-Q</td>\n",
       "      <td>4</td>\n",
       "      <td>2016-05-28</td>\n",
       "    </tr>\n",
       "  </tbody>\n",
       "</table>\n",
       "</div>"
      ],
      "text/plain": [
       "                                       user_id             business_id  \\\n",
       "review_id                                                                \n",
       "vkVSCC7xljjrAI4UGfnKEQ  bv2nCi5Qv5vroFiqKGopiw  AEx2SYEUJmTxVVB18LlCwA   \n",
       "n6QzIUObkYshz4dz2QRJTw  bv2nCi5Qv5vroFiqKGopiw  VR6GpWIda3SfvPC-lg9H3w   \n",
       "MV3CcKScW05u5LVfF6ok0g  bv2nCi5Qv5vroFiqKGopiw  CKC0-MOWMqoeWf6s-szl8g   \n",
       "IXvOzsEMYtiJI0CARmj77Q  bv2nCi5Qv5vroFiqKGopiw  ACFtxLv8pGrrxMm6EgjreA   \n",
       "L_9BTb55X0GDtThi6GlZ6w  bv2nCi5Qv5vroFiqKGopiw  s2I_Ni76bjJNK9yG60iD-Q   \n",
       "\n",
       "                        review_stars review_date  \n",
       "review_id                                         \n",
       "vkVSCC7xljjrAI4UGfnKEQ             5  2016-05-28  \n",
       "n6QzIUObkYshz4dz2QRJTw             5  2016-05-28  \n",
       "MV3CcKScW05u5LVfF6ok0g             5  2016-05-28  \n",
       "IXvOzsEMYtiJI0CARmj77Q             4  2016-05-28  \n",
       "L_9BTb55X0GDtThi6GlZ6w             4  2016-05-28  "
      ]
     },
     "execution_count": 54,
     "metadata": {},
     "output_type": "execute_result"
    }
   ],
   "source": [
    "review_df.rename(columns={'stars': 'review_stars', 'date': 'review_date'}, inplace=True)\n",
    "review_df.head()"
   ]
  },
  {
   "cell_type": "code",
   "execution_count": 55,
   "metadata": {},
   "outputs": [
    {
     "name": "stdout",
     "output_type": "stream",
     "text": [
      "<class 'pandas.core.frame.DataFrame'>\n",
      "Index: 5261668 entries, vkVSCC7xljjrAI4UGfnKEQ to ldsIs3sGXPJ7WM7VyAm4lQ\n",
      "Data columns (total 4 columns):\n",
      "user_id         object\n",
      "business_id     object\n",
      "review_stars    int64\n",
      "review_date     object\n",
      "dtypes: int64(1), object(3)\n",
      "memory usage: 200.7+ MB\n"
     ]
    }
   ],
   "source": [
    "review_df.info()"
   ]
  },
  {
   "cell_type": "code",
   "execution_count": 57,
   "metadata": {},
   "outputs": [
    {
     "data": {
      "text/html": [
       "<div>\n",
       "<style scoped>\n",
       "    .dataframe tbody tr th:only-of-type {\n",
       "        vertical-align: middle;\n",
       "    }\n",
       "\n",
       "    .dataframe tbody tr th {\n",
       "        vertical-align: top;\n",
       "    }\n",
       "\n",
       "    .dataframe thead th {\n",
       "        text-align: right;\n",
       "    }\n",
       "</style>\n",
       "<table border=\"1\" class=\"dataframe\">\n",
       "  <thead>\n",
       "    <tr style=\"text-align: right;\">\n",
       "      <th></th>\n",
       "      <th>user_review_count</th>\n",
       "      <th>user_average_stars</th>\n",
       "    </tr>\n",
       "    <tr>\n",
       "      <th>user_id</th>\n",
       "      <th></th>\n",
       "      <th></th>\n",
       "    </tr>\n",
       "  </thead>\n",
       "  <tbody>\n",
       "    <tr>\n",
       "      <th>JJ-aSuM4pCFPdkfoZ34q0Q</th>\n",
       "      <td>10</td>\n",
       "      <td>3.70</td>\n",
       "    </tr>\n",
       "    <tr>\n",
       "      <th>uUzsFQn_6cXDh6rPNGbIFA</th>\n",
       "      <td>1</td>\n",
       "      <td>2.00</td>\n",
       "    </tr>\n",
       "    <tr>\n",
       "      <th>mBneaEEH5EMyxaVyqS-72A</th>\n",
       "      <td>6</td>\n",
       "      <td>4.67</td>\n",
       "    </tr>\n",
       "    <tr>\n",
       "      <th>W5mJGs-dcDWRGEhAzUYtoA</th>\n",
       "      <td>3</td>\n",
       "      <td>4.67</td>\n",
       "    </tr>\n",
       "    <tr>\n",
       "      <th>4E8--zUZO1Rr1IBK4_83fg</th>\n",
       "      <td>11</td>\n",
       "      <td>3.45</td>\n",
       "    </tr>\n",
       "  </tbody>\n",
       "</table>\n",
       "</div>"
      ],
      "text/plain": [
       "                        user_review_count  user_average_stars\n",
       "user_id                                                      \n",
       "JJ-aSuM4pCFPdkfoZ34q0Q                 10                3.70\n",
       "uUzsFQn_6cXDh6rPNGbIFA                  1                2.00\n",
       "mBneaEEH5EMyxaVyqS-72A                  6                4.67\n",
       "W5mJGs-dcDWRGEhAzUYtoA                  3                4.67\n",
       "4E8--zUZO1Rr1IBK4_83fg                 11                3.45"
      ]
     },
     "execution_count": 57,
     "metadata": {},
     "output_type": "execute_result"
    }
   ],
   "source": [
    "user_df.rename(columns={'review_count': 'user_review_count', 'average_stars': 'user_average_stars'}, inplace=True)\n",
    "user_df.head()"
   ]
  },
  {
   "cell_type": "code",
   "execution_count": 58,
   "metadata": {},
   "outputs": [
    {
     "name": "stdout",
     "output_type": "stream",
     "text": [
      "<class 'pandas.core.frame.DataFrame'>\n",
      "Index: 1326100 entries, JJ-aSuM4pCFPdkfoZ34q0Q to q-1Tz4SvaTpGEMhI_xwm0Q\n",
      "Data columns (total 2 columns):\n",
      "user_review_count     1326100 non-null int64\n",
      "user_average_stars    1326100 non-null float64\n",
      "dtypes: float64(1), int64(1)\n",
      "memory usage: 30.4+ MB\n"
     ]
    }
   ],
   "source": [
    "user_df.info()"
   ]
  },
  {
   "cell_type": "markdown",
   "metadata": {},
   "source": [
    "As there are no missing values we can start merging by joining review_df and user_df on user_id. Using inner join we keep only users that have reviewed something and reviews on restaurants on the second join."
   ]
  },
  {
   "cell_type": "code",
   "execution_count": 59,
   "metadata": {},
   "outputs": [
    {
     "data": {
      "text/html": [
       "<div>\n",
       "<style scoped>\n",
       "    .dataframe tbody tr th:only-of-type {\n",
       "        vertical-align: middle;\n",
       "    }\n",
       "\n",
       "    .dataframe tbody tr th {\n",
       "        vertical-align: top;\n",
       "    }\n",
       "\n",
       "    .dataframe thead th {\n",
       "        text-align: right;\n",
       "    }\n",
       "</style>\n",
       "<table border=\"1\" class=\"dataframe\">\n",
       "  <thead>\n",
       "    <tr style=\"text-align: right;\">\n",
       "      <th></th>\n",
       "      <th>user_id</th>\n",
       "      <th>business_id</th>\n",
       "      <th>review_stars</th>\n",
       "      <th>review_date</th>\n",
       "      <th>user_review_count</th>\n",
       "      <th>user_average_stars</th>\n",
       "    </tr>\n",
       "    <tr>\n",
       "      <th>review_id</th>\n",
       "      <th></th>\n",
       "      <th></th>\n",
       "      <th></th>\n",
       "      <th></th>\n",
       "      <th></th>\n",
       "      <th></th>\n",
       "    </tr>\n",
       "  </thead>\n",
       "  <tbody>\n",
       "    <tr>\n",
       "      <th>vkVSCC7xljjrAI4UGfnKEQ</th>\n",
       "      <td>bv2nCi5Qv5vroFiqKGopiw</td>\n",
       "      <td>AEx2SYEUJmTxVVB18LlCwA</td>\n",
       "      <td>5</td>\n",
       "      <td>2016-05-28</td>\n",
       "      <td>6</td>\n",
       "      <td>4.67</td>\n",
       "    </tr>\n",
       "    <tr>\n",
       "      <th>n6QzIUObkYshz4dz2QRJTw</th>\n",
       "      <td>bv2nCi5Qv5vroFiqKGopiw</td>\n",
       "      <td>VR6GpWIda3SfvPC-lg9H3w</td>\n",
       "      <td>5</td>\n",
       "      <td>2016-05-28</td>\n",
       "      <td>6</td>\n",
       "      <td>4.67</td>\n",
       "    </tr>\n",
       "    <tr>\n",
       "      <th>MV3CcKScW05u5LVfF6ok0g</th>\n",
       "      <td>bv2nCi5Qv5vroFiqKGopiw</td>\n",
       "      <td>CKC0-MOWMqoeWf6s-szl8g</td>\n",
       "      <td>5</td>\n",
       "      <td>2016-05-28</td>\n",
       "      <td>6</td>\n",
       "      <td>4.67</td>\n",
       "    </tr>\n",
       "    <tr>\n",
       "      <th>IXvOzsEMYtiJI0CARmj77Q</th>\n",
       "      <td>bv2nCi5Qv5vroFiqKGopiw</td>\n",
       "      <td>ACFtxLv8pGrrxMm6EgjreA</td>\n",
       "      <td>4</td>\n",
       "      <td>2016-05-28</td>\n",
       "      <td>6</td>\n",
       "      <td>4.67</td>\n",
       "    </tr>\n",
       "    <tr>\n",
       "      <th>L_9BTb55X0GDtThi6GlZ6w</th>\n",
       "      <td>bv2nCi5Qv5vroFiqKGopiw</td>\n",
       "      <td>s2I_Ni76bjJNK9yG60iD-Q</td>\n",
       "      <td>4</td>\n",
       "      <td>2016-05-28</td>\n",
       "      <td>6</td>\n",
       "      <td>4.67</td>\n",
       "    </tr>\n",
       "  </tbody>\n",
       "</table>\n",
       "</div>"
      ],
      "text/plain": [
       "                                       user_id             business_id  \\\n",
       "review_id                                                                \n",
       "vkVSCC7xljjrAI4UGfnKEQ  bv2nCi5Qv5vroFiqKGopiw  AEx2SYEUJmTxVVB18LlCwA   \n",
       "n6QzIUObkYshz4dz2QRJTw  bv2nCi5Qv5vroFiqKGopiw  VR6GpWIda3SfvPC-lg9H3w   \n",
       "MV3CcKScW05u5LVfF6ok0g  bv2nCi5Qv5vroFiqKGopiw  CKC0-MOWMqoeWf6s-szl8g   \n",
       "IXvOzsEMYtiJI0CARmj77Q  bv2nCi5Qv5vroFiqKGopiw  ACFtxLv8pGrrxMm6EgjreA   \n",
       "L_9BTb55X0GDtThi6GlZ6w  bv2nCi5Qv5vroFiqKGopiw  s2I_Ni76bjJNK9yG60iD-Q   \n",
       "\n",
       "                        review_stars review_date  user_review_count  \\\n",
       "review_id                                                             \n",
       "vkVSCC7xljjrAI4UGfnKEQ             5  2016-05-28                  6   \n",
       "n6QzIUObkYshz4dz2QRJTw             5  2016-05-28                  6   \n",
       "MV3CcKScW05u5LVfF6ok0g             5  2016-05-28                  6   \n",
       "IXvOzsEMYtiJI0CARmj77Q             4  2016-05-28                  6   \n",
       "L_9BTb55X0GDtThi6GlZ6w             4  2016-05-28                  6   \n",
       "\n",
       "                        user_average_stars  \n",
       "review_id                                   \n",
       "vkVSCC7xljjrAI4UGfnKEQ                4.67  \n",
       "n6QzIUObkYshz4dz2QRJTw                4.67  \n",
       "MV3CcKScW05u5LVfF6ok0g                4.67  \n",
       "IXvOzsEMYtiJI0CARmj77Q                4.67  \n",
       "L_9BTb55X0GDtThi6GlZ6w                4.67  "
      ]
     },
     "execution_count": 59,
     "metadata": {},
     "output_type": "execute_result"
    }
   ],
   "source": [
    "user_review_df = pd.merge(review_df, user_df, how='inner', left_on=\"user_id\" , right_index= True)\n",
    "user_review_df.head()"
   ]
  },
  {
   "cell_type": "code",
   "execution_count": 61,
   "metadata": {},
   "outputs": [
    {
     "name": "stdout",
     "output_type": "stream",
     "text": [
      "<class 'pandas.core.frame.DataFrame'>\n",
      "Index: 5261662 entries, vkVSCC7xljjrAI4UGfnKEQ to ldsIs3sGXPJ7WM7VyAm4lQ\n",
      "Data columns (total 6 columns):\n",
      "user_id               object\n",
      "business_id           object\n",
      "review_stars          int64\n",
      "review_date           object\n",
      "user_review_count     int64\n",
      "user_average_stars    float64\n",
      "dtypes: float64(1), int64(2), object(3)\n",
      "memory usage: 281.0+ MB\n"
     ]
    }
   ],
   "source": [
    "user_review_df.info()"
   ]
  },
  {
   "cell_type": "code",
   "execution_count": 62,
   "metadata": {},
   "outputs": [
    {
     "data": {
      "text/html": [
       "<div>\n",
       "<style scoped>\n",
       "    .dataframe tbody tr th:only-of-type {\n",
       "        vertical-align: middle;\n",
       "    }\n",
       "\n",
       "    .dataframe tbody tr th {\n",
       "        vertical-align: top;\n",
       "    }\n",
       "\n",
       "    .dataframe thead th {\n",
       "        text-align: right;\n",
       "    }\n",
       "</style>\n",
       "<table border=\"1\" class=\"dataframe\">\n",
       "  <thead>\n",
       "    <tr style=\"text-align: right;\">\n",
       "      <th></th>\n",
       "      <th>review_stars</th>\n",
       "      <th>user_review_count</th>\n",
       "      <th>user_average_stars</th>\n",
       "    </tr>\n",
       "  </thead>\n",
       "  <tbody>\n",
       "    <tr>\n",
       "      <th>count</th>\n",
       "      <td>5.261662e+06</td>\n",
       "      <td>5.261662e+06</td>\n",
       "      <td>5.261662e+06</td>\n",
       "    </tr>\n",
       "    <tr>\n",
       "      <th>mean</th>\n",
       "      <td>3.727738e+00</td>\n",
       "      <td>1.216500e+02</td>\n",
       "      <td>3.737311e+00</td>\n",
       "    </tr>\n",
       "    <tr>\n",
       "      <th>std</th>\n",
       "      <td>1.433593e+00</td>\n",
       "      <td>3.413802e+02</td>\n",
       "      <td>7.826569e-01</td>\n",
       "    </tr>\n",
       "    <tr>\n",
       "      <th>min</th>\n",
       "      <td>1.000000e+00</td>\n",
       "      <td>0.000000e+00</td>\n",
       "      <td>1.000000e+00</td>\n",
       "    </tr>\n",
       "    <tr>\n",
       "      <th>25%</th>\n",
       "      <td>3.000000e+00</td>\n",
       "      <td>7.000000e+00</td>\n",
       "      <td>3.400000e+00</td>\n",
       "    </tr>\n",
       "    <tr>\n",
       "      <th>50%</th>\n",
       "      <td>4.000000e+00</td>\n",
       "      <td>2.400000e+01</td>\n",
       "      <td>3.800000e+00</td>\n",
       "    </tr>\n",
       "    <tr>\n",
       "      <th>75%</th>\n",
       "      <td>5.000000e+00</td>\n",
       "      <td>9.700000e+01</td>\n",
       "      <td>4.200000e+00</td>\n",
       "    </tr>\n",
       "    <tr>\n",
       "      <th>max</th>\n",
       "      <td>5.000000e+00</td>\n",
       "      <td>1.195400e+04</td>\n",
       "      <td>5.000000e+00</td>\n",
       "    </tr>\n",
       "  </tbody>\n",
       "</table>\n",
       "</div>"
      ],
      "text/plain": [
       "       review_stars  user_review_count  user_average_stars\n",
       "count  5.261662e+06       5.261662e+06        5.261662e+06\n",
       "mean   3.727738e+00       1.216500e+02        3.737311e+00\n",
       "std    1.433593e+00       3.413802e+02        7.826569e-01\n",
       "min    1.000000e+00       0.000000e+00        1.000000e+00\n",
       "25%    3.000000e+00       7.000000e+00        3.400000e+00\n",
       "50%    4.000000e+00       2.400000e+01        3.800000e+00\n",
       "75%    5.000000e+00       9.700000e+01        4.200000e+00\n",
       "max    5.000000e+00       1.195400e+04        5.000000e+00"
      ]
     },
     "execution_count": 62,
     "metadata": {},
     "output_type": "execute_result"
    }
   ],
   "source": [
    "user_review_df.describe()"
   ]
  },
  {
   "cell_type": "code",
   "execution_count": 63,
   "metadata": {},
   "outputs": [
    {
     "data": {
      "text/plain": [
       "user_id               0\n",
       "business_id           0\n",
       "review_stars          0\n",
       "review_date           0\n",
       "user_review_count     0\n",
       "user_average_stars    0\n",
       "dtype: int64"
      ]
     },
     "execution_count": 63,
     "metadata": {},
     "output_type": "execute_result"
    }
   ],
   "source": [
    "user_review_df.isna().sum()"
   ]
  },
  {
   "cell_type": "markdown",
   "metadata": {},
   "source": [
    "Now we can join user_reviews_df with r_df_clean (containing restaurant information) on business_id to form the final data frame"
   ]
  },
  {
   "cell_type": "code",
   "execution_count": 64,
   "metadata": {},
   "outputs": [
    {
     "data": {
      "text/html": [
       "<div>\n",
       "<style scoped>\n",
       "    .dataframe tbody tr th:only-of-type {\n",
       "        vertical-align: middle;\n",
       "    }\n",
       "\n",
       "    .dataframe tbody tr th {\n",
       "        vertical-align: top;\n",
       "    }\n",
       "\n",
       "    .dataframe thead th {\n",
       "        text-align: right;\n",
       "    }\n",
       "</style>\n",
       "<table border=\"1\" class=\"dataframe\">\n",
       "  <thead>\n",
       "    <tr style=\"text-align: right;\">\n",
       "      <th></th>\n",
       "      <th>user_id</th>\n",
       "      <th>business_id</th>\n",
       "      <th>review_stars</th>\n",
       "      <th>review_date</th>\n",
       "      <th>user_review_count</th>\n",
       "      <th>user_average_stars</th>\n",
       "      <th>city</th>\n",
       "      <th>state</th>\n",
       "      <th>restaurant_stars</th>\n",
       "      <th>restaurant_review_count</th>\n",
       "      <th>category</th>\n",
       "    </tr>\n",
       "    <tr>\n",
       "      <th>review_id</th>\n",
       "      <th></th>\n",
       "      <th></th>\n",
       "      <th></th>\n",
       "      <th></th>\n",
       "      <th></th>\n",
       "      <th></th>\n",
       "      <th></th>\n",
       "      <th></th>\n",
       "      <th></th>\n",
       "      <th></th>\n",
       "      <th></th>\n",
       "    </tr>\n",
       "  </thead>\n",
       "  <tbody>\n",
       "    <tr>\n",
       "      <th>vkVSCC7xljjrAI4UGfnKEQ</th>\n",
       "      <td>bv2nCi5Qv5vroFiqKGopiw</td>\n",
       "      <td>AEx2SYEUJmTxVVB18LlCwA</td>\n",
       "      <td>5</td>\n",
       "      <td>2016-05-28</td>\n",
       "      <td>6</td>\n",
       "      <td>4.67</td>\n",
       "      <td>Montréal</td>\n",
       "      <td>QC</td>\n",
       "      <td>4.0</td>\n",
       "      <td>84</td>\n",
       "      <td>Diners</td>\n",
       "    </tr>\n",
       "    <tr>\n",
       "      <th>vm1b1keOzwHjtGZEPPuYXA</th>\n",
       "      <td>xYciRtVZ1PW4IxSX4oJ1aw</td>\n",
       "      <td>AEx2SYEUJmTxVVB18LlCwA</td>\n",
       "      <td>5</td>\n",
       "      <td>2016-02-22</td>\n",
       "      <td>177</td>\n",
       "      <td>3.41</td>\n",
       "      <td>Montréal</td>\n",
       "      <td>QC</td>\n",
       "      <td>4.0</td>\n",
       "      <td>84</td>\n",
       "      <td>Diners</td>\n",
       "    </tr>\n",
       "    <tr>\n",
       "      <th>jUzausdZ_ujqe_n8BlBj-g</th>\n",
       "      <td>DVOOF0Z627DyrZ4XKQbTgA</td>\n",
       "      <td>AEx2SYEUJmTxVVB18LlCwA</td>\n",
       "      <td>5</td>\n",
       "      <td>2017-08-08</td>\n",
       "      <td>40</td>\n",
       "      <td>3.98</td>\n",
       "      <td>Montréal</td>\n",
       "      <td>QC</td>\n",
       "      <td>4.0</td>\n",
       "      <td>84</td>\n",
       "      <td>Diners</td>\n",
       "    </tr>\n",
       "    <tr>\n",
       "      <th>SXwA9KZ-Nc_hMARk_3cJ7g</th>\n",
       "      <td>5Ymfsf9fAYz-Ds_p0xawVQ</td>\n",
       "      <td>AEx2SYEUJmTxVVB18LlCwA</td>\n",
       "      <td>5</td>\n",
       "      <td>2013-03-29</td>\n",
       "      <td>79</td>\n",
       "      <td>4.52</td>\n",
       "      <td>Montréal</td>\n",
       "      <td>QC</td>\n",
       "      <td>4.0</td>\n",
       "      <td>84</td>\n",
       "      <td>Diners</td>\n",
       "    </tr>\n",
       "    <tr>\n",
       "      <th>oCRDwF3tszAkeszSfxwthg</th>\n",
       "      <td>5JoKz3mU42Cp906KRXDwJw</td>\n",
       "      <td>AEx2SYEUJmTxVVB18LlCwA</td>\n",
       "      <td>4</td>\n",
       "      <td>2009-01-17</td>\n",
       "      <td>3</td>\n",
       "      <td>4.00</td>\n",
       "      <td>Montréal</td>\n",
       "      <td>QC</td>\n",
       "      <td>4.0</td>\n",
       "      <td>84</td>\n",
       "      <td>Diners</td>\n",
       "    </tr>\n",
       "  </tbody>\n",
       "</table>\n",
       "</div>"
      ],
      "text/plain": [
       "                                       user_id             business_id  \\\n",
       "review_id                                                                \n",
       "vkVSCC7xljjrAI4UGfnKEQ  bv2nCi5Qv5vroFiqKGopiw  AEx2SYEUJmTxVVB18LlCwA   \n",
       "vm1b1keOzwHjtGZEPPuYXA  xYciRtVZ1PW4IxSX4oJ1aw  AEx2SYEUJmTxVVB18LlCwA   \n",
       "jUzausdZ_ujqe_n8BlBj-g  DVOOF0Z627DyrZ4XKQbTgA  AEx2SYEUJmTxVVB18LlCwA   \n",
       "SXwA9KZ-Nc_hMARk_3cJ7g  5Ymfsf9fAYz-Ds_p0xawVQ  AEx2SYEUJmTxVVB18LlCwA   \n",
       "oCRDwF3tszAkeszSfxwthg  5JoKz3mU42Cp906KRXDwJw  AEx2SYEUJmTxVVB18LlCwA   \n",
       "\n",
       "                        review_stars review_date  user_review_count  \\\n",
       "review_id                                                             \n",
       "vkVSCC7xljjrAI4UGfnKEQ             5  2016-05-28                  6   \n",
       "vm1b1keOzwHjtGZEPPuYXA             5  2016-02-22                177   \n",
       "jUzausdZ_ujqe_n8BlBj-g             5  2017-08-08                 40   \n",
       "SXwA9KZ-Nc_hMARk_3cJ7g             5  2013-03-29                 79   \n",
       "oCRDwF3tszAkeszSfxwthg             4  2009-01-17                  3   \n",
       "\n",
       "                        user_average_stars      city state  restaurant_stars  \\\n",
       "review_id                                                                      \n",
       "vkVSCC7xljjrAI4UGfnKEQ                4.67  Montréal    QC               4.0   \n",
       "vm1b1keOzwHjtGZEPPuYXA                3.41  Montréal    QC               4.0   \n",
       "jUzausdZ_ujqe_n8BlBj-g                3.98  Montréal    QC               4.0   \n",
       "SXwA9KZ-Nc_hMARk_3cJ7g                4.52  Montréal    QC               4.0   \n",
       "oCRDwF3tszAkeszSfxwthg                4.00  Montréal    QC               4.0   \n",
       "\n",
       "                        restaurant_review_count category  \n",
       "review_id                                                 \n",
       "vkVSCC7xljjrAI4UGfnKEQ                       84   Diners  \n",
       "vm1b1keOzwHjtGZEPPuYXA                       84   Diners  \n",
       "jUzausdZ_ujqe_n8BlBj-g                       84   Diners  \n",
       "SXwA9KZ-Nc_hMARk_3cJ7g                       84   Diners  \n",
       "oCRDwF3tszAkeszSfxwthg                       84   Diners  "
      ]
     },
     "execution_count": 64,
     "metadata": {},
     "output_type": "execute_result"
    }
   ],
   "source": [
    "final_df = pd.merge(user_review_df, r_df_clean, how='inner', left_on=\"business_id\" , right_index= True)\n",
    "final_df.head()"
   ]
  },
  {
   "cell_type": "code",
   "execution_count": 65,
   "metadata": {},
   "outputs": [
    {
     "name": "stdout",
     "output_type": "stream",
     "text": [
      "<class 'pandas.core.frame.DataFrame'>\n",
      "Index: 2144848 entries, vkVSCC7xljjrAI4UGfnKEQ to 99hWXPtbpzXXbsL43RYuKA\n",
      "Data columns (total 11 columns):\n",
      "user_id                    object\n",
      "business_id                object\n",
      "review_stars               int64\n",
      "review_date                object\n",
      "user_review_count          int64\n",
      "user_average_stars         float64\n",
      "city                       object\n",
      "state                      object\n",
      "restaurant_stars           float64\n",
      "restaurant_review_count    int64\n",
      "category                   object\n",
      "dtypes: float64(2), int64(3), object(6)\n",
      "memory usage: 196.4+ MB\n"
     ]
    }
   ],
   "source": [
    "final_df.info()"
   ]
  },
  {
   "cell_type": "code",
   "execution_count": 66,
   "metadata": {},
   "outputs": [
    {
     "data": {
      "text/plain": [
       "user_id                    0\n",
       "business_id                0\n",
       "review_stars               0\n",
       "review_date                0\n",
       "user_review_count          0\n",
       "user_average_stars         0\n",
       "city                       0\n",
       "state                      0\n",
       "restaurant_stars           0\n",
       "restaurant_review_count    0\n",
       "category                   0\n",
       "dtype: int64"
      ]
     },
     "execution_count": 66,
     "metadata": {},
     "output_type": "execute_result"
    }
   ],
   "source": [
    "final_df.isna().sum()"
   ]
  },
  {
   "cell_type": "code",
   "execution_count": 67,
   "metadata": {},
   "outputs": [
    {
     "data": {
      "text/plain": [
       "user_id                    0\n",
       "business_id                0\n",
       "review_stars               0\n",
       "review_date                0\n",
       "user_review_count          0\n",
       "user_average_stars         0\n",
       "city                       0\n",
       "state                      0\n",
       "restaurant_stars           0\n",
       "restaurant_review_count    0\n",
       "category                   0\n",
       "dtype: int64"
      ]
     },
     "execution_count": 67,
     "metadata": {},
     "output_type": "execute_result"
    }
   ],
   "source": [
    "final_df[final_df.duplicated()].count()"
   ]
  },
  {
   "cell_type": "code",
   "execution_count": 68,
   "metadata": {},
   "outputs": [
    {
     "data": {
      "text/plain": [
       "(2144848, 11)"
      ]
     },
     "execution_count": 68,
     "metadata": {},
     "output_type": "execute_result"
    }
   ],
   "source": [
    "final_df.shape"
   ]
  },
  {
   "cell_type": "markdown",
   "metadata": {},
   "source": [
    "## Data output"
   ]
  },
  {
   "cell_type": "code",
   "execution_count": 71,
   "metadata": {},
   "outputs": [],
   "source": [
    "final_df.to_csv('..\\Yelp Dataset\\merged_data.csv')"
   ]
  },
  {
   "cell_type": "code",
   "execution_count": null,
   "metadata": {},
   "outputs": [],
   "source": []
  }
 ],
 "metadata": {
  "kernelspec": {
   "display_name": "Python 3",
   "language": "python",
   "name": "python3"
  },
  "language_info": {
   "codemirror_mode": {
    "name": "ipython",
    "version": 3
   },
   "file_extension": ".py",
   "mimetype": "text/x-python",
   "name": "python",
   "nbconvert_exporter": "python",
   "pygments_lexer": "ipython3",
   "version": "3.6.9"
  }
 },
 "nbformat": 4,
 "nbformat_minor": 2
}
