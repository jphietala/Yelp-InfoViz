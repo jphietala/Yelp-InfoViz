{
 "cells": [
  {
   "cell_type": "markdown",
   "metadata": {},
   "source": [
    "# Analysis of the clean dataset"
   ]
  },
  {
   "cell_type": "markdown",
   "metadata": {},
   "source": [
    "## Basics"
   ]
  },
  {
   "cell_type": "code",
   "execution_count": 47,
   "metadata": {},
   "outputs": [
    {
     "name": "stderr",
     "output_type": "stream",
     "text": [
      "C:\\Users\\joona\\Anaconda3\\lib\\site-packages\\IPython\\core\\interactiveshell.py:3058: DtypeWarning: Columns (11) have mixed types. Specify dtype option on import or set low_memory=False.\n",
      "  interactivity=interactivity, compiler=compiler, result=result)\n"
     ]
    }
   ],
   "source": [
    "import pandas as pd\n",
    "import matplotlib.pyplot as plt\n",
    "import seaborn as sns\n",
    "%matplotlib inline\n",
    "\n",
    "df = pd.read_csv('..\\Yelp Dataset\\clean_data.csv', index_col='review_id')"
   ]
  },
  {
   "cell_type": "code",
   "execution_count": 2,
   "metadata": {},
   "outputs": [
    {
     "data": {
      "text/html": [
       "<div>\n",
       "<style scoped>\n",
       "    .dataframe tbody tr th:only-of-type {\n",
       "        vertical-align: middle;\n",
       "    }\n",
       "\n",
       "    .dataframe tbody tr th {\n",
       "        vertical-align: top;\n",
       "    }\n",
       "\n",
       "    .dataframe thead th {\n",
       "        text-align: right;\n",
       "    }\n",
       "</style>\n",
       "<table border=\"1\" class=\"dataframe\">\n",
       "  <thead>\n",
       "    <tr style=\"text-align: right;\">\n",
       "      <th></th>\n",
       "      <th>user_id</th>\n",
       "      <th>business_id</th>\n",
       "      <th>review_stars</th>\n",
       "      <th>date</th>\n",
       "      <th>user_review_count</th>\n",
       "      <th>yelping_since</th>\n",
       "      <th>fans</th>\n",
       "      <th>average_stars</th>\n",
       "      <th>city</th>\n",
       "      <th>state</th>\n",
       "      <th>postal_code</th>\n",
       "      <th>latitude</th>\n",
       "      <th>longitude</th>\n",
       "      <th>restaurant_stars</th>\n",
       "      <th>restaurant_review_count</th>\n",
       "      <th>category</th>\n",
       "    </tr>\n",
       "    <tr>\n",
       "      <th>review_id</th>\n",
       "      <th></th>\n",
       "      <th></th>\n",
       "      <th></th>\n",
       "      <th></th>\n",
       "      <th></th>\n",
       "      <th></th>\n",
       "      <th></th>\n",
       "      <th></th>\n",
       "      <th></th>\n",
       "      <th></th>\n",
       "      <th></th>\n",
       "      <th></th>\n",
       "      <th></th>\n",
       "      <th></th>\n",
       "      <th></th>\n",
       "      <th></th>\n",
       "    </tr>\n",
       "  </thead>\n",
       "  <tbody>\n",
       "    <tr>\n",
       "      <th>vkVSCC7xljjrAI4UGfnKEQ</th>\n",
       "      <td>bv2nCi5Qv5vroFiqKGopiw</td>\n",
       "      <td>AEx2SYEUJmTxVVB18LlCwA</td>\n",
       "      <td>5</td>\n",
       "      <td>2016-05-28</td>\n",
       "      <td>6</td>\n",
       "      <td>2015-12-22</td>\n",
       "      <td>0</td>\n",
       "      <td>4.67</td>\n",
       "      <td>Montréal</td>\n",
       "      <td>QC</td>\n",
       "      <td>H2T 2M1</td>\n",
       "      <td>45.523333</td>\n",
       "      <td>-73.594859</td>\n",
       "      <td>4.0</td>\n",
       "      <td>84</td>\n",
       "      <td>Diners</td>\n",
       "    </tr>\n",
       "    <tr>\n",
       "      <th>vm1b1keOzwHjtGZEPPuYXA</th>\n",
       "      <td>xYciRtVZ1PW4IxSX4oJ1aw</td>\n",
       "      <td>AEx2SYEUJmTxVVB18LlCwA</td>\n",
       "      <td>5</td>\n",
       "      <td>2016-02-22</td>\n",
       "      <td>177</td>\n",
       "      <td>2015-02-15</td>\n",
       "      <td>30</td>\n",
       "      <td>3.41</td>\n",
       "      <td>Montréal</td>\n",
       "      <td>QC</td>\n",
       "      <td>H2T 2M1</td>\n",
       "      <td>45.523333</td>\n",
       "      <td>-73.594859</td>\n",
       "      <td>4.0</td>\n",
       "      <td>84</td>\n",
       "      <td>Diners</td>\n",
       "    </tr>\n",
       "    <tr>\n",
       "      <th>jUzausdZ_ujqe_n8BlBj-g</th>\n",
       "      <td>DVOOF0Z627DyrZ4XKQbTgA</td>\n",
       "      <td>AEx2SYEUJmTxVVB18LlCwA</td>\n",
       "      <td>5</td>\n",
       "      <td>2017-08-08</td>\n",
       "      <td>40</td>\n",
       "      <td>2017-01-16</td>\n",
       "      <td>1</td>\n",
       "      <td>3.98</td>\n",
       "      <td>Montréal</td>\n",
       "      <td>QC</td>\n",
       "      <td>H2T 2M1</td>\n",
       "      <td>45.523333</td>\n",
       "      <td>-73.594859</td>\n",
       "      <td>4.0</td>\n",
       "      <td>84</td>\n",
       "      <td>Diners</td>\n",
       "    </tr>\n",
       "    <tr>\n",
       "      <th>SXwA9KZ-Nc_hMARk_3cJ7g</th>\n",
       "      <td>5Ymfsf9fAYz-Ds_p0xawVQ</td>\n",
       "      <td>AEx2SYEUJmTxVVB18LlCwA</td>\n",
       "      <td>5</td>\n",
       "      <td>2013-03-29</td>\n",
       "      <td>79</td>\n",
       "      <td>2011-04-14</td>\n",
       "      <td>8</td>\n",
       "      <td>4.52</td>\n",
       "      <td>Montréal</td>\n",
       "      <td>QC</td>\n",
       "      <td>H2T 2M1</td>\n",
       "      <td>45.523333</td>\n",
       "      <td>-73.594859</td>\n",
       "      <td>4.0</td>\n",
       "      <td>84</td>\n",
       "      <td>Diners</td>\n",
       "    </tr>\n",
       "    <tr>\n",
       "      <th>oCRDwF3tszAkeszSfxwthg</th>\n",
       "      <td>5JoKz3mU42Cp906KRXDwJw</td>\n",
       "      <td>AEx2SYEUJmTxVVB18LlCwA</td>\n",
       "      <td>4</td>\n",
       "      <td>2009-01-17</td>\n",
       "      <td>3</td>\n",
       "      <td>2008-05-29</td>\n",
       "      <td>0</td>\n",
       "      <td>4.00</td>\n",
       "      <td>Montréal</td>\n",
       "      <td>QC</td>\n",
       "      <td>H2T 2M1</td>\n",
       "      <td>45.523333</td>\n",
       "      <td>-73.594859</td>\n",
       "      <td>4.0</td>\n",
       "      <td>84</td>\n",
       "      <td>Diners</td>\n",
       "    </tr>\n",
       "  </tbody>\n",
       "</table>\n",
       "</div>"
      ],
      "text/plain": [
       "                                       user_id             business_id  \\\n",
       "review_id                                                                \n",
       "vkVSCC7xljjrAI4UGfnKEQ  bv2nCi5Qv5vroFiqKGopiw  AEx2SYEUJmTxVVB18LlCwA   \n",
       "vm1b1keOzwHjtGZEPPuYXA  xYciRtVZ1PW4IxSX4oJ1aw  AEx2SYEUJmTxVVB18LlCwA   \n",
       "jUzausdZ_ujqe_n8BlBj-g  DVOOF0Z627DyrZ4XKQbTgA  AEx2SYEUJmTxVVB18LlCwA   \n",
       "SXwA9KZ-Nc_hMARk_3cJ7g  5Ymfsf9fAYz-Ds_p0xawVQ  AEx2SYEUJmTxVVB18LlCwA   \n",
       "oCRDwF3tszAkeszSfxwthg  5JoKz3mU42Cp906KRXDwJw  AEx2SYEUJmTxVVB18LlCwA   \n",
       "\n",
       "                        review_stars        date  user_review_count  \\\n",
       "review_id                                                             \n",
       "vkVSCC7xljjrAI4UGfnKEQ             5  2016-05-28                  6   \n",
       "vm1b1keOzwHjtGZEPPuYXA             5  2016-02-22                177   \n",
       "jUzausdZ_ujqe_n8BlBj-g             5  2017-08-08                 40   \n",
       "SXwA9KZ-Nc_hMARk_3cJ7g             5  2013-03-29                 79   \n",
       "oCRDwF3tszAkeszSfxwthg             4  2009-01-17                  3   \n",
       "\n",
       "                       yelping_since  fans  average_stars      city state  \\\n",
       "review_id                                                                   \n",
       "vkVSCC7xljjrAI4UGfnKEQ    2015-12-22     0           4.67  Montréal    QC   \n",
       "vm1b1keOzwHjtGZEPPuYXA    2015-02-15    30           3.41  Montréal    QC   \n",
       "jUzausdZ_ujqe_n8BlBj-g    2017-01-16     1           3.98  Montréal    QC   \n",
       "SXwA9KZ-Nc_hMARk_3cJ7g    2011-04-14     8           4.52  Montréal    QC   \n",
       "oCRDwF3tszAkeszSfxwthg    2008-05-29     0           4.00  Montréal    QC   \n",
       "\n",
       "                       postal_code   latitude  longitude  restaurant_stars  \\\n",
       "review_id                                                                    \n",
       "vkVSCC7xljjrAI4UGfnKEQ     H2T 2M1  45.523333 -73.594859               4.0   \n",
       "vm1b1keOzwHjtGZEPPuYXA     H2T 2M1  45.523333 -73.594859               4.0   \n",
       "jUzausdZ_ujqe_n8BlBj-g     H2T 2M1  45.523333 -73.594859               4.0   \n",
       "SXwA9KZ-Nc_hMARk_3cJ7g     H2T 2M1  45.523333 -73.594859               4.0   \n",
       "oCRDwF3tszAkeszSfxwthg     H2T 2M1  45.523333 -73.594859               4.0   \n",
       "\n",
       "                        restaurant_review_count category  \n",
       "review_id                                                 \n",
       "vkVSCC7xljjrAI4UGfnKEQ                       84   Diners  \n",
       "vm1b1keOzwHjtGZEPPuYXA                       84   Diners  \n",
       "jUzausdZ_ujqe_n8BlBj-g                       84   Diners  \n",
       "SXwA9KZ-Nc_hMARk_3cJ7g                       84   Diners  \n",
       "oCRDwF3tszAkeszSfxwthg                       84   Diners  "
      ]
     },
     "execution_count": 2,
     "metadata": {},
     "output_type": "execute_result"
    }
   ],
   "source": [
    "df.head()"
   ]
  },
  {
   "cell_type": "code",
   "execution_count": 3,
   "metadata": {},
   "outputs": [
    {
     "name": "stdout",
     "output_type": "stream",
     "text": [
      "<class 'pandas.core.frame.DataFrame'>\n",
      "Index: 2722485 entries, vkVSCC7xljjrAI4UGfnKEQ to 99hWXPtbpzXXbsL43RYuKA\n",
      "Data columns (total 16 columns):\n",
      "user_id                    object\n",
      "business_id                object\n",
      "review_stars               int64\n",
      "date                       object\n",
      "user_review_count          int64\n",
      "yelping_since              object\n",
      "fans                       int64\n",
      "average_stars              float64\n",
      "city                       object\n",
      "state                      object\n",
      "postal_code                object\n",
      "latitude                   float64\n",
      "longitude                  float64\n",
      "restaurant_stars           float64\n",
      "restaurant_review_count    int64\n",
      "category                   object\n",
      "dtypes: float64(4), int64(4), object(8)\n",
      "memory usage: 353.1+ MB\n"
     ]
    }
   ],
   "source": [
    "df.info()"
   ]
  },
  {
   "cell_type": "code",
   "execution_count": 6,
   "metadata": {},
   "outputs": [
    {
     "data": {
      "text/html": [
       "<div>\n",
       "<style scoped>\n",
       "    .dataframe tbody tr th:only-of-type {\n",
       "        vertical-align: middle;\n",
       "    }\n",
       "\n",
       "    .dataframe tbody tr th {\n",
       "        vertical-align: top;\n",
       "    }\n",
       "\n",
       "    .dataframe thead th {\n",
       "        text-align: right;\n",
       "    }\n",
       "</style>\n",
       "<table border=\"1\" class=\"dataframe\">\n",
       "  <thead>\n",
       "    <tr style=\"text-align: right;\">\n",
       "      <th></th>\n",
       "      <th>user_id</th>\n",
       "      <th>business_id</th>\n",
       "      <th>review_stars</th>\n",
       "      <th>date</th>\n",
       "      <th>user_review_count</th>\n",
       "      <th>yelping_since</th>\n",
       "      <th>fans</th>\n",
       "      <th>average_stars</th>\n",
       "      <th>city</th>\n",
       "      <th>state</th>\n",
       "      <th>postal_code</th>\n",
       "      <th>latitude</th>\n",
       "      <th>longitude</th>\n",
       "      <th>restaurant_stars</th>\n",
       "      <th>restaurant_review_count</th>\n",
       "      <th>category</th>\n",
       "    </tr>\n",
       "  </thead>\n",
       "  <tbody>\n",
       "    <tr>\n",
       "      <th>count</th>\n",
       "      <td>2722485</td>\n",
       "      <td>2722485</td>\n",
       "      <td>2.722485e+06</td>\n",
       "      <td>2722485</td>\n",
       "      <td>2.722485e+06</td>\n",
       "      <td>2722485</td>\n",
       "      <td>2.722485e+06</td>\n",
       "      <td>2.722485e+06</td>\n",
       "      <td>2722485</td>\n",
       "      <td>2722485</td>\n",
       "      <td>2722485</td>\n",
       "      <td>2.722485e+06</td>\n",
       "      <td>2.722485e+06</td>\n",
       "      <td>2.722485e+06</td>\n",
       "      <td>2.722485e+06</td>\n",
       "      <td>2722485</td>\n",
       "    </tr>\n",
       "    <tr>\n",
       "      <th>unique</th>\n",
       "      <td>822976</td>\n",
       "      <td>46406</td>\n",
       "      <td>NaN</td>\n",
       "      <td>4493</td>\n",
       "      <td>NaN</td>\n",
       "      <td>4665</td>\n",
       "      <td>NaN</td>\n",
       "      <td>NaN</td>\n",
       "      <td>732</td>\n",
       "      <td>40</td>\n",
       "      <td>8925</td>\n",
       "      <td>NaN</td>\n",
       "      <td>NaN</td>\n",
       "      <td>NaN</td>\n",
       "      <td>NaN</td>\n",
       "      <td>50</td>\n",
       "    </tr>\n",
       "    <tr>\n",
       "      <th>top</th>\n",
       "      <td>CxDOIDnH8gp9KXzpBHJYXw</td>\n",
       "      <td>4JNXUYY8wbaaDmk3BPzlWw</td>\n",
       "      <td>NaN</td>\n",
       "      <td>2017-08-13</td>\n",
       "      <td>NaN</td>\n",
       "      <td>2011-06-29</td>\n",
       "      <td>NaN</td>\n",
       "      <td>NaN</td>\n",
       "      <td>Las Vegas</td>\n",
       "      <td>NV</td>\n",
       "      <td>89109</td>\n",
       "      <td>NaN</td>\n",
       "      <td>NaN</td>\n",
       "      <td>NaN</td>\n",
       "      <td>NaN</td>\n",
       "      <td>Mexican</td>\n",
       "    </tr>\n",
       "    <tr>\n",
       "      <th>freq</th>\n",
       "      <td>1865</td>\n",
       "      <td>7362</td>\n",
       "      <td>NaN</td>\n",
       "      <td>2474</td>\n",
       "      <td>NaN</td>\n",
       "      <td>2399</td>\n",
       "      <td>NaN</td>\n",
       "      <td>NaN</td>\n",
       "      <td>775806</td>\n",
       "      <td>874377</td>\n",
       "      <td>191070</td>\n",
       "      <td>NaN</td>\n",
       "      <td>NaN</td>\n",
       "      <td>NaN</td>\n",
       "      <td>NaN</td>\n",
       "      <td>159517</td>\n",
       "    </tr>\n",
       "    <tr>\n",
       "      <th>mean</th>\n",
       "      <td>NaN</td>\n",
       "      <td>NaN</td>\n",
       "      <td>3.694182e+00</td>\n",
       "      <td>NaN</td>\n",
       "      <td>1.204896e+02</td>\n",
       "      <td>NaN</td>\n",
       "      <td>1.060243e+01</td>\n",
       "      <td>3.725624e+00</td>\n",
       "      <td>NaN</td>\n",
       "      <td>NaN</td>\n",
       "      <td>NaN</td>\n",
       "      <td>3.758648e+01</td>\n",
       "      <td>-9.960600e+01</td>\n",
       "      <td>3.698353e+00</td>\n",
       "      <td>4.450836e+02</td>\n",
       "      <td>NaN</td>\n",
       "    </tr>\n",
       "    <tr>\n",
       "      <th>std</th>\n",
       "      <td>NaN</td>\n",
       "      <td>NaN</td>\n",
       "      <td>1.357656e+00</td>\n",
       "      <td>NaN</td>\n",
       "      <td>3.241183e+02</td>\n",
       "      <td>NaN</td>\n",
       "      <td>4.863259e+01</td>\n",
       "      <td>7.250461e-01</td>\n",
       "      <td>NaN</td>\n",
       "      <td>NaN</td>\n",
       "      <td>NaN</td>\n",
       "      <td>4.335150e+00</td>\n",
       "      <td>2.040616e+01</td>\n",
       "      <td>6.000871e-01</td>\n",
       "      <td>8.513554e+02</td>\n",
       "      <td>NaN</td>\n",
       "    </tr>\n",
       "    <tr>\n",
       "      <th>min</th>\n",
       "      <td>NaN</td>\n",
       "      <td>NaN</td>\n",
       "      <td>1.000000e+00</td>\n",
       "      <td>NaN</td>\n",
       "      <td>0.000000e+00</td>\n",
       "      <td>NaN</td>\n",
       "      <td>0.000000e+00</td>\n",
       "      <td>1.000000e+00</td>\n",
       "      <td>NaN</td>\n",
       "      <td>NaN</td>\n",
       "      <td>NaN</td>\n",
       "      <td>-3.451595e+01</td>\n",
       "      <td>-1.424666e+02</td>\n",
       "      <td>1.000000e+00</td>\n",
       "      <td>3.000000e+00</td>\n",
       "      <td>NaN</td>\n",
       "    </tr>\n",
       "    <tr>\n",
       "      <th>25%</th>\n",
       "      <td>NaN</td>\n",
       "      <td>NaN</td>\n",
       "      <td>3.000000e+00</td>\n",
       "      <td>NaN</td>\n",
       "      <td>9.000000e+00</td>\n",
       "      <td>NaN</td>\n",
       "      <td>0.000000e+00</td>\n",
       "      <td>3.410000e+00</td>\n",
       "      <td>NaN</td>\n",
       "      <td>NaN</td>\n",
       "      <td>NaN</td>\n",
       "      <td>3.362597e+01</td>\n",
       "      <td>-1.151468e+02</td>\n",
       "      <td>3.500000e+00</td>\n",
       "      <td>6.800000e+01</td>\n",
       "      <td>NaN</td>\n",
       "    </tr>\n",
       "    <tr>\n",
       "      <th>50%</th>\n",
       "      <td>NaN</td>\n",
       "      <td>NaN</td>\n",
       "      <td>4.000000e+00</td>\n",
       "      <td>NaN</td>\n",
       "      <td>2.800000e+01</td>\n",
       "      <td>NaN</td>\n",
       "      <td>1.000000e+00</td>\n",
       "      <td>3.790000e+00</td>\n",
       "      <td>NaN</td>\n",
       "      <td>NaN</td>\n",
       "      <td>NaN</td>\n",
       "      <td>3.611283e+01</td>\n",
       "      <td>-1.119270e+02</td>\n",
       "      <td>4.000000e+00</td>\n",
       "      <td>1.820000e+02</td>\n",
       "      <td>NaN</td>\n",
       "    </tr>\n",
       "    <tr>\n",
       "      <th>75%</th>\n",
       "      <td>NaN</td>\n",
       "      <td>NaN</td>\n",
       "      <td>5.000000e+00</td>\n",
       "      <td>NaN</td>\n",
       "      <td>1.030000e+02</td>\n",
       "      <td>NaN</td>\n",
       "      <td>4.000000e+00</td>\n",
       "      <td>4.150000e+00</td>\n",
       "      <td>NaN</td>\n",
       "      <td>NaN</td>\n",
       "      <td>NaN</td>\n",
       "      <td>4.140733e+01</td>\n",
       "      <td>-8.077075e+01</td>\n",
       "      <td>4.000000e+00</td>\n",
       "      <td>4.410000e+02</td>\n",
       "      <td>NaN</td>\n",
       "    </tr>\n",
       "    <tr>\n",
       "      <th>max</th>\n",
       "      <td>NaN</td>\n",
       "      <td>NaN</td>\n",
       "      <td>5.000000e+00</td>\n",
       "      <td>NaN</td>\n",
       "      <td>1.132300e+04</td>\n",
       "      <td>NaN</td>\n",
       "      <td>7.009000e+03</td>\n",
       "      <td>5.000000e+00</td>\n",
       "      <td>NaN</td>\n",
       "      <td>NaN</td>\n",
       "      <td>NaN</td>\n",
       "      <td>8.999931e+01</td>\n",
       "      <td>1.150868e+02</td>\n",
       "      <td>5.000000e+00</td>\n",
       "      <td>7.361000e+03</td>\n",
       "      <td>NaN</td>\n",
       "    </tr>\n",
       "  </tbody>\n",
       "</table>\n",
       "</div>"
      ],
      "text/plain": [
       "                       user_id             business_id  review_stars  \\\n",
       "count                  2722485                 2722485  2.722485e+06   \n",
       "unique                  822976                   46406           NaN   \n",
       "top     CxDOIDnH8gp9KXzpBHJYXw  4JNXUYY8wbaaDmk3BPzlWw           NaN   \n",
       "freq                      1865                    7362           NaN   \n",
       "mean                       NaN                     NaN  3.694182e+00   \n",
       "std                        NaN                     NaN  1.357656e+00   \n",
       "min                        NaN                     NaN  1.000000e+00   \n",
       "25%                        NaN                     NaN  3.000000e+00   \n",
       "50%                        NaN                     NaN  4.000000e+00   \n",
       "75%                        NaN                     NaN  5.000000e+00   \n",
       "max                        NaN                     NaN  5.000000e+00   \n",
       "\n",
       "              date  user_review_count yelping_since          fans  \\\n",
       "count      2722485       2.722485e+06       2722485  2.722485e+06   \n",
       "unique        4493                NaN          4665           NaN   \n",
       "top     2017-08-13                NaN    2011-06-29           NaN   \n",
       "freq          2474                NaN          2399           NaN   \n",
       "mean           NaN       1.204896e+02           NaN  1.060243e+01   \n",
       "std            NaN       3.241183e+02           NaN  4.863259e+01   \n",
       "min            NaN       0.000000e+00           NaN  0.000000e+00   \n",
       "25%            NaN       9.000000e+00           NaN  0.000000e+00   \n",
       "50%            NaN       2.800000e+01           NaN  1.000000e+00   \n",
       "75%            NaN       1.030000e+02           NaN  4.000000e+00   \n",
       "max            NaN       1.132300e+04           NaN  7.009000e+03   \n",
       "\n",
       "        average_stars       city    state postal_code      latitude  \\\n",
       "count    2.722485e+06    2722485  2722485     2722485  2.722485e+06   \n",
       "unique            NaN        732       40        8925           NaN   \n",
       "top               NaN  Las Vegas       NV       89109           NaN   \n",
       "freq              NaN     775806   874377      191070           NaN   \n",
       "mean     3.725624e+00        NaN      NaN         NaN  3.758648e+01   \n",
       "std      7.250461e-01        NaN      NaN         NaN  4.335150e+00   \n",
       "min      1.000000e+00        NaN      NaN         NaN -3.451595e+01   \n",
       "25%      3.410000e+00        NaN      NaN         NaN  3.362597e+01   \n",
       "50%      3.790000e+00        NaN      NaN         NaN  3.611283e+01   \n",
       "75%      4.150000e+00        NaN      NaN         NaN  4.140733e+01   \n",
       "max      5.000000e+00        NaN      NaN         NaN  8.999931e+01   \n",
       "\n",
       "           longitude  restaurant_stars  restaurant_review_count category  \n",
       "count   2.722485e+06      2.722485e+06             2.722485e+06  2722485  \n",
       "unique           NaN               NaN                      NaN       50  \n",
       "top              NaN               NaN                      NaN  Mexican  \n",
       "freq             NaN               NaN                      NaN   159517  \n",
       "mean   -9.960600e+01      3.698353e+00             4.450836e+02      NaN  \n",
       "std     2.040616e+01      6.000871e-01             8.513554e+02      NaN  \n",
       "min    -1.424666e+02      1.000000e+00             3.000000e+00      NaN  \n",
       "25%    -1.151468e+02      3.500000e+00             6.800000e+01      NaN  \n",
       "50%    -1.119270e+02      4.000000e+00             1.820000e+02      NaN  \n",
       "75%    -8.077075e+01      4.000000e+00             4.410000e+02      NaN  \n",
       "max     1.150868e+02      5.000000e+00             7.361000e+03      NaN  "
      ]
     },
     "execution_count": 6,
     "metadata": {},
     "output_type": "execute_result"
    }
   ],
   "source": [
    "df.describe(include='all')"
   ]
  },
  {
   "cell_type": "code",
   "execution_count": 7,
   "metadata": {},
   "outputs": [
    {
     "data": {
      "text/html": [
       "<div>\n",
       "<style scoped>\n",
       "    .dataframe tbody tr th:only-of-type {\n",
       "        vertical-align: middle;\n",
       "    }\n",
       "\n",
       "    .dataframe tbody tr th {\n",
       "        vertical-align: top;\n",
       "    }\n",
       "\n",
       "    .dataframe thead th {\n",
       "        text-align: right;\n",
       "    }\n",
       "</style>\n",
       "<table border=\"1\" class=\"dataframe\">\n",
       "  <thead>\n",
       "    <tr style=\"text-align: right;\">\n",
       "      <th></th>\n",
       "      <th>review_stars</th>\n",
       "      <th>user_review_count</th>\n",
       "      <th>fans</th>\n",
       "      <th>average_stars</th>\n",
       "      <th>latitude</th>\n",
       "      <th>longitude</th>\n",
       "      <th>restaurant_stars</th>\n",
       "      <th>restaurant_review_count</th>\n",
       "    </tr>\n",
       "  </thead>\n",
       "  <tbody>\n",
       "    <tr>\n",
       "      <th>count</th>\n",
       "      <td>2.722485e+06</td>\n",
       "      <td>2.722485e+06</td>\n",
       "      <td>2.722485e+06</td>\n",
       "      <td>2.722485e+06</td>\n",
       "      <td>2.722485e+06</td>\n",
       "      <td>2.722485e+06</td>\n",
       "      <td>2.722485e+06</td>\n",
       "      <td>2.722485e+06</td>\n",
       "    </tr>\n",
       "    <tr>\n",
       "      <th>mean</th>\n",
       "      <td>3.694182e+00</td>\n",
       "      <td>1.204896e+02</td>\n",
       "      <td>1.060243e+01</td>\n",
       "      <td>3.725624e+00</td>\n",
       "      <td>3.758648e+01</td>\n",
       "      <td>-9.960600e+01</td>\n",
       "      <td>3.698353e+00</td>\n",
       "      <td>4.450836e+02</td>\n",
       "    </tr>\n",
       "    <tr>\n",
       "      <th>std</th>\n",
       "      <td>1.357656e+00</td>\n",
       "      <td>3.241183e+02</td>\n",
       "      <td>4.863259e+01</td>\n",
       "      <td>7.250461e-01</td>\n",
       "      <td>4.335150e+00</td>\n",
       "      <td>2.040616e+01</td>\n",
       "      <td>6.000871e-01</td>\n",
       "      <td>8.513554e+02</td>\n",
       "    </tr>\n",
       "    <tr>\n",
       "      <th>min</th>\n",
       "      <td>1.000000e+00</td>\n",
       "      <td>0.000000e+00</td>\n",
       "      <td>0.000000e+00</td>\n",
       "      <td>1.000000e+00</td>\n",
       "      <td>-3.451595e+01</td>\n",
       "      <td>-1.424666e+02</td>\n",
       "      <td>1.000000e+00</td>\n",
       "      <td>3.000000e+00</td>\n",
       "    </tr>\n",
       "    <tr>\n",
       "      <th>25%</th>\n",
       "      <td>3.000000e+00</td>\n",
       "      <td>9.000000e+00</td>\n",
       "      <td>0.000000e+00</td>\n",
       "      <td>3.410000e+00</td>\n",
       "      <td>3.362597e+01</td>\n",
       "      <td>-1.151468e+02</td>\n",
       "      <td>3.500000e+00</td>\n",
       "      <td>6.800000e+01</td>\n",
       "    </tr>\n",
       "    <tr>\n",
       "      <th>50%</th>\n",
       "      <td>4.000000e+00</td>\n",
       "      <td>2.800000e+01</td>\n",
       "      <td>1.000000e+00</td>\n",
       "      <td>3.790000e+00</td>\n",
       "      <td>3.611283e+01</td>\n",
       "      <td>-1.119270e+02</td>\n",
       "      <td>4.000000e+00</td>\n",
       "      <td>1.820000e+02</td>\n",
       "    </tr>\n",
       "    <tr>\n",
       "      <th>75%</th>\n",
       "      <td>5.000000e+00</td>\n",
       "      <td>1.030000e+02</td>\n",
       "      <td>4.000000e+00</td>\n",
       "      <td>4.150000e+00</td>\n",
       "      <td>4.140733e+01</td>\n",
       "      <td>-8.077075e+01</td>\n",
       "      <td>4.000000e+00</td>\n",
       "      <td>4.410000e+02</td>\n",
       "    </tr>\n",
       "    <tr>\n",
       "      <th>max</th>\n",
       "      <td>5.000000e+00</td>\n",
       "      <td>1.132300e+04</td>\n",
       "      <td>7.009000e+03</td>\n",
       "      <td>5.000000e+00</td>\n",
       "      <td>8.999931e+01</td>\n",
       "      <td>1.150868e+02</td>\n",
       "      <td>5.000000e+00</td>\n",
       "      <td>7.361000e+03</td>\n",
       "    </tr>\n",
       "  </tbody>\n",
       "</table>\n",
       "</div>"
      ],
      "text/plain": [
       "       review_stars  user_review_count          fans  average_stars  \\\n",
       "count  2.722485e+06       2.722485e+06  2.722485e+06   2.722485e+06   \n",
       "mean   3.694182e+00       1.204896e+02  1.060243e+01   3.725624e+00   \n",
       "std    1.357656e+00       3.241183e+02  4.863259e+01   7.250461e-01   \n",
       "min    1.000000e+00       0.000000e+00  0.000000e+00   1.000000e+00   \n",
       "25%    3.000000e+00       9.000000e+00  0.000000e+00   3.410000e+00   \n",
       "50%    4.000000e+00       2.800000e+01  1.000000e+00   3.790000e+00   \n",
       "75%    5.000000e+00       1.030000e+02  4.000000e+00   4.150000e+00   \n",
       "max    5.000000e+00       1.132300e+04  7.009000e+03   5.000000e+00   \n",
       "\n",
       "           latitude     longitude  restaurant_stars  restaurant_review_count  \n",
       "count  2.722485e+06  2.722485e+06      2.722485e+06             2.722485e+06  \n",
       "mean   3.758648e+01 -9.960600e+01      3.698353e+00             4.450836e+02  \n",
       "std    4.335150e+00  2.040616e+01      6.000871e-01             8.513554e+02  \n",
       "min   -3.451595e+01 -1.424666e+02      1.000000e+00             3.000000e+00  \n",
       "25%    3.362597e+01 -1.151468e+02      3.500000e+00             6.800000e+01  \n",
       "50%    3.611283e+01 -1.119270e+02      4.000000e+00             1.820000e+02  \n",
       "75%    4.140733e+01 -8.077075e+01      4.000000e+00             4.410000e+02  \n",
       "max    8.999931e+01  1.150868e+02      5.000000e+00             7.361000e+03  "
      ]
     },
     "execution_count": 7,
     "metadata": {},
     "output_type": "execute_result"
    }
   ],
   "source": [
    "df.describe()"
   ]
  },
  {
   "cell_type": "markdown",
   "metadata": {},
   "source": [
    "## Variable distributions and outliers"
   ]
  },
  {
   "cell_type": "code",
   "execution_count": 20,
   "metadata": {},
   "outputs": [
    {
     "data": {
      "image/png": "[encoded data removed]",
      "text/plain": [
       "<matplotlib.figure.Figure at 0x25501f0dd68>"
      ]
     },
     "metadata": {
      "needs_background": "light"
     },
     "output_type": "display_data"
    }
   ],
   "source": [
    "'''The valid range of latitude in degrees is -90 and +90 for the southern and northern hemisphere respectively.\n",
    "Longitude is in the range -180 and +180 specifying coordinates west and east of the Prime Meridian, respectively.'''\n",
    "\n",
    "plt.scatter(df['longitude'], df['latitude'])\n",
    "plt.ylabel('Latitude')\n",
    "plt.xlabel('Longitude')\n",
    "plt.show()"
   ]
  },
  {
   "cell_type": "markdown",
   "metadata": {},
   "source": [
    "We can see that all values fit in to the valid ranges of latitude and longitude, but there seems to be some small consentrations. Let's explore them and see if they make sense to keep."
   ]
  },
  {
   "cell_type": "code",
   "execution_count": 22,
   "metadata": {},
   "outputs": [
    {
     "data": {
      "text/plain": [
       "sImzZLPpBMqFq7AX4S-wvw    25\n",
       "Ss6J7HFhMCxoq7M8wXqc8A    16\n",
       "Y23VrXVc75Pv15Z9Bw1R6w    11\n",
       "bGxzQDGOTpab_6hdqsqv9g     8\n",
       "KNyDf8u8nd0Qs8HmqSk6Og     8\n",
       "4-xLjGavuWFqEfNuznxL3A     5\n",
       "-mkmQnY__U4xnjj5v2vRyQ     4\n",
       "softZjpREG65wpAns2FaWA     4\n",
       "YBaWP2r64BPJazkmyf1fig     3\n",
       "zMAiU0s8ScUYHwAESCB8Qg     3\n",
       "i1e8KsIy1ELvI7G6mvvZkw     3\n",
       "Name: business_id, dtype: int64"
      ]
     },
     "execution_count": 22,
     "metadata": {},
     "output_type": "execute_result"
    }
   ],
   "source": [
    "df[df['latitude'] < -30]['business_id'].value_counts()"
   ]
  },
  {
   "cell_type": "markdown",
   "metadata": {},
   "source": [
    "In this group, there are only 90 reviews (compare to 2,7 million in the whole dataset so these can be removed due to small size."
   ]
  },
  {
   "cell_type": "code",
   "execution_count": 26,
   "metadata": {},
   "outputs": [
    {
     "data": {
      "text/plain": [
       "(2722395, 16)"
      ]
     },
     "execution_count": 26,
     "metadata": {},
     "output_type": "execute_result"
    }
   ],
   "source": [
    "df = df.drop(df[df['latitude'] < -30].index)\n",
    "df.shape"
   ]
  },
  {
   "cell_type": "code",
   "execution_count": 27,
   "metadata": {},
   "outputs": [
    {
     "data": {
      "text/plain": [
       "1yQUqh3_h1IOrXZmb4CBFw    15\n",
       "Name: business_id, dtype: int64"
      ]
     },
     "execution_count": 27,
     "metadata": {},
     "output_type": "execute_result"
    }
   ],
   "source": [
    "df[df['latitude'] > 80]['business_id'].value_counts()"
   ]
  },
  {
   "cell_type": "markdown",
   "metadata": {},
   "source": [
    "Only 15 reviews so we can drop this also"
   ]
  },
  {
   "cell_type": "code",
   "execution_count": 28,
   "metadata": {},
   "outputs": [
    {
     "data": {
      "text/plain": [
       "(2722380, 16)"
      ]
     },
     "execution_count": 28,
     "metadata": {},
     "output_type": "execute_result"
    }
   ],
   "source": [
    "df = df.drop(df[df['latitude'] > 80].index)\n",
    "df.shape"
   ]
  },
  {
   "cell_type": "code",
   "execution_count": 29,
   "metadata": {},
   "outputs": [
    {
     "data": {
      "text/plain": [
       "Zmp2_b2gpSloz4Dv2VsVNg    71\n",
       "Name: business_id, dtype: int64"
      ]
     },
     "execution_count": 29,
     "metadata": {},
     "output_type": "execute_result"
    }
   ],
   "source": [
    "df[df['longitude'] > 100]['business_id'].value_counts()"
   ]
  },
  {
   "cell_type": "markdown",
   "metadata": {},
   "source": [
    "Same thing here"
   ]
  },
  {
   "cell_type": "code",
   "execution_count": 31,
   "metadata": {},
   "outputs": [
    {
     "data": {
      "text/plain": [
       "(2722309, 16)"
      ]
     },
     "execution_count": 31,
     "metadata": {},
     "output_type": "execute_result"
    }
   ],
   "source": [
    "df = df.drop(df[df['longitude'] > 100].index)\n",
    "df.shape"
   ]
  },
  {
   "cell_type": "code",
   "execution_count": 32,
   "metadata": {},
   "outputs": [
    {
     "data": {
      "text/plain": [
       "vBxK_MAGuy8eWL_CCfUCUQ    5\n",
       "Name: business_id, dtype: int64"
      ]
     },
     "execution_count": 32,
     "metadata": {},
     "output_type": "execute_result"
    }
   ],
   "source": [
    "df[df['latitude'] < 20]['business_id'].value_counts()"
   ]
  },
  {
   "cell_type": "markdown",
   "metadata": {},
   "source": [
    "Same here"
   ]
  },
  {
   "cell_type": "code",
   "execution_count": 33,
   "metadata": {},
   "outputs": [
    {
     "data": {
      "text/plain": [
       "(2722304, 16)"
      ]
     },
     "execution_count": 33,
     "metadata": {},
     "output_type": "execute_result"
    }
   ],
   "source": [
    "df = df.drop(df[df['latitude'] < 20].index)\n",
    "df.shape"
   ]
  },
  {
   "cell_type": "markdown",
   "metadata": {},
   "source": [
    "Now we can make the scatter plot again"
   ]
  },
  {
   "cell_type": "code",
   "execution_count": 34,
   "metadata": {},
   "outputs": [
    {
     "data": {
      "image/png": "[encoded data removed]",
      "text/plain": [
       "<matplotlib.figure.Figure at 0x2553e9becc0>"
      ]
     },
     "metadata": {
      "needs_background": "light"
     },
     "output_type": "display_data"
    }
   ],
   "source": [
    "plt.scatter(df['longitude'], df['latitude'])\n",
    "plt.ylabel('Latitude')\n",
    "plt.xlabel('Longitude')\n",
    "plt.show()"
   ]
  },
  {
   "cell_type": "markdown",
   "metadata": {},
   "source": [
    "Exploring distributions of numerical variables"
   ]
  },
  {
   "cell_type": "code",
   "execution_count": 42,
   "metadata": {},
   "outputs": [
    {
     "data": {
      "image/png": "[encoded data removed]",
      "text/plain": [
       "<matplotlib.figure.Figure at 0x25503cba2e8>"
      ]
     },
     "metadata": {
      "needs_background": "light"
     },
     "output_type": "display_data"
    }
   ],
   "source": [
    "df['fans'].plot(kind='box')\n",
    "plt.show()"
   ]
  },
  {
   "cell_type": "code",
   "execution_count": 36,
   "metadata": {},
   "outputs": [
    {
     "data": {
      "text/html": [
       "<div>\n",
       "<style scoped>\n",
       "    .dataframe tbody tr th:only-of-type {\n",
       "        vertical-align: middle;\n",
       "    }\n",
       "\n",
       "    .dataframe tbody tr th {\n",
       "        vertical-align: top;\n",
       "    }\n",
       "\n",
       "    .dataframe thead th {\n",
       "        text-align: right;\n",
       "    }\n",
       "</style>\n",
       "<table border=\"1\" class=\"dataframe\">\n",
       "  <thead>\n",
       "    <tr style=\"text-align: right;\">\n",
       "      <th></th>\n",
       "      <th>user_id</th>\n",
       "      <th>business_id</th>\n",
       "      <th>review_stars</th>\n",
       "      <th>date</th>\n",
       "      <th>user_review_count</th>\n",
       "      <th>yelping_since</th>\n",
       "      <th>fans</th>\n",
       "      <th>average_stars</th>\n",
       "      <th>city</th>\n",
       "      <th>state</th>\n",
       "      <th>postal_code</th>\n",
       "      <th>latitude</th>\n",
       "      <th>longitude</th>\n",
       "      <th>restaurant_stars</th>\n",
       "      <th>restaurant_review_count</th>\n",
       "      <th>category</th>\n",
       "    </tr>\n",
       "    <tr>\n",
       "      <th>review_id</th>\n",
       "      <th></th>\n",
       "      <th></th>\n",
       "      <th></th>\n",
       "      <th></th>\n",
       "      <th></th>\n",
       "      <th></th>\n",
       "      <th></th>\n",
       "      <th></th>\n",
       "      <th></th>\n",
       "      <th></th>\n",
       "      <th></th>\n",
       "      <th></th>\n",
       "      <th></th>\n",
       "      <th></th>\n",
       "      <th></th>\n",
       "      <th></th>\n",
       "    </tr>\n",
       "  </thead>\n",
       "  <tbody>\n",
       "    <tr>\n",
       "      <th>YmVAQJK2dke4xaQJne5Ofg</th>\n",
       "      <td>37cpUoM8hlkSQfReIEBd-Q</td>\n",
       "      <td>0qet57CmMA5qUm6gPFUTpg</td>\n",
       "      <td>2</td>\n",
       "      <td>2014-12-30</td>\n",
       "      <td>1477</td>\n",
       "      <td>2009-04-25</td>\n",
       "      <td>7009</td>\n",
       "      <td>4.23</td>\n",
       "      <td>Las Vegas</td>\n",
       "      <td>NV</td>\n",
       "      <td>89109</td>\n",
       "      <td>36.115274</td>\n",
       "      <td>-115.172738</td>\n",
       "      <td>2.5</td>\n",
       "      <td>114</td>\n",
       "      <td>Italian</td>\n",
       "    </tr>\n",
       "    <tr>\n",
       "      <th>qn_5DSdHyazKJuldOYO21g</th>\n",
       "      <td>37cpUoM8hlkSQfReIEBd-Q</td>\n",
       "      <td>lYCeqldIiOggsbByH3RRhw</td>\n",
       "      <td>3</td>\n",
       "      <td>2015-01-13</td>\n",
       "      <td>1477</td>\n",
       "      <td>2009-04-25</td>\n",
       "      <td>7009</td>\n",
       "      <td>4.23</td>\n",
       "      <td>Las Vegas</td>\n",
       "      <td>NV</td>\n",
       "      <td>89119</td>\n",
       "      <td>36.080900</td>\n",
       "      <td>-115.139103</td>\n",
       "      <td>2.5</td>\n",
       "      <td>15</td>\n",
       "      <td>Pizza</td>\n",
       "    </tr>\n",
       "  </tbody>\n",
       "</table>\n",
       "</div>"
      ],
      "text/plain": [
       "                                       user_id             business_id  \\\n",
       "review_id                                                                \n",
       "YmVAQJK2dke4xaQJne5Ofg  37cpUoM8hlkSQfReIEBd-Q  0qet57CmMA5qUm6gPFUTpg   \n",
       "qn_5DSdHyazKJuldOYO21g  37cpUoM8hlkSQfReIEBd-Q  lYCeqldIiOggsbByH3RRhw   \n",
       "\n",
       "                        review_stars        date  user_review_count  \\\n",
       "review_id                                                             \n",
       "YmVAQJK2dke4xaQJne5Ofg             2  2014-12-30               1477   \n",
       "qn_5DSdHyazKJuldOYO21g             3  2015-01-13               1477   \n",
       "\n",
       "                       yelping_since  fans  average_stars       city state  \\\n",
       "review_id                                                                    \n",
       "YmVAQJK2dke4xaQJne5Ofg    2009-04-25  7009           4.23  Las Vegas    NV   \n",
       "qn_5DSdHyazKJuldOYO21g    2009-04-25  7009           4.23  Las Vegas    NV   \n",
       "\n",
       "                       postal_code   latitude   longitude  restaurant_stars  \\\n",
       "review_id                                                                     \n",
       "YmVAQJK2dke4xaQJne5Ofg       89109  36.115274 -115.172738               2.5   \n",
       "qn_5DSdHyazKJuldOYO21g       89119  36.080900 -115.139103               2.5   \n",
       "\n",
       "                        restaurant_review_count category  \n",
       "review_id                                                 \n",
       "YmVAQJK2dke4xaQJne5Ofg                      114  Italian  \n",
       "qn_5DSdHyazKJuldOYO21g                       15    Pizza  "
      ]
     },
     "execution_count": 36,
     "metadata": {},
     "output_type": "execute_result"
    }
   ],
   "source": [
    "df[df['fans'] > 6000]"
   ]
  },
  {
   "cell_type": "code",
   "execution_count": 39,
   "metadata": {},
   "outputs": [
    {
     "data": {
      "text/plain": [
       "(2722302, 16)"
      ]
     },
     "execution_count": 39,
     "metadata": {},
     "output_type": "execute_result"
    }
   ],
   "source": [
    "df = df.drop(df[df['fans'] > 6000].index)\n",
    "df.shape"
   ]
  },
  {
   "cell_type": "code",
   "execution_count": 43,
   "metadata": {},
   "outputs": [
    {
     "data": {
      "text/plain": [
       "<matplotlib.axes._subplots.AxesSubplot at 0x2553ea254a8>"
      ]
     },
     "execution_count": 43,
     "metadata": {},
     "output_type": "execute_result"
    },
    {
     "data": {
      "image/png": "[encoded data removed]",
      "text/plain": [
       "<matplotlib.figure.Figure at 0x25503cc7668>"
      ]
     },
     "metadata": {
      "needs_background": "light"
     },
     "output_type": "display_data"
    }
   ],
   "source": [
    "df.boxplot()\n",
    "plt.show()"
   ]
  },
  {
   "cell_type": "markdown",
   "metadata": {},
   "source": [
    "Plotting histograms of numerical variables with seaborn"
   ]
  },
  {
   "cell_type": "code",
   "execution_count": 48,
   "metadata": {},
   "outputs": [
    {
     "data": {
      "text/html": [
       "<div>\n",
       "<style scoped>\n",
       "    .dataframe tbody tr th:only-of-type {\n",
       "        vertical-align: middle;\n",
       "    }\n",
       "\n",
       "    .dataframe tbody tr th {\n",
       "        vertical-align: top;\n",
       "    }\n",
       "\n",
       "    .dataframe thead th {\n",
       "        text-align: right;\n",
       "    }\n",
       "</style>\n",
       "<table border=\"1\" class=\"dataframe\">\n",
       "  <thead>\n",
       "    <tr style=\"text-align: right;\">\n",
       "      <th></th>\n",
       "      <th>user_id</th>\n",
       "      <th>business_id</th>\n",
       "      <th>review_stars</th>\n",
       "      <th>date</th>\n",
       "      <th>user_review_count</th>\n",
       "      <th>yelping_since</th>\n",
       "      <th>fans</th>\n",
       "      <th>average_stars</th>\n",
       "      <th>city</th>\n",
       "      <th>state</th>\n",
       "      <th>postal_code</th>\n",
       "      <th>latitude</th>\n",
       "      <th>longitude</th>\n",
       "      <th>restaurant_stars</th>\n",
       "      <th>restaurant_review_count</th>\n",
       "      <th>category</th>\n",
       "    </tr>\n",
       "    <tr>\n",
       "      <th>review_id</th>\n",
       "      <th></th>\n",
       "      <th></th>\n",
       "      <th></th>\n",
       "      <th></th>\n",
       "      <th></th>\n",
       "      <th></th>\n",
       "      <th></th>\n",
       "      <th></th>\n",
       "      <th></th>\n",
       "      <th></th>\n",
       "      <th></th>\n",
       "      <th></th>\n",
       "      <th></th>\n",
       "      <th></th>\n",
       "      <th></th>\n",
       "      <th></th>\n",
       "    </tr>\n",
       "  </thead>\n",
       "  <tbody>\n",
       "    <tr>\n",
       "      <th>vkVSCC7xljjrAI4UGfnKEQ</th>\n",
       "      <td>bv2nCi5Qv5vroFiqKGopiw</td>\n",
       "      <td>AEx2SYEUJmTxVVB18LlCwA</td>\n",
       "      <td>5</td>\n",
       "      <td>2016-05-28</td>\n",
       "      <td>6</td>\n",
       "      <td>2015-12-22</td>\n",
       "      <td>0</td>\n",
       "      <td>4.67</td>\n",
       "      <td>Montréal</td>\n",
       "      <td>QC</td>\n",
       "      <td>H2T 2M1</td>\n",
       "      <td>45.523333</td>\n",
       "      <td>-73.594859</td>\n",
       "      <td>4.0</td>\n",
       "      <td>84</td>\n",
       "      <td>Diners</td>\n",
       "    </tr>\n",
       "    <tr>\n",
       "      <th>vm1b1keOzwHjtGZEPPuYXA</th>\n",
       "      <td>xYciRtVZ1PW4IxSX4oJ1aw</td>\n",
       "      <td>AEx2SYEUJmTxVVB18LlCwA</td>\n",
       "      <td>5</td>\n",
       "      <td>2016-02-22</td>\n",
       "      <td>177</td>\n",
       "      <td>2015-02-15</td>\n",
       "      <td>30</td>\n",
       "      <td>3.41</td>\n",
       "      <td>Montréal</td>\n",
       "      <td>QC</td>\n",
       "      <td>H2T 2M1</td>\n",
       "      <td>45.523333</td>\n",
       "      <td>-73.594859</td>\n",
       "      <td>4.0</td>\n",
       "      <td>84</td>\n",
       "      <td>Diners</td>\n",
       "    </tr>\n",
       "    <tr>\n",
       "      <th>jUzausdZ_ujqe_n8BlBj-g</th>\n",
       "      <td>DVOOF0Z627DyrZ4XKQbTgA</td>\n",
       "      <td>AEx2SYEUJmTxVVB18LlCwA</td>\n",
       "      <td>5</td>\n",
       "      <td>2017-08-08</td>\n",
       "      <td>40</td>\n",
       "      <td>2017-01-16</td>\n",
       "      <td>1</td>\n",
       "      <td>3.98</td>\n",
       "      <td>Montréal</td>\n",
       "      <td>QC</td>\n",
       "      <td>H2T 2M1</td>\n",
       "      <td>45.523333</td>\n",
       "      <td>-73.594859</td>\n",
       "      <td>4.0</td>\n",
       "      <td>84</td>\n",
       "      <td>Diners</td>\n",
       "    </tr>\n",
       "    <tr>\n",
       "      <th>SXwA9KZ-Nc_hMARk_3cJ7g</th>\n",
       "      <td>5Ymfsf9fAYz-Ds_p0xawVQ</td>\n",
       "      <td>AEx2SYEUJmTxVVB18LlCwA</td>\n",
       "      <td>5</td>\n",
       "      <td>2013-03-29</td>\n",
       "      <td>79</td>\n",
       "      <td>2011-04-14</td>\n",
       "      <td>8</td>\n",
       "      <td>4.52</td>\n",
       "      <td>Montréal</td>\n",
       "      <td>QC</td>\n",
       "      <td>H2T 2M1</td>\n",
       "      <td>45.523333</td>\n",
       "      <td>-73.594859</td>\n",
       "      <td>4.0</td>\n",
       "      <td>84</td>\n",
       "      <td>Diners</td>\n",
       "    </tr>\n",
       "    <tr>\n",
       "      <th>oCRDwF3tszAkeszSfxwthg</th>\n",
       "      <td>5JoKz3mU42Cp906KRXDwJw</td>\n",
       "      <td>AEx2SYEUJmTxVVB18LlCwA</td>\n",
       "      <td>4</td>\n",
       "      <td>2009-01-17</td>\n",
       "      <td>3</td>\n",
       "      <td>2008-05-29</td>\n",
       "      <td>0</td>\n",
       "      <td>4.00</td>\n",
       "      <td>Montréal</td>\n",
       "      <td>QC</td>\n",
       "      <td>H2T 2M1</td>\n",
       "      <td>45.523333</td>\n",
       "      <td>-73.594859</td>\n",
       "      <td>4.0</td>\n",
       "      <td>84</td>\n",
       "      <td>Diners</td>\n",
       "    </tr>\n",
       "  </tbody>\n",
       "</table>\n",
       "</div>"
      ],
      "text/plain": [
       "                                       user_id             business_id  \\\n",
       "review_id                                                                \n",
       "vkVSCC7xljjrAI4UGfnKEQ  bv2nCi5Qv5vroFiqKGopiw  AEx2SYEUJmTxVVB18LlCwA   \n",
       "vm1b1keOzwHjtGZEPPuYXA  xYciRtVZ1PW4IxSX4oJ1aw  AEx2SYEUJmTxVVB18LlCwA   \n",
       "jUzausdZ_ujqe_n8BlBj-g  DVOOF0Z627DyrZ4XKQbTgA  AEx2SYEUJmTxVVB18LlCwA   \n",
       "SXwA9KZ-Nc_hMARk_3cJ7g  5Ymfsf9fAYz-Ds_p0xawVQ  AEx2SYEUJmTxVVB18LlCwA   \n",
       "oCRDwF3tszAkeszSfxwthg  5JoKz3mU42Cp906KRXDwJw  AEx2SYEUJmTxVVB18LlCwA   \n",
       "\n",
       "                        review_stars        date  user_review_count  \\\n",
       "review_id                                                             \n",
       "vkVSCC7xljjrAI4UGfnKEQ             5  2016-05-28                  6   \n",
       "vm1b1keOzwHjtGZEPPuYXA             5  2016-02-22                177   \n",
       "jUzausdZ_ujqe_n8BlBj-g             5  2017-08-08                 40   \n",
       "SXwA9KZ-Nc_hMARk_3cJ7g             5  2013-03-29                 79   \n",
       "oCRDwF3tszAkeszSfxwthg             4  2009-01-17                  3   \n",
       "\n",
       "                       yelping_since  fans  average_stars      city state  \\\n",
       "review_id                                                                   \n",
       "vkVSCC7xljjrAI4UGfnKEQ    2015-12-22     0           4.67  Montréal    QC   \n",
       "vm1b1keOzwHjtGZEPPuYXA    2015-02-15    30           3.41  Montréal    QC   \n",
       "jUzausdZ_ujqe_n8BlBj-g    2017-01-16     1           3.98  Montréal    QC   \n",
       "SXwA9KZ-Nc_hMARk_3cJ7g    2011-04-14     8           4.52  Montréal    QC   \n",
       "oCRDwF3tszAkeszSfxwthg    2008-05-29     0           4.00  Montréal    QC   \n",
       "\n",
       "                       postal_code   latitude  longitude  restaurant_stars  \\\n",
       "review_id                                                                    \n",
       "vkVSCC7xljjrAI4UGfnKEQ     H2T 2M1  45.523333 -73.594859               4.0   \n",
       "vm1b1keOzwHjtGZEPPuYXA     H2T 2M1  45.523333 -73.594859               4.0   \n",
       "jUzausdZ_ujqe_n8BlBj-g     H2T 2M1  45.523333 -73.594859               4.0   \n",
       "SXwA9KZ-Nc_hMARk_3cJ7g     H2T 2M1  45.523333 -73.594859               4.0   \n",
       "oCRDwF3tszAkeszSfxwthg     H2T 2M1  45.523333 -73.594859               4.0   \n",
       "\n",
       "                        restaurant_review_count category  \n",
       "review_id                                                 \n",
       "vkVSCC7xljjrAI4UGfnKEQ                       84   Diners  \n",
       "vm1b1keOzwHjtGZEPPuYXA                       84   Diners  \n",
       "jUzausdZ_ujqe_n8BlBj-g                       84   Diners  \n",
       "SXwA9KZ-Nc_hMARk_3cJ7g                       84   Diners  \n",
       "oCRDwF3tszAkeszSfxwthg                       84   Diners  "
      ]
     },
     "execution_count": 48,
     "metadata": {},
     "output_type": "execute_result"
    }
   ],
   "source": [
    "df.head()"
   ]
  },
  {
   "cell_type": "code",
   "execution_count": null,
   "metadata": {},
   "outputs": [],
   "source": [
    "ax = sns.distplot(df['review_stars'], kde=False)\n",
    "ax.xlabel('Review Stars')"
   ]
  },
  {
   "cell_type": "code",
   "execution_count": null,
   "metadata": {},
   "outputs": [],
   "source": []
  }
 ],
 "metadata": {
  "kernelspec": {
   "display_name": "Python 3",
   "language": "python",
   "name": "python3"
  },
  "language_info": {
   "codemirror_mode": {
    "name": "ipython",
    "version": 3
   },
   "file_extension": ".py",
   "mimetype": "text/x-python",
   "name": "python",
   "nbconvert_exporter": "python",
   "pygments_lexer": "ipython3",
   "version": "3.6.9"
  }
 },
 "nbformat": 4,
 "nbformat_minor": 2
}
