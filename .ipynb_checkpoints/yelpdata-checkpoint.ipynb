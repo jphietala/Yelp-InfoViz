{
 "cells": [
  {
   "cell_type": "markdown",
   "metadata": {},
   "source": [
    "# Yelp Restaurant Review Data Analysis"
   ]
  },
  {
   "cell_type": "markdown",
   "metadata": {},
   "source": [
    "This notebook is for data cleaning and merging different datasets into one."
   ]
  },
  {
   "cell_type": "markdown",
   "metadata": {},
   "source": [
    "## Business.json Data"
   ]
  },
  {
   "cell_type": "code",
   "execution_count": 49,
   "metadata": {},
   "outputs": [],
   "source": [
    "import pandas as pd\n",
    "import matplotlib.pyplot as plt\n",
    "import seaborn as sns\n",
    "%matplotlib inline\n",
    "\n",
    "# Columns that are used for the initial dataframe\n",
    "cols = ['business_id', 'city', 'state', 'postal_code', 'latitude', 'longitude', 'stars', 'review_count', 'categories']\n",
    "\n",
    "business_df = pd.read_csv('..\\Yelp Dataset\\yelp_business.csv', index_col='business_id', usecols=cols)"
   ]
  },
  {
   "cell_type": "code",
   "execution_count": 2,
   "metadata": {},
   "outputs": [
    {
     "data": {
      "text/html": [
       "<div>\n",
       "<style scoped>\n",
       "    .dataframe tbody tr th:only-of-type {\n",
       "        vertical-align: middle;\n",
       "    }\n",
       "\n",
       "    .dataframe tbody tr th {\n",
       "        vertical-align: top;\n",
       "    }\n",
       "\n",
       "    .dataframe thead th {\n",
       "        text-align: right;\n",
       "    }\n",
       "</style>\n",
       "<table border=\"1\" class=\"dataframe\">\n",
       "  <thead>\n",
       "    <tr style=\"text-align: right;\">\n",
       "      <th></th>\n",
       "      <th>city</th>\n",
       "      <th>state</th>\n",
       "      <th>postal_code</th>\n",
       "      <th>latitude</th>\n",
       "      <th>longitude</th>\n",
       "      <th>stars</th>\n",
       "      <th>review_count</th>\n",
       "      <th>categories</th>\n",
       "    </tr>\n",
       "    <tr>\n",
       "      <th>business_id</th>\n",
       "      <th></th>\n",
       "      <th></th>\n",
       "      <th></th>\n",
       "      <th></th>\n",
       "      <th></th>\n",
       "      <th></th>\n",
       "      <th></th>\n",
       "      <th></th>\n",
       "    </tr>\n",
       "  </thead>\n",
       "  <tbody>\n",
       "    <tr>\n",
       "      <th>FYWN1wneV18bWNgQjJ2GNg</th>\n",
       "      <td>Ahwatukee</td>\n",
       "      <td>AZ</td>\n",
       "      <td>85044</td>\n",
       "      <td>33.330690</td>\n",
       "      <td>-111.978599</td>\n",
       "      <td>4.0</td>\n",
       "      <td>22</td>\n",
       "      <td>Dentists;General Dentistry;Health &amp; Medical;Or...</td>\n",
       "    </tr>\n",
       "    <tr>\n",
       "      <th>He-G7vWjzVUysIKrfNbPUQ</th>\n",
       "      <td>McMurray</td>\n",
       "      <td>PA</td>\n",
       "      <td>15317</td>\n",
       "      <td>40.291685</td>\n",
       "      <td>-80.104900</td>\n",
       "      <td>3.0</td>\n",
       "      <td>11</td>\n",
       "      <td>Hair Stylists;Hair Salons;Men's Hair Salons;Bl...</td>\n",
       "    </tr>\n",
       "    <tr>\n",
       "      <th>KQPW8lFf1y5BT2MxiSZ3QA</th>\n",
       "      <td>Phoenix</td>\n",
       "      <td>AZ</td>\n",
       "      <td>85017</td>\n",
       "      <td>33.524903</td>\n",
       "      <td>-112.115310</td>\n",
       "      <td>1.5</td>\n",
       "      <td>18</td>\n",
       "      <td>Departments of Motor Vehicles;Public Services ...</td>\n",
       "    </tr>\n",
       "    <tr>\n",
       "      <th>8DShNS-LuFqpEWIp0HxijA</th>\n",
       "      <td>Tempe</td>\n",
       "      <td>AZ</td>\n",
       "      <td>85282</td>\n",
       "      <td>33.383147</td>\n",
       "      <td>-111.964725</td>\n",
       "      <td>3.0</td>\n",
       "      <td>9</td>\n",
       "      <td>Sporting Goods;Shopping</td>\n",
       "    </tr>\n",
       "    <tr>\n",
       "      <th>PfOCPjBrlQAnz__NXj9h_w</th>\n",
       "      <td>Cuyahoga Falls</td>\n",
       "      <td>OH</td>\n",
       "      <td>44221</td>\n",
       "      <td>41.119535</td>\n",
       "      <td>-81.475690</td>\n",
       "      <td>3.5</td>\n",
       "      <td>116</td>\n",
       "      <td>American (New);Nightlife;Bars;Sandwiches;Ameri...</td>\n",
       "    </tr>\n",
       "  </tbody>\n",
       "</table>\n",
       "</div>"
      ],
      "text/plain": [
       "                                  city state postal_code   latitude  \\\n",
       "business_id                                                           \n",
       "FYWN1wneV18bWNgQjJ2GNg       Ahwatukee    AZ       85044  33.330690   \n",
       "He-G7vWjzVUysIKrfNbPUQ        McMurray    PA       15317  40.291685   \n",
       "KQPW8lFf1y5BT2MxiSZ3QA         Phoenix    AZ       85017  33.524903   \n",
       "8DShNS-LuFqpEWIp0HxijA           Tempe    AZ       85282  33.383147   \n",
       "PfOCPjBrlQAnz__NXj9h_w  Cuyahoga Falls    OH       44221  41.119535   \n",
       "\n",
       "                         longitude  stars  review_count  \\\n",
       "business_id                                               \n",
       "FYWN1wneV18bWNgQjJ2GNg -111.978599    4.0            22   \n",
       "He-G7vWjzVUysIKrfNbPUQ  -80.104900    3.0            11   \n",
       "KQPW8lFf1y5BT2MxiSZ3QA -112.115310    1.5            18   \n",
       "8DShNS-LuFqpEWIp0HxijA -111.964725    3.0             9   \n",
       "PfOCPjBrlQAnz__NXj9h_w  -81.475690    3.5           116   \n",
       "\n",
       "                                                               categories  \n",
       "business_id                                                                \n",
       "FYWN1wneV18bWNgQjJ2GNg  Dentists;General Dentistry;Health & Medical;Or...  \n",
       "He-G7vWjzVUysIKrfNbPUQ  Hair Stylists;Hair Salons;Men's Hair Salons;Bl...  \n",
       "KQPW8lFf1y5BT2MxiSZ3QA  Departments of Motor Vehicles;Public Services ...  \n",
       "8DShNS-LuFqpEWIp0HxijA                            Sporting Goods;Shopping  \n",
       "PfOCPjBrlQAnz__NXj9h_w  American (New);Nightlife;Bars;Sandwiches;Ameri...  "
      ]
     },
     "execution_count": 2,
     "metadata": {},
     "output_type": "execute_result"
    }
   ],
   "source": [
    "business_df.head()"
   ]
  },
  {
   "cell_type": "code",
   "execution_count": 3,
   "metadata": {},
   "outputs": [
    {
     "data": {
      "text/plain": [
       "(174567, 8)"
      ]
     },
     "execution_count": 3,
     "metadata": {},
     "output_type": "execute_result"
    }
   ],
   "source": [
    "business_df.shape"
   ]
  },
  {
   "cell_type": "code",
   "execution_count": 4,
   "metadata": {},
   "outputs": [
    {
     "data": {
      "text/html": [
       "<div>\n",
       "<style scoped>\n",
       "    .dataframe tbody tr th:only-of-type {\n",
       "        vertical-align: middle;\n",
       "    }\n",
       "\n",
       "    .dataframe tbody tr th {\n",
       "        vertical-align: top;\n",
       "    }\n",
       "\n",
       "    .dataframe thead th {\n",
       "        text-align: right;\n",
       "    }\n",
       "</style>\n",
       "<table border=\"1\" class=\"dataframe\">\n",
       "  <thead>\n",
       "    <tr style=\"text-align: right;\">\n",
       "      <th></th>\n",
       "      <th>city</th>\n",
       "      <th>state</th>\n",
       "      <th>postal_code</th>\n",
       "      <th>latitude</th>\n",
       "      <th>longitude</th>\n",
       "      <th>stars</th>\n",
       "      <th>review_count</th>\n",
       "      <th>categories</th>\n",
       "    </tr>\n",
       "  </thead>\n",
       "  <tbody>\n",
       "    <tr>\n",
       "      <th>count</th>\n",
       "      <td>174566</td>\n",
       "      <td>174566</td>\n",
       "      <td>173944</td>\n",
       "      <td>174566.000000</td>\n",
       "      <td>174566.000000</td>\n",
       "      <td>174567.000000</td>\n",
       "      <td>174567.000000</td>\n",
       "      <td>174567</td>\n",
       "    </tr>\n",
       "    <tr>\n",
       "      <th>unique</th>\n",
       "      <td>1093</td>\n",
       "      <td>67</td>\n",
       "      <td>16004</td>\n",
       "      <td>NaN</td>\n",
       "      <td>NaN</td>\n",
       "      <td>NaN</td>\n",
       "      <td>NaN</td>\n",
       "      <td>76419</td>\n",
       "    </tr>\n",
       "    <tr>\n",
       "      <th>top</th>\n",
       "      <td>Las Vegas</td>\n",
       "      <td>AZ</td>\n",
       "      <td>89109</td>\n",
       "      <td>NaN</td>\n",
       "      <td>NaN</td>\n",
       "      <td>NaN</td>\n",
       "      <td>NaN</td>\n",
       "      <td>Restaurants;Pizza</td>\n",
       "    </tr>\n",
       "    <tr>\n",
       "      <th>freq</th>\n",
       "      <td>26775</td>\n",
       "      <td>52214</td>\n",
       "      <td>2965</td>\n",
       "      <td>NaN</td>\n",
       "      <td>NaN</td>\n",
       "      <td>NaN</td>\n",
       "      <td>NaN</td>\n",
       "      <td>990</td>\n",
       "    </tr>\n",
       "    <tr>\n",
       "      <th>mean</th>\n",
       "      <td>NaN</td>\n",
       "      <td>NaN</td>\n",
       "      <td>NaN</td>\n",
       "      <td>38.627312</td>\n",
       "      <td>-92.679009</td>\n",
       "      <td>3.632196</td>\n",
       "      <td>30.137059</td>\n",
       "      <td>NaN</td>\n",
       "    </tr>\n",
       "    <tr>\n",
       "      <th>std</th>\n",
       "      <td>NaN</td>\n",
       "      <td>NaN</td>\n",
       "      <td>NaN</td>\n",
       "      <td>5.389012</td>\n",
       "      <td>26.240079</td>\n",
       "      <td>1.003739</td>\n",
       "      <td>98.208174</td>\n",
       "      <td>NaN</td>\n",
       "    </tr>\n",
       "    <tr>\n",
       "      <th>min</th>\n",
       "      <td>NaN</td>\n",
       "      <td>NaN</td>\n",
       "      <td>NaN</td>\n",
       "      <td>-36.086009</td>\n",
       "      <td>-142.466650</td>\n",
       "      <td>1.000000</td>\n",
       "      <td>3.000000</td>\n",
       "      <td>NaN</td>\n",
       "    </tr>\n",
       "    <tr>\n",
       "      <th>25%</th>\n",
       "      <td>NaN</td>\n",
       "      <td>NaN</td>\n",
       "      <td>NaN</td>\n",
       "      <td>33.631550</td>\n",
       "      <td>-112.125879</td>\n",
       "      <td>3.000000</td>\n",
       "      <td>4.000000</td>\n",
       "      <td>NaN</td>\n",
       "    </tr>\n",
       "    <tr>\n",
       "      <th>50%</th>\n",
       "      <td>NaN</td>\n",
       "      <td>NaN</td>\n",
       "      <td>NaN</td>\n",
       "      <td>36.144257</td>\n",
       "      <td>-89.410128</td>\n",
       "      <td>3.500000</td>\n",
       "      <td>8.000000</td>\n",
       "      <td>NaN</td>\n",
       "    </tr>\n",
       "    <tr>\n",
       "      <th>75%</th>\n",
       "      <td>NaN</td>\n",
       "      <td>NaN</td>\n",
       "      <td>NaN</td>\n",
       "      <td>43.606181</td>\n",
       "      <td>-79.657609</td>\n",
       "      <td>4.500000</td>\n",
       "      <td>23.000000</td>\n",
       "      <td>NaN</td>\n",
       "    </tr>\n",
       "    <tr>\n",
       "      <th>max</th>\n",
       "      <td>NaN</td>\n",
       "      <td>NaN</td>\n",
       "      <td>NaN</td>\n",
       "      <td>89.999314</td>\n",
       "      <td>115.086769</td>\n",
       "      <td>5.000000</td>\n",
       "      <td>7361.000000</td>\n",
       "      <td>NaN</td>\n",
       "    </tr>\n",
       "  </tbody>\n",
       "</table>\n",
       "</div>"
      ],
      "text/plain": [
       "             city   state postal_code       latitude      longitude  \\\n",
       "count      174566  174566      173944  174566.000000  174566.000000   \n",
       "unique       1093      67       16004            NaN            NaN   \n",
       "top     Las Vegas      AZ       89109            NaN            NaN   \n",
       "freq        26775   52214        2965            NaN            NaN   \n",
       "mean          NaN     NaN         NaN      38.627312     -92.679009   \n",
       "std           NaN     NaN         NaN       5.389012      26.240079   \n",
       "min           NaN     NaN         NaN     -36.086009    -142.466650   \n",
       "25%           NaN     NaN         NaN      33.631550    -112.125879   \n",
       "50%           NaN     NaN         NaN      36.144257     -89.410128   \n",
       "75%           NaN     NaN         NaN      43.606181     -79.657609   \n",
       "max           NaN     NaN         NaN      89.999314     115.086769   \n",
       "\n",
       "                stars   review_count         categories  \n",
       "count   174567.000000  174567.000000             174567  \n",
       "unique            NaN            NaN              76419  \n",
       "top               NaN            NaN  Restaurants;Pizza  \n",
       "freq              NaN            NaN                990  \n",
       "mean         3.632196      30.137059                NaN  \n",
       "std          1.003739      98.208174                NaN  \n",
       "min          1.000000       3.000000                NaN  \n",
       "25%          3.000000       4.000000                NaN  \n",
       "50%          3.500000       8.000000                NaN  \n",
       "75%          4.500000      23.000000                NaN  \n",
       "max          5.000000    7361.000000                NaN  "
      ]
     },
     "execution_count": 4,
     "metadata": {},
     "output_type": "execute_result"
    }
   ],
   "source": [
    "business_df.describe(include='all')"
   ]
  },
  {
   "cell_type": "markdown",
   "metadata": {},
   "source": [
    "Because we are visualizing only restaurant review data, we want to extract observations that have Restaurants value in their category attribute."
   ]
  },
  {
   "cell_type": "code",
   "execution_count": 5,
   "metadata": {},
   "outputs": [
    {
     "data": {
      "text/plain": [
       "Restaurants;Pizza                                                                                                                  990\n",
       "Pizza;Restaurants                                                                                                                  987\n",
       "Food;Coffee & Tea                                                                                                                  978\n",
       "Nail Salons;Beauty & Spas                                                                                                          936\n",
       "Coffee & Tea;Food                                                                                                                  929\n",
       "Beauty & Spas;Nail Salons                                                                                                          909\n",
       "Mexican;Restaurants                                                                                                                906\n",
       "Restaurants;Mexican                                                                                                                864\n",
       "Restaurants;Chinese                                                                                                                857\n",
       "Beauty & Spas;Hair Salons                                                                                                          839\n",
       "Chinese;Restaurants                                                                                                                839\n",
       "Hair Salons;Beauty & Spas                                                                                                          781\n",
       "Restaurants;Italian                                                                                                                615\n",
       "Italian;Restaurants                                                                                                                554\n",
       "Auto Repair;Automotive                                                                                                             551\n",
       "Grocery;Food                                                                                                                       538\n",
       "Food;Grocery                                                                                                                       522\n",
       "Automotive;Auto Repair                                                                                                             504\n",
       "Na                                                                                                                                 500\n",
       "Food;Ice Cream & Frozen Yogurt                                                                                                     424\n",
       "Ice Cream & Frozen Yogurt;Food                                                                                                     389\n",
       "Financial Services;Banks & Credit Unions                                                                                           382\n",
       "Food;Bakeries                                                                                                                      374\n",
       "Restaurants                                                                                                                        362\n",
       "Bakeries;Food                                                                                                                      357\n",
       "Beauty & Spas;Barbers                                                                                                              355\n",
       "Banks & Credit Unions;Financial Services                                                                                           346\n",
       "Barbers;Beauty & Spas                                                                                                              346\n",
       "Restaurants;American (Traditional)                                                                                                 311\n",
       "Apartments;Real Estate;Home Services                                                                                               309\n",
       "                                                                                                                                  ... \n",
       "Hair Stylists;Shopping;Cosmetics & Beauty Supply;Hair Extensions;Beauty & Spas;Hair Salons                                           1\n",
       "Shopping;Food;Furniture Stores;Home Decor;Beer;Wine & Spirits;Home & Garden                                                          1\n",
       "Electronics;Computers;Shopping                                                                                                       1\n",
       "Party Characters;Event Planning & Services                                                                                           1\n",
       "Automotive;Keys & Locksmiths;Roadside Assistance;Tires;Auto Parts & Supplies;Auto Repair;Home Services;Towing                        1\n",
       "Cocktail Bars;Italian;Restaurants;Bars;American (Traditional);Seafood;Nightlife;Tex-Mex;Wine Bars                                    1\n",
       "Moroccan;Mediterranean;Restaurants;Sandwiches;Salad                                                                                  1\n",
       "Food;Internet Cafes;Breakfast & Brunch;Coffee & Tea;Restaurants                                                                      1\n",
       "Cajun/Creole;Seafood;Soul Food;Restaurants                                                                                           1\n",
       "Food;Home Decor;Farmers Market;Fruits & Veggies;Home & Garden;Specialty Food;Shopping;Nurseries & Gardening                          1\n",
       "Restaurants;Mediterranean;Greek;Cafes;Middle Eastern                                                                                 1\n",
       "Middle Eastern;Restaurants;Indian;Food;American (New);Afghan                                                                         1\n",
       "Local Services;Heating & Air Conditioning/HVAC;Air Duct Cleaning;Home Services;Water Heater Installation/Repair                      1\n",
       "Car Buyers;Car Dealers;Automotive                                                                                                    1\n",
       "Nightlife;Dive Bars;Restaurants;American (New);Bars                                                                                  1\n",
       "Sports Bars;Food;Restaurants;Nightlife;Pizza;Bars;Breweries                                                                          1\n",
       "Specialty Food;International Grocery;Ethnic Food;Grocery;Food                                                                        1\n",
       "Lounges;Restaurants;Nightlife;Bars;Cafes                                                                                             1\n",
       "Food;Scottish;Restaurants;Nightlife;Pubs;Bars                                                                                        1\n",
       "Boot Camps;Nutritionists;Interval Training Gyms;Health & Medical;Active Life;Trainers;Cardio Classes;Gyms;Fitness & Instruction      1\n",
       "Automotive;Truck Rental;Home Services;Car Rental;Propane;Local Services;Movers;Self Storage;Hotels & Travel                          1\n",
       "Gold Buyers;Watches;Shopping;Jewelry;Pawn Shops;Hobby Shops                                                                          1\n",
       "Home & Garden;Home Services;Home Decor;Carpeting;Shopping;Rugs                                                                       1\n",
       "Vinyl Records;Music & DVDs;Videos & Video Game Rental;Books;Mags;Music & Video;Shopping;Newspapers & Magazines                       1\n",
       "Pediatricians;Preschools;Education;Doctors;Health & Medical                                                                          1\n",
       "Pool & Hot Tub Service;Pool Cleaners;Water Purification Services;Home Services                                                       1\n",
       "Skin Care;Beauty & Spas;Hair Removal;Barbers;Hair Salons;Tanning;Spray Tanning                                                       1\n",
       "Restaurants;Latin American;Food;Empanadas;Comfort Food                                                                               1\n",
       "Wine Bars;Bars;Nightlife;Restaurants;French                                                                                          1\n",
       "Summer Camps;Tennis;Active Life                                                                                                      1\n",
       "Name: categories, Length: 76419, dtype: int64"
      ]
     },
     "execution_count": 5,
     "metadata": {},
     "output_type": "execute_result"
    }
   ],
   "source": [
    "business_df.categories.value_counts()"
   ]
  },
  {
   "cell_type": "code",
   "execution_count": 6,
   "metadata": {},
   "outputs": [],
   "source": [
    "# Matching 'Restaurants' string with categories attribute and extracting a new dataframe\n",
    "restaurants_df = business_df[business_df['categories'].str.contains('Restaurants')]"
   ]
  },
  {
   "cell_type": "code",
   "execution_count": 7,
   "metadata": {},
   "outputs": [
    {
     "data": {
      "text/plain": [
       "(54618, 8)"
      ]
     },
     "execution_count": 7,
     "metadata": {},
     "output_type": "execute_result"
    }
   ],
   "source": [
    "restaurants_df.shape"
   ]
  },
  {
   "cell_type": "code",
   "execution_count": 8,
   "metadata": {},
   "outputs": [
    {
     "data": {
      "text/html": [
       "<div>\n",
       "<style scoped>\n",
       "    .dataframe tbody tr th:only-of-type {\n",
       "        vertical-align: middle;\n",
       "    }\n",
       "\n",
       "    .dataframe tbody tr th {\n",
       "        vertical-align: top;\n",
       "    }\n",
       "\n",
       "    .dataframe thead th {\n",
       "        text-align: right;\n",
       "    }\n",
       "</style>\n",
       "<table border=\"1\" class=\"dataframe\">\n",
       "  <thead>\n",
       "    <tr style=\"text-align: right;\">\n",
       "      <th></th>\n",
       "      <th>city</th>\n",
       "      <th>state</th>\n",
       "      <th>postal_code</th>\n",
       "      <th>latitude</th>\n",
       "      <th>longitude</th>\n",
       "      <th>stars</th>\n",
       "      <th>review_count</th>\n",
       "      <th>categories</th>\n",
       "    </tr>\n",
       "    <tr>\n",
       "      <th>business_id</th>\n",
       "      <th></th>\n",
       "      <th></th>\n",
       "      <th></th>\n",
       "      <th></th>\n",
       "      <th></th>\n",
       "      <th></th>\n",
       "      <th></th>\n",
       "      <th></th>\n",
       "    </tr>\n",
       "  </thead>\n",
       "  <tbody>\n",
       "    <tr>\n",
       "      <th>PfOCPjBrlQAnz__NXj9h_w</th>\n",
       "      <td>Cuyahoga Falls</td>\n",
       "      <td>OH</td>\n",
       "      <td>44221</td>\n",
       "      <td>41.119535</td>\n",
       "      <td>-81.475690</td>\n",
       "      <td>3.5</td>\n",
       "      <td>116</td>\n",
       "      <td>American (New);Nightlife;Bars;Sandwiches;Ameri...</td>\n",
       "    </tr>\n",
       "    <tr>\n",
       "      <th>o9eMRCWt5PkpLDE0gOPtcQ</th>\n",
       "      <td>Stuttgart</td>\n",
       "      <td>BW</td>\n",
       "      <td>70567</td>\n",
       "      <td>48.727200</td>\n",
       "      <td>9.147950</td>\n",
       "      <td>4.0</td>\n",
       "      <td>5</td>\n",
       "      <td>Italian;Restaurants</td>\n",
       "    </tr>\n",
       "    <tr>\n",
       "      <th>XOSRcvtaKc_Q5H1SAzN20A</th>\n",
       "      <td>Houston</td>\n",
       "      <td>PA</td>\n",
       "      <td>15342</td>\n",
       "      <td>40.241548</td>\n",
       "      <td>-80.212815</td>\n",
       "      <td>4.5</td>\n",
       "      <td>3</td>\n",
       "      <td>Breakfast &amp; Brunch;Gluten-Free;Coffee &amp; Tea;Fo...</td>\n",
       "    </tr>\n",
       "    <tr>\n",
       "      <th>fNMVV_ZX7CJSDWQGdOM8Nw</th>\n",
       "      <td>Charlotte</td>\n",
       "      <td>NC</td>\n",
       "      <td>28202</td>\n",
       "      <td>35.221647</td>\n",
       "      <td>-80.839345</td>\n",
       "      <td>3.5</td>\n",
       "      <td>7</td>\n",
       "      <td>Restaurants;American (Traditional)</td>\n",
       "    </tr>\n",
       "    <tr>\n",
       "      <th>l09JfMeQ6ynYs5MCJtrcmQ</th>\n",
       "      <td>Toronto</td>\n",
       "      <td>ON</td>\n",
       "      <td>M4P 2H6</td>\n",
       "      <td>43.711399</td>\n",
       "      <td>-79.399339</td>\n",
       "      <td>3.0</td>\n",
       "      <td>12</td>\n",
       "      <td>Italian;French;Restaurants</td>\n",
       "    </tr>\n",
       "  </tbody>\n",
       "</table>\n",
       "</div>"
      ],
      "text/plain": [
       "                                  city state postal_code   latitude  \\\n",
       "business_id                                                           \n",
       "PfOCPjBrlQAnz__NXj9h_w  Cuyahoga Falls    OH       44221  41.119535   \n",
       "o9eMRCWt5PkpLDE0gOPtcQ       Stuttgart    BW       70567  48.727200   \n",
       "XOSRcvtaKc_Q5H1SAzN20A         Houston    PA       15342  40.241548   \n",
       "fNMVV_ZX7CJSDWQGdOM8Nw       Charlotte    NC       28202  35.221647   \n",
       "l09JfMeQ6ynYs5MCJtrcmQ         Toronto    ON     M4P 2H6  43.711399   \n",
       "\n",
       "                        longitude  stars  review_count  \\\n",
       "business_id                                              \n",
       "PfOCPjBrlQAnz__NXj9h_w -81.475690    3.5           116   \n",
       "o9eMRCWt5PkpLDE0gOPtcQ   9.147950    4.0             5   \n",
       "XOSRcvtaKc_Q5H1SAzN20A -80.212815    4.5             3   \n",
       "fNMVV_ZX7CJSDWQGdOM8Nw -80.839345    3.5             7   \n",
       "l09JfMeQ6ynYs5MCJtrcmQ -79.399339    3.0            12   \n",
       "\n",
       "                                                               categories  \n",
       "business_id                                                                \n",
       "PfOCPjBrlQAnz__NXj9h_w  American (New);Nightlife;Bars;Sandwiches;Ameri...  \n",
       "o9eMRCWt5PkpLDE0gOPtcQ                                Italian;Restaurants  \n",
       "XOSRcvtaKc_Q5H1SAzN20A  Breakfast & Brunch;Gluten-Free;Coffee & Tea;Fo...  \n",
       "fNMVV_ZX7CJSDWQGdOM8Nw                 Restaurants;American (Traditional)  \n",
       "l09JfMeQ6ynYs5MCJtrcmQ                         Italian;French;Restaurants  "
      ]
     },
     "execution_count": 8,
     "metadata": {},
     "output_type": "execute_result"
    }
   ],
   "source": [
    "restaurants_df.head()"
   ]
  },
  {
   "cell_type": "markdown",
   "metadata": {},
   "source": [
    "Inspecting the DF for missing and duplicate values"
   ]
  },
  {
   "cell_type": "code",
   "execution_count": 9,
   "metadata": {},
   "outputs": [
    {
     "data": {
      "text/plain": [
       "city              0\n",
       "state             0\n",
       "postal_code     101\n",
       "latitude          0\n",
       "longitude         0\n",
       "stars             0\n",
       "review_count      0\n",
       "categories        0\n",
       "dtype: int64"
      ]
     },
     "execution_count": 9,
     "metadata": {},
     "output_type": "execute_result"
    }
   ],
   "source": [
    "restaurants_df.isna().sum()"
   ]
  },
  {
   "cell_type": "markdown",
   "metadata": {},
   "source": [
    "There are some missing values, but so few that we can drop them."
   ]
  },
  {
   "cell_type": "code",
   "execution_count": 10,
   "metadata": {},
   "outputs": [
    {
     "data": {
      "text/plain": [
       "city            0\n",
       "state           0\n",
       "postal_code     0\n",
       "latitude        0\n",
       "longitude       0\n",
       "stars           0\n",
       "review_count    0\n",
       "categories      0\n",
       "dtype: int64"
      ]
     },
     "execution_count": 10,
     "metadata": {},
     "output_type": "execute_result"
    }
   ],
   "source": [
    "r_df_nona = restaurants_df.dropna(axis=0, how='any')\n",
    "r_df_nona.isna().sum()"
   ]
  },
  {
   "cell_type": "code",
   "execution_count": 11,
   "metadata": {},
   "outputs": [
    {
     "data": {
      "text/html": [
       "<div>\n",
       "<style scoped>\n",
       "    .dataframe tbody tr th:only-of-type {\n",
       "        vertical-align: middle;\n",
       "    }\n",
       "\n",
       "    .dataframe tbody tr th {\n",
       "        vertical-align: top;\n",
       "    }\n",
       "\n",
       "    .dataframe thead th {\n",
       "        text-align: right;\n",
       "    }\n",
       "</style>\n",
       "<table border=\"1\" class=\"dataframe\">\n",
       "  <thead>\n",
       "    <tr style=\"text-align: right;\">\n",
       "      <th></th>\n",
       "      <th>city</th>\n",
       "      <th>state</th>\n",
       "      <th>postal_code</th>\n",
       "      <th>latitude</th>\n",
       "      <th>longitude</th>\n",
       "      <th>stars</th>\n",
       "      <th>review_count</th>\n",
       "      <th>categories</th>\n",
       "    </tr>\n",
       "    <tr>\n",
       "      <th>business_id</th>\n",
       "      <th></th>\n",
       "      <th></th>\n",
       "      <th></th>\n",
       "      <th></th>\n",
       "      <th></th>\n",
       "      <th></th>\n",
       "      <th></th>\n",
       "      <th></th>\n",
       "    </tr>\n",
       "  </thead>\n",
       "  <tbody>\n",
       "    <tr>\n",
       "      <th>e8cFfRySb8n9lMXRnyzeIA</th>\n",
       "      <td>Charlotte</td>\n",
       "      <td>NC</td>\n",
       "      <td>28270</td>\n",
       "      <td>35.137593</td>\n",
       "      <td>-80.73942</td>\n",
       "      <td>3.0</td>\n",
       "      <td>7</td>\n",
       "      <td>Restaurants;Chinese</td>\n",
       "    </tr>\n",
       "  </tbody>\n",
       "</table>\n",
       "</div>"
      ],
      "text/plain": [
       "                             city state postal_code   latitude  longitude  \\\n",
       "business_id                                                                 \n",
       "e8cFfRySb8n9lMXRnyzeIA  Charlotte    NC       28270  35.137593  -80.73942   \n",
       "\n",
       "                        stars  review_count           categories  \n",
       "business_id                                                       \n",
       "e8cFfRySb8n9lMXRnyzeIA    3.0             7  Restaurants;Chinese  "
      ]
     },
     "execution_count": 11,
     "metadata": {},
     "output_type": "execute_result"
    }
   ],
   "source": [
    "r_df_nona[r_df_nona.duplicated()]"
   ]
  },
  {
   "cell_type": "markdown",
   "metadata": {},
   "source": [
    "Only one duplicate value so we can drop it."
   ]
  },
  {
   "cell_type": "code",
   "execution_count": 12,
   "metadata": {},
   "outputs": [],
   "source": [
    "r_df = r_df_nona.drop_duplicates(keep='first')"
   ]
  },
  {
   "cell_type": "code",
   "execution_count": 13,
   "metadata": {},
   "outputs": [
    {
     "name": "stdout",
     "output_type": "stream",
     "text": [
      "<class 'pandas.core.frame.DataFrame'>\n",
      "Index: 54516 entries, PfOCPjBrlQAnz__NXj9h_w to UdEmYOnk2iJDY9lpEPAlJQ\n",
      "Data columns (total 8 columns):\n",
      "city            54516 non-null object\n",
      "state           54516 non-null object\n",
      "postal_code     54516 non-null object\n",
      "latitude        54516 non-null float64\n",
      "longitude       54516 non-null float64\n",
      "stars           54516 non-null float64\n",
      "review_count    54516 non-null int64\n",
      "categories      54516 non-null object\n",
      "dtypes: float64(3), int64(1), object(4)\n",
      "memory usage: 3.7+ MB\n"
     ]
    }
   ],
   "source": [
    "r_df.info()"
   ]
  },
  {
   "cell_type": "markdown",
   "metadata": {},
   "source": [
    "We want to replace the Restaurants string in categories attribute, because it doesn't provide any additional information"
   ]
  },
  {
   "cell_type": "code",
   "execution_count": 14,
   "metadata": {},
   "outputs": [
    {
     "name": "stderr",
     "output_type": "stream",
     "text": [
      "C:\\Users\\joona\\Anaconda3\\lib\\site-packages\\ipykernel_launcher.py:1: SettingWithCopyWarning: \n",
      "A value is trying to be set on a copy of a slice from a DataFrame.\n",
      "Try using .loc[row_indexer,col_indexer] = value instead\n",
      "\n",
      "See the caveats in the documentation: http://pandas.pydata.org/pandas-docs/stable/indexing.html#indexing-view-versus-copy\n",
      "  \"\"\"Entry point for launching an IPython kernel.\n"
     ]
    }
   ],
   "source": [
    "r_df['categories'] = r_df['categories'].replace({';Restaurants' : '', 'Restaurants;' : '', 'Restaurants' : ''}, regex=True)"
   ]
  },
  {
   "cell_type": "code",
   "execution_count": 15,
   "metadata": {},
   "outputs": [
    {
     "data": {
      "text/html": [
       "<div>\n",
       "<style scoped>\n",
       "    .dataframe tbody tr th:only-of-type {\n",
       "        vertical-align: middle;\n",
       "    }\n",
       "\n",
       "    .dataframe tbody tr th {\n",
       "        vertical-align: top;\n",
       "    }\n",
       "\n",
       "    .dataframe thead th {\n",
       "        text-align: right;\n",
       "    }\n",
       "</style>\n",
       "<table border=\"1\" class=\"dataframe\">\n",
       "  <thead>\n",
       "    <tr style=\"text-align: right;\">\n",
       "      <th></th>\n",
       "      <th>city</th>\n",
       "      <th>state</th>\n",
       "      <th>postal_code</th>\n",
       "      <th>latitude</th>\n",
       "      <th>longitude</th>\n",
       "      <th>stars</th>\n",
       "      <th>review_count</th>\n",
       "      <th>categories</th>\n",
       "    </tr>\n",
       "    <tr>\n",
       "      <th>business_id</th>\n",
       "      <th></th>\n",
       "      <th></th>\n",
       "      <th></th>\n",
       "      <th></th>\n",
       "      <th></th>\n",
       "      <th></th>\n",
       "      <th></th>\n",
       "      <th></th>\n",
       "    </tr>\n",
       "  </thead>\n",
       "  <tbody>\n",
       "    <tr>\n",
       "      <th>PfOCPjBrlQAnz__NXj9h_w</th>\n",
       "      <td>Cuyahoga Falls</td>\n",
       "      <td>OH</td>\n",
       "      <td>44221</td>\n",
       "      <td>41.119535</td>\n",
       "      <td>-81.475690</td>\n",
       "      <td>3.5</td>\n",
       "      <td>116</td>\n",
       "      <td>American (New);Nightlife;Bars;Sandwiches;Ameri...</td>\n",
       "    </tr>\n",
       "    <tr>\n",
       "      <th>o9eMRCWt5PkpLDE0gOPtcQ</th>\n",
       "      <td>Stuttgart</td>\n",
       "      <td>BW</td>\n",
       "      <td>70567</td>\n",
       "      <td>48.727200</td>\n",
       "      <td>9.147950</td>\n",
       "      <td>4.0</td>\n",
       "      <td>5</td>\n",
       "      <td>Italian</td>\n",
       "    </tr>\n",
       "    <tr>\n",
       "      <th>XOSRcvtaKc_Q5H1SAzN20A</th>\n",
       "      <td>Houston</td>\n",
       "      <td>PA</td>\n",
       "      <td>15342</td>\n",
       "      <td>40.241548</td>\n",
       "      <td>-80.212815</td>\n",
       "      <td>4.5</td>\n",
       "      <td>3</td>\n",
       "      <td>Breakfast &amp; Brunch;Gluten-Free;Coffee &amp; Tea;Fo...</td>\n",
       "    </tr>\n",
       "    <tr>\n",
       "      <th>fNMVV_ZX7CJSDWQGdOM8Nw</th>\n",
       "      <td>Charlotte</td>\n",
       "      <td>NC</td>\n",
       "      <td>28202</td>\n",
       "      <td>35.221647</td>\n",
       "      <td>-80.839345</td>\n",
       "      <td>3.5</td>\n",
       "      <td>7</td>\n",
       "      <td>American (Traditional)</td>\n",
       "    </tr>\n",
       "    <tr>\n",
       "      <th>l09JfMeQ6ynYs5MCJtrcmQ</th>\n",
       "      <td>Toronto</td>\n",
       "      <td>ON</td>\n",
       "      <td>M4P 2H6</td>\n",
       "      <td>43.711399</td>\n",
       "      <td>-79.399339</td>\n",
       "      <td>3.0</td>\n",
       "      <td>12</td>\n",
       "      <td>Italian;French</td>\n",
       "    </tr>\n",
       "  </tbody>\n",
       "</table>\n",
       "</div>"
      ],
      "text/plain": [
       "                                  city state postal_code   latitude  \\\n",
       "business_id                                                           \n",
       "PfOCPjBrlQAnz__NXj9h_w  Cuyahoga Falls    OH       44221  41.119535   \n",
       "o9eMRCWt5PkpLDE0gOPtcQ       Stuttgart    BW       70567  48.727200   \n",
       "XOSRcvtaKc_Q5H1SAzN20A         Houston    PA       15342  40.241548   \n",
       "fNMVV_ZX7CJSDWQGdOM8Nw       Charlotte    NC       28202  35.221647   \n",
       "l09JfMeQ6ynYs5MCJtrcmQ         Toronto    ON     M4P 2H6  43.711399   \n",
       "\n",
       "                        longitude  stars  review_count  \\\n",
       "business_id                                              \n",
       "PfOCPjBrlQAnz__NXj9h_w -81.475690    3.5           116   \n",
       "o9eMRCWt5PkpLDE0gOPtcQ   9.147950    4.0             5   \n",
       "XOSRcvtaKc_Q5H1SAzN20A -80.212815    4.5             3   \n",
       "fNMVV_ZX7CJSDWQGdOM8Nw -80.839345    3.5             7   \n",
       "l09JfMeQ6ynYs5MCJtrcmQ -79.399339    3.0            12   \n",
       "\n",
       "                                                               categories  \n",
       "business_id                                                                \n",
       "PfOCPjBrlQAnz__NXj9h_w  American (New);Nightlife;Bars;Sandwiches;Ameri...  \n",
       "o9eMRCWt5PkpLDE0gOPtcQ                                            Italian  \n",
       "XOSRcvtaKc_Q5H1SAzN20A  Breakfast & Brunch;Gluten-Free;Coffee & Tea;Fo...  \n",
       "fNMVV_ZX7CJSDWQGdOM8Nw                             American (Traditional)  \n",
       "l09JfMeQ6ynYs5MCJtrcmQ                                     Italian;French  "
      ]
     },
     "execution_count": 15,
     "metadata": {},
     "output_type": "execute_result"
    }
   ],
   "source": [
    "r_df.head()"
   ]
  },
  {
   "cell_type": "markdown",
   "metadata": {},
   "source": [
    "Now we want to split the categories column by \";\" character and add the first given category (the most important one) to the r_df."
   ]
  },
  {
   "cell_type": "code",
   "execution_count": 16,
   "metadata": {},
   "outputs": [
    {
     "name": "stderr",
     "output_type": "stream",
     "text": [
      "C:\\Users\\joona\\Anaconda3\\lib\\site-packages\\ipykernel_launcher.py:1: SettingWithCopyWarning: \n",
      "A value is trying to be set on a copy of a slice from a DataFrame.\n",
      "Try using .loc[row_indexer,col_indexer] = value instead\n",
      "\n",
      "See the caveats in the documentation: http://pandas.pydata.org/pandas-docs/stable/indexing.html#indexing-view-versus-copy\n",
      "  \"\"\"Entry point for launching an IPython kernel.\n"
     ]
    },
    {
     "data": {
      "text/html": [
       "<div>\n",
       "<style scoped>\n",
       "    .dataframe tbody tr th:only-of-type {\n",
       "        vertical-align: middle;\n",
       "    }\n",
       "\n",
       "    .dataframe tbody tr th {\n",
       "        vertical-align: top;\n",
       "    }\n",
       "\n",
       "    .dataframe thead th {\n",
       "        text-align: right;\n",
       "    }\n",
       "</style>\n",
       "<table border=\"1\" class=\"dataframe\">\n",
       "  <thead>\n",
       "    <tr style=\"text-align: right;\">\n",
       "      <th></th>\n",
       "      <th>city</th>\n",
       "      <th>state</th>\n",
       "      <th>postal_code</th>\n",
       "      <th>latitude</th>\n",
       "      <th>longitude</th>\n",
       "      <th>stars</th>\n",
       "      <th>review_count</th>\n",
       "      <th>category</th>\n",
       "    </tr>\n",
       "    <tr>\n",
       "      <th>business_id</th>\n",
       "      <th></th>\n",
       "      <th></th>\n",
       "      <th></th>\n",
       "      <th></th>\n",
       "      <th></th>\n",
       "      <th></th>\n",
       "      <th></th>\n",
       "      <th></th>\n",
       "    </tr>\n",
       "  </thead>\n",
       "  <tbody>\n",
       "    <tr>\n",
       "      <th>PfOCPjBrlQAnz__NXj9h_w</th>\n",
       "      <td>Cuyahoga Falls</td>\n",
       "      <td>OH</td>\n",
       "      <td>44221</td>\n",
       "      <td>41.119535</td>\n",
       "      <td>-81.475690</td>\n",
       "      <td>3.5</td>\n",
       "      <td>116</td>\n",
       "      <td>American (New)</td>\n",
       "    </tr>\n",
       "    <tr>\n",
       "      <th>o9eMRCWt5PkpLDE0gOPtcQ</th>\n",
       "      <td>Stuttgart</td>\n",
       "      <td>BW</td>\n",
       "      <td>70567</td>\n",
       "      <td>48.727200</td>\n",
       "      <td>9.147950</td>\n",
       "      <td>4.0</td>\n",
       "      <td>5</td>\n",
       "      <td>Italian</td>\n",
       "    </tr>\n",
       "    <tr>\n",
       "      <th>XOSRcvtaKc_Q5H1SAzN20A</th>\n",
       "      <td>Houston</td>\n",
       "      <td>PA</td>\n",
       "      <td>15342</td>\n",
       "      <td>40.241548</td>\n",
       "      <td>-80.212815</td>\n",
       "      <td>4.5</td>\n",
       "      <td>3</td>\n",
       "      <td>Breakfast &amp; Brunch</td>\n",
       "    </tr>\n",
       "    <tr>\n",
       "      <th>fNMVV_ZX7CJSDWQGdOM8Nw</th>\n",
       "      <td>Charlotte</td>\n",
       "      <td>NC</td>\n",
       "      <td>28202</td>\n",
       "      <td>35.221647</td>\n",
       "      <td>-80.839345</td>\n",
       "      <td>3.5</td>\n",
       "      <td>7</td>\n",
       "      <td>American (Traditional)</td>\n",
       "    </tr>\n",
       "    <tr>\n",
       "      <th>l09JfMeQ6ynYs5MCJtrcmQ</th>\n",
       "      <td>Toronto</td>\n",
       "      <td>ON</td>\n",
       "      <td>M4P 2H6</td>\n",
       "      <td>43.711399</td>\n",
       "      <td>-79.399339</td>\n",
       "      <td>3.0</td>\n",
       "      <td>12</td>\n",
       "      <td>Italian</td>\n",
       "    </tr>\n",
       "  </tbody>\n",
       "</table>\n",
       "</div>"
      ],
      "text/plain": [
       "                                  city state postal_code   latitude  \\\n",
       "business_id                                                           \n",
       "PfOCPjBrlQAnz__NXj9h_w  Cuyahoga Falls    OH       44221  41.119535   \n",
       "o9eMRCWt5PkpLDE0gOPtcQ       Stuttgart    BW       70567  48.727200   \n",
       "XOSRcvtaKc_Q5H1SAzN20A         Houston    PA       15342  40.241548   \n",
       "fNMVV_ZX7CJSDWQGdOM8Nw       Charlotte    NC       28202  35.221647   \n",
       "l09JfMeQ6ynYs5MCJtrcmQ         Toronto    ON     M4P 2H6  43.711399   \n",
       "\n",
       "                        longitude  stars  review_count                category  \n",
       "business_id                                                                     \n",
       "PfOCPjBrlQAnz__NXj9h_w -81.475690    3.5           116          American (New)  \n",
       "o9eMRCWt5PkpLDE0gOPtcQ   9.147950    4.0             5                 Italian  \n",
       "XOSRcvtaKc_Q5H1SAzN20A -80.212815    4.5             3      Breakfast & Brunch  \n",
       "fNMVV_ZX7CJSDWQGdOM8Nw -80.839345    3.5             7  American (Traditional)  \n",
       "l09JfMeQ6ynYs5MCJtrcmQ -79.399339    3.0            12                 Italian  "
      ]
     },
     "execution_count": 16,
     "metadata": {},
     "output_type": "execute_result"
    }
   ],
   "source": [
    "r_df['category'] = r_df.categories.str.split(';').str[0]\n",
    "\n",
    "# Drop the categories column from the dataframe\n",
    "r_df_categorized = r_df.drop(columns='categories')\n",
    "r_df_categorized.head()"
   ]
  },
  {
   "cell_type": "code",
   "execution_count": 17,
   "metadata": {
    "scrolled": true
   },
   "outputs": [
    {
     "data": {
      "text/plain": [
       "Pizza                           3387\n",
       "Fast Food                       2847\n",
       "Mexican                         2557\n",
       "Chinese                         2538\n",
       "Food                            2520\n",
       "Italian                         2326\n",
       "Sandwiches                      2300\n",
       "American (Traditional)          2043\n",
       "Burgers                         1825\n",
       "Nightlife                       1568\n",
       "Breakfast & Brunch              1496\n",
       "Bars                            1487\n",
       "American (New)                  1386\n",
       "Japanese                        1159\n",
       "Cafes                           1023\n",
       "Sushi Bars                       907\n",
       "Thai                             832\n",
       "Seafood                          800\n",
       "Indian                           799\n",
       "Chicken Wings                    786\n",
       "Barbeque                         671\n",
       "Vietnamese                       647\n",
       "Mediterranean                    623\n",
       "Asian Fusion                     601\n",
       "Delis                            582\n",
       "Coffee & Tea                     582\n",
       "Steakhouses                      564\n",
       "Canadian (New)                   552\n",
       "Greek                            519\n",
       "Salad                            506\n",
       "                                ... \n",
       "Tasting Classes                    1\n",
       "Parks                              1\n",
       "Candy Stores                       1\n",
       "Handyman                           1\n",
       "Cultural Center                    1\n",
       "Walking Tours                      1\n",
       "Rock Climbing                      1\n",
       "Wine Tasting Room                  1\n",
       "Bike Rentals                       1\n",
       "Bartending Schools                 1\n",
       "Cosmetics & Beauty Supply          1\n",
       "Sailing                            1\n",
       "Air Duct Cleaning                  1\n",
       "Gyms                               1\n",
       "Soccer                             1\n",
       "Czech/Slovakian                    1\n",
       "Horse Racing                       1\n",
       "Accessories                        1\n",
       "Furniture Rental                   1\n",
       "Car Wash                           1\n",
       "Notaries                           1\n",
       "Island Pub                         1\n",
       "Amateur Sports Teams               1\n",
       "Lakes                              1\n",
       "Honduran                           1\n",
       "Tires                              1\n",
       "Couriers & Delivery Services       1\n",
       "Wedding Chapels                    1\n",
       "Sports Clubs                       1\n",
       "Photographers                      1\n",
       "Name: category, Length: 408, dtype: int64"
      ]
     },
     "execution_count": 17,
     "metadata": {},
     "output_type": "execute_result"
    }
   ],
   "source": [
    "# Count frequencies of different cuisines\n",
    "r_df_categorized['category'].value_counts()"
   ]
  },
  {
   "cell_type": "code",
   "execution_count": 18,
   "metadata": {},
   "outputs": [
    {
     "data": {
      "text/plain": [
       "['Pizza',\n",
       " 'Fast Food',\n",
       " 'Mexican',\n",
       " 'Chinese',\n",
       " 'Food',\n",
       " 'Italian',\n",
       " 'Sandwiches',\n",
       " 'American (Traditional)',\n",
       " 'Burgers',\n",
       " 'Nightlife',\n",
       " 'Breakfast & Brunch',\n",
       " 'Bars',\n",
       " 'American (New)',\n",
       " 'Japanese',\n",
       " 'Cafes',\n",
       " 'Sushi Bars',\n",
       " 'Thai',\n",
       " 'Seafood',\n",
       " 'Indian',\n",
       " 'Chicken Wings',\n",
       " 'Barbeque',\n",
       " 'Vietnamese',\n",
       " 'Mediterranean',\n",
       " 'Asian Fusion',\n",
       " 'Delis',\n",
       " 'Coffee & Tea',\n",
       " 'Steakhouses',\n",
       " 'Canadian (New)',\n",
       " 'Greek',\n",
       " 'Salad',\n",
       " 'French',\n",
       " 'Diners',\n",
       " 'Middle Eastern',\n",
       " 'Korean',\n",
       " 'Buffets',\n",
       " 'Caribbean',\n",
       " 'Bakeries',\n",
       " 'Caterers',\n",
       " 'Sports Bars',\n",
       " 'Hot Dogs',\n",
       " 'Desserts',\n",
       " 'Vegetarian',\n",
       " 'Specialty Food',\n",
       " 'Pubs',\n",
       " 'Tex-Mex',\n",
       " 'German',\n",
       " 'Latin American',\n",
       " 'Soup',\n",
       " 'Vegan',\n",
       " 'Ice Cream & Frozen Yogurt']"
      ]
     },
     "execution_count": 18,
     "metadata": {},
     "output_type": "execute_result"
    }
   ],
   "source": [
    "# Let's pick 50 most frequent out of these and read them into a list\n",
    "\n",
    "# Read all food categories to an list\n",
    "food_categories_list = r_df_categorized['category'].value_counts().index.tolist()\n",
    "\n",
    "# Select 50 most frequent cuisines and remove one empty (category with only Restaurant) and 'Event Planning and Services'\n",
    "food_categories_50 = food_categories_list[0:52]\n",
    "food_categories_50.remove('')\n",
    "food_categories_50.remove('Event Planning & Services')\n",
    "food_categories_50"
   ]
  },
  {
   "cell_type": "code",
   "execution_count": 19,
   "metadata": {},
   "outputs": [
    {
     "name": "stdout",
     "output_type": "stream",
     "text": [
      "<class 'pandas.core.frame.DataFrame'>\n",
      "Index: 46406 entries, PfOCPjBrlQAnz__NXj9h_w to UdEmYOnk2iJDY9lpEPAlJQ\n",
      "Data columns (total 8 columns):\n",
      "city            46406 non-null object\n",
      "state           46406 non-null object\n",
      "postal_code     46406 non-null object\n",
      "latitude        46406 non-null float64\n",
      "longitude       46406 non-null float64\n",
      "stars           46406 non-null float64\n",
      "review_count    46406 non-null int64\n",
      "category        46406 non-null object\n",
      "dtypes: float64(3), int64(1), object(4)\n",
      "memory usage: 3.2+ MB\n"
     ]
    }
   ],
   "source": [
    "# Filter rows of containing only these 50 most frequently used cuisines\n",
    "\n",
    "r_df_clean = r_df_categorized[r_df_categorized['category'].isin(food_categories_50)]\n",
    "r_df_clean.info()"
   ]
  },
  {
   "cell_type": "code",
   "execution_count": 20,
   "metadata": {},
   "outputs": [
    {
     "data": {
      "text/html": [
       "<div>\n",
       "<style scoped>\n",
       "    .dataframe tbody tr th:only-of-type {\n",
       "        vertical-align: middle;\n",
       "    }\n",
       "\n",
       "    .dataframe tbody tr th {\n",
       "        vertical-align: top;\n",
       "    }\n",
       "\n",
       "    .dataframe thead th {\n",
       "        text-align: right;\n",
       "    }\n",
       "</style>\n",
       "<table border=\"1\" class=\"dataframe\">\n",
       "  <thead>\n",
       "    <tr style=\"text-align: right;\">\n",
       "      <th></th>\n",
       "      <th>city</th>\n",
       "      <th>state</th>\n",
       "      <th>postal_code</th>\n",
       "      <th>latitude</th>\n",
       "      <th>longitude</th>\n",
       "      <th>stars</th>\n",
       "      <th>review_count</th>\n",
       "      <th>category</th>\n",
       "    </tr>\n",
       "  </thead>\n",
       "  <tbody>\n",
       "    <tr>\n",
       "      <th>count</th>\n",
       "      <td>46406</td>\n",
       "      <td>46406</td>\n",
       "      <td>46406</td>\n",
       "      <td>46406.000000</td>\n",
       "      <td>46406.000000</td>\n",
       "      <td>46406.000000</td>\n",
       "      <td>46406.000000</td>\n",
       "      <td>46406</td>\n",
       "    </tr>\n",
       "    <tr>\n",
       "      <th>unique</th>\n",
       "      <td>732</td>\n",
       "      <td>40</td>\n",
       "      <td>8795</td>\n",
       "      <td>NaN</td>\n",
       "      <td>NaN</td>\n",
       "      <td>NaN</td>\n",
       "      <td>NaN</td>\n",
       "      <td>50</td>\n",
       "    </tr>\n",
       "    <tr>\n",
       "      <th>top</th>\n",
       "      <td>Toronto</td>\n",
       "      <td>ON</td>\n",
       "      <td>89109</td>\n",
       "      <td>NaN</td>\n",
       "      <td>NaN</td>\n",
       "      <td>NaN</td>\n",
       "      <td>NaN</td>\n",
       "      <td>Pizza</td>\n",
       "    </tr>\n",
       "    <tr>\n",
       "      <th>freq</th>\n",
       "      <td>5976</td>\n",
       "      <td>11440</td>\n",
       "      <td>748</td>\n",
       "      <td>NaN</td>\n",
       "      <td>NaN</td>\n",
       "      <td>NaN</td>\n",
       "      <td>NaN</td>\n",
       "      <td>3387</td>\n",
       "    </tr>\n",
       "    <tr>\n",
       "      <th>mean</th>\n",
       "      <td>NaN</td>\n",
       "      <td>NaN</td>\n",
       "      <td>NaN</td>\n",
       "      <td>40.165666</td>\n",
       "      <td>-86.170863</td>\n",
       "      <td>3.420786</td>\n",
       "      <td>58.659333</td>\n",
       "      <td>NaN</td>\n",
       "    </tr>\n",
       "    <tr>\n",
       "      <th>std</th>\n",
       "      <td>NaN</td>\n",
       "      <td>NaN</td>\n",
       "      <td>NaN</td>\n",
       "      <td>5.441554</td>\n",
       "      <td>27.020415</td>\n",
       "      <td>0.798343</td>\n",
       "      <td>150.564574</td>\n",
       "      <td>NaN</td>\n",
       "    </tr>\n",
       "    <tr>\n",
       "      <th>min</th>\n",
       "      <td>NaN</td>\n",
       "      <td>NaN</td>\n",
       "      <td>NaN</td>\n",
       "      <td>-34.515952</td>\n",
       "      <td>-142.466650</td>\n",
       "      <td>1.000000</td>\n",
       "      <td>3.000000</td>\n",
       "      <td>NaN</td>\n",
       "    </tr>\n",
       "    <tr>\n",
       "      <th>25%</th>\n",
       "      <td>NaN</td>\n",
       "      <td>NaN</td>\n",
       "      <td>NaN</td>\n",
       "      <td>35.247325</td>\n",
       "      <td>-111.929945</td>\n",
       "      <td>3.000000</td>\n",
       "      <td>7.000000</td>\n",
       "      <td>NaN</td>\n",
       "    </tr>\n",
       "    <tr>\n",
       "      <th>50%</th>\n",
       "      <td>NaN</td>\n",
       "      <td>NaN</td>\n",
       "      <td>NaN</td>\n",
       "      <td>41.237823</td>\n",
       "      <td>-80.841481</td>\n",
       "      <td>3.500000</td>\n",
       "      <td>18.000000</td>\n",
       "      <td>NaN</td>\n",
       "    </tr>\n",
       "    <tr>\n",
       "      <th>75%</th>\n",
       "      <td>NaN</td>\n",
       "      <td>NaN</td>\n",
       "      <td>NaN</td>\n",
       "      <td>43.704188</td>\n",
       "      <td>-79.393448</td>\n",
       "      <td>4.000000</td>\n",
       "      <td>54.000000</td>\n",
       "      <td>NaN</td>\n",
       "    </tr>\n",
       "    <tr>\n",
       "      <th>max</th>\n",
       "      <td>NaN</td>\n",
       "      <td>NaN</td>\n",
       "      <td>NaN</td>\n",
       "      <td>89.999314</td>\n",
       "      <td>115.086769</td>\n",
       "      <td>5.000000</td>\n",
       "      <td>7361.000000</td>\n",
       "      <td>NaN</td>\n",
       "    </tr>\n",
       "  </tbody>\n",
       "</table>\n",
       "</div>"
      ],
      "text/plain": [
       "           city  state postal_code      latitude     longitude         stars  \\\n",
       "count     46406  46406       46406  46406.000000  46406.000000  46406.000000   \n",
       "unique      732     40        8795           NaN           NaN           NaN   \n",
       "top     Toronto     ON       89109           NaN           NaN           NaN   \n",
       "freq       5976  11440         748           NaN           NaN           NaN   \n",
       "mean        NaN    NaN         NaN     40.165666    -86.170863      3.420786   \n",
       "std         NaN    NaN         NaN      5.441554     27.020415      0.798343   \n",
       "min         NaN    NaN         NaN    -34.515952   -142.466650      1.000000   \n",
       "25%         NaN    NaN         NaN     35.247325   -111.929945      3.000000   \n",
       "50%         NaN    NaN         NaN     41.237823    -80.841481      3.500000   \n",
       "75%         NaN    NaN         NaN     43.704188    -79.393448      4.000000   \n",
       "max         NaN    NaN         NaN     89.999314    115.086769      5.000000   \n",
       "\n",
       "        review_count category  \n",
       "count   46406.000000    46406  \n",
       "unique           NaN       50  \n",
       "top              NaN    Pizza  \n",
       "freq             NaN     3387  \n",
       "mean       58.659333      NaN  \n",
       "std       150.564574      NaN  \n",
       "min         3.000000      NaN  \n",
       "25%         7.000000      NaN  \n",
       "50%        18.000000      NaN  \n",
       "75%        54.000000      NaN  \n",
       "max      7361.000000      NaN  "
      ]
     },
     "execution_count": 20,
     "metadata": {},
     "output_type": "execute_result"
    }
   ],
   "source": [
    "r_df_clean.describe(include='all')"
   ]
  },
  {
   "cell_type": "markdown",
   "metadata": {},
   "source": [
    "# Review.json Data"
   ]
  },
  {
   "cell_type": "code",
   "execution_count": 21,
   "metadata": {},
   "outputs": [],
   "source": [
    "# Columns that are used for the initial dataframe\n",
    "cols = ['review_id', 'user_id', 'business_id', 'stars', 'date']\n",
    "\n",
    "review_df = pd.read_csv('..\\Yelp Dataset\\yelp_review.csv', index_col='review_id', usecols=cols)"
   ]
  },
  {
   "cell_type": "code",
   "execution_count": 22,
   "metadata": {},
   "outputs": [
    {
     "data": {
      "text/html": [
       "<div>\n",
       "<style scoped>\n",
       "    .dataframe tbody tr th:only-of-type {\n",
       "        vertical-align: middle;\n",
       "    }\n",
       "\n",
       "    .dataframe tbody tr th {\n",
       "        vertical-align: top;\n",
       "    }\n",
       "\n",
       "    .dataframe thead th {\n",
       "        text-align: right;\n",
       "    }\n",
       "</style>\n",
       "<table border=\"1\" class=\"dataframe\">\n",
       "  <thead>\n",
       "    <tr style=\"text-align: right;\">\n",
       "      <th></th>\n",
       "      <th>user_id</th>\n",
       "      <th>business_id</th>\n",
       "      <th>stars</th>\n",
       "      <th>date</th>\n",
       "    </tr>\n",
       "    <tr>\n",
       "      <th>review_id</th>\n",
       "      <th></th>\n",
       "      <th></th>\n",
       "      <th></th>\n",
       "      <th></th>\n",
       "    </tr>\n",
       "  </thead>\n",
       "  <tbody>\n",
       "    <tr>\n",
       "      <th>vkVSCC7xljjrAI4UGfnKEQ</th>\n",
       "      <td>bv2nCi5Qv5vroFiqKGopiw</td>\n",
       "      <td>AEx2SYEUJmTxVVB18LlCwA</td>\n",
       "      <td>5</td>\n",
       "      <td>2016-05-28</td>\n",
       "    </tr>\n",
       "    <tr>\n",
       "      <th>n6QzIUObkYshz4dz2QRJTw</th>\n",
       "      <td>bv2nCi5Qv5vroFiqKGopiw</td>\n",
       "      <td>VR6GpWIda3SfvPC-lg9H3w</td>\n",
       "      <td>5</td>\n",
       "      <td>2016-05-28</td>\n",
       "    </tr>\n",
       "    <tr>\n",
       "      <th>MV3CcKScW05u5LVfF6ok0g</th>\n",
       "      <td>bv2nCi5Qv5vroFiqKGopiw</td>\n",
       "      <td>CKC0-MOWMqoeWf6s-szl8g</td>\n",
       "      <td>5</td>\n",
       "      <td>2016-05-28</td>\n",
       "    </tr>\n",
       "    <tr>\n",
       "      <th>IXvOzsEMYtiJI0CARmj77Q</th>\n",
       "      <td>bv2nCi5Qv5vroFiqKGopiw</td>\n",
       "      <td>ACFtxLv8pGrrxMm6EgjreA</td>\n",
       "      <td>4</td>\n",
       "      <td>2016-05-28</td>\n",
       "    </tr>\n",
       "    <tr>\n",
       "      <th>L_9BTb55X0GDtThi6GlZ6w</th>\n",
       "      <td>bv2nCi5Qv5vroFiqKGopiw</td>\n",
       "      <td>s2I_Ni76bjJNK9yG60iD-Q</td>\n",
       "      <td>4</td>\n",
       "      <td>2016-05-28</td>\n",
       "    </tr>\n",
       "  </tbody>\n",
       "</table>\n",
       "</div>"
      ],
      "text/plain": [
       "                                       user_id             business_id  stars  \\\n",
       "review_id                                                                       \n",
       "vkVSCC7xljjrAI4UGfnKEQ  bv2nCi5Qv5vroFiqKGopiw  AEx2SYEUJmTxVVB18LlCwA      5   \n",
       "n6QzIUObkYshz4dz2QRJTw  bv2nCi5Qv5vroFiqKGopiw  VR6GpWIda3SfvPC-lg9H3w      5   \n",
       "MV3CcKScW05u5LVfF6ok0g  bv2nCi5Qv5vroFiqKGopiw  CKC0-MOWMqoeWf6s-szl8g      5   \n",
       "IXvOzsEMYtiJI0CARmj77Q  bv2nCi5Qv5vroFiqKGopiw  ACFtxLv8pGrrxMm6EgjreA      4   \n",
       "L_9BTb55X0GDtThi6GlZ6w  bv2nCi5Qv5vroFiqKGopiw  s2I_Ni76bjJNK9yG60iD-Q      4   \n",
       "\n",
       "                              date  \n",
       "review_id                           \n",
       "vkVSCC7xljjrAI4UGfnKEQ  2016-05-28  \n",
       "n6QzIUObkYshz4dz2QRJTw  2016-05-28  \n",
       "MV3CcKScW05u5LVfF6ok0g  2016-05-28  \n",
       "IXvOzsEMYtiJI0CARmj77Q  2016-05-28  \n",
       "L_9BTb55X0GDtThi6GlZ6w  2016-05-28  "
      ]
     },
     "execution_count": 22,
     "metadata": {},
     "output_type": "execute_result"
    }
   ],
   "source": [
    "review_df.head()"
   ]
  },
  {
   "cell_type": "code",
   "execution_count": 23,
   "metadata": {},
   "outputs": [
    {
     "name": "stdout",
     "output_type": "stream",
     "text": [
      "<class 'pandas.core.frame.DataFrame'>\n",
      "Index: 5261668 entries, vkVSCC7xljjrAI4UGfnKEQ to ldsIs3sGXPJ7WM7VyAm4lQ\n",
      "Data columns (total 4 columns):\n",
      "user_id        object\n",
      "business_id    object\n",
      "stars          int64\n",
      "date           object\n",
      "dtypes: int64(1), object(3)\n",
      "memory usage: 200.7+ MB\n"
     ]
    }
   ],
   "source": [
    "# Whole dataset has: 5261668 entries\n",
    "review_df.info()"
   ]
  },
  {
   "cell_type": "code",
   "execution_count": 24,
   "metadata": {},
   "outputs": [
    {
     "data": {
      "text/html": [
       "<div>\n",
       "<style scoped>\n",
       "    .dataframe tbody tr th:only-of-type {\n",
       "        vertical-align: middle;\n",
       "    }\n",
       "\n",
       "    .dataframe tbody tr th {\n",
       "        vertical-align: top;\n",
       "    }\n",
       "\n",
       "    .dataframe thead th {\n",
       "        text-align: right;\n",
       "    }\n",
       "</style>\n",
       "<table border=\"1\" class=\"dataframe\">\n",
       "  <thead>\n",
       "    <tr style=\"text-align: right;\">\n",
       "      <th></th>\n",
       "      <th>stars</th>\n",
       "    </tr>\n",
       "  </thead>\n",
       "  <tbody>\n",
       "    <tr>\n",
       "      <th>count</th>\n",
       "      <td>5.261668e+06</td>\n",
       "    </tr>\n",
       "    <tr>\n",
       "      <th>mean</th>\n",
       "      <td>3.727739e+00</td>\n",
       "    </tr>\n",
       "    <tr>\n",
       "      <th>std</th>\n",
       "      <td>1.433593e+00</td>\n",
       "    </tr>\n",
       "    <tr>\n",
       "      <th>min</th>\n",
       "      <td>1.000000e+00</td>\n",
       "    </tr>\n",
       "    <tr>\n",
       "      <th>25%</th>\n",
       "      <td>3.000000e+00</td>\n",
       "    </tr>\n",
       "    <tr>\n",
       "      <th>50%</th>\n",
       "      <td>4.000000e+00</td>\n",
       "    </tr>\n",
       "    <tr>\n",
       "      <th>75%</th>\n",
       "      <td>5.000000e+00</td>\n",
       "    </tr>\n",
       "    <tr>\n",
       "      <th>max</th>\n",
       "      <td>5.000000e+00</td>\n",
       "    </tr>\n",
       "  </tbody>\n",
       "</table>\n",
       "</div>"
      ],
      "text/plain": [
       "              stars\n",
       "count  5.261668e+06\n",
       "mean   3.727739e+00\n",
       "std    1.433593e+00\n",
       "min    1.000000e+00\n",
       "25%    3.000000e+00\n",
       "50%    4.000000e+00\n",
       "75%    5.000000e+00\n",
       "max    5.000000e+00"
      ]
     },
     "execution_count": 24,
     "metadata": {},
     "output_type": "execute_result"
    }
   ],
   "source": [
    "review_df.describe()"
   ]
  },
  {
   "cell_type": "code",
   "execution_count": 25,
   "metadata": {},
   "outputs": [
    {
     "data": {
      "text/html": [
       "<div>\n",
       "<style scoped>\n",
       "    .dataframe tbody tr th:only-of-type {\n",
       "        vertical-align: middle;\n",
       "    }\n",
       "\n",
       "    .dataframe tbody tr th {\n",
       "        vertical-align: top;\n",
       "    }\n",
       "\n",
       "    .dataframe thead th {\n",
       "        text-align: right;\n",
       "    }\n",
       "</style>\n",
       "<table border=\"1\" class=\"dataframe\">\n",
       "  <thead>\n",
       "    <tr style=\"text-align: right;\">\n",
       "      <th></th>\n",
       "      <th>user_id</th>\n",
       "      <th>business_id</th>\n",
       "      <th>stars</th>\n",
       "      <th>date</th>\n",
       "    </tr>\n",
       "    <tr>\n",
       "      <th>review_id</th>\n",
       "      <th></th>\n",
       "      <th></th>\n",
       "      <th></th>\n",
       "      <th></th>\n",
       "    </tr>\n",
       "  </thead>\n",
       "  <tbody>\n",
       "  </tbody>\n",
       "</table>\n",
       "</div>"
      ],
      "text/plain": [
       "Empty DataFrame\n",
       "Columns: [user_id, business_id, stars, date]\n",
       "Index: []"
      ]
     },
     "execution_count": 25,
     "metadata": {},
     "output_type": "execute_result"
    }
   ],
   "source": [
    "review_df[review_df.duplicated()]"
   ]
  },
  {
   "cell_type": "code",
   "execution_count": 26,
   "metadata": {},
   "outputs": [
    {
     "data": {
      "text/plain": [
       "user_id        0\n",
       "business_id    0\n",
       "stars          0\n",
       "date           0\n",
       "dtype: int64"
      ]
     },
     "execution_count": 26,
     "metadata": {},
     "output_type": "execute_result"
    }
   ],
   "source": [
    "review_df.isna().sum()"
   ]
  },
  {
   "cell_type": "markdown",
   "metadata": {},
   "source": [
    "Dataset has no missing or duplicate values"
   ]
  },
  {
   "cell_type": "markdown",
   "metadata": {},
   "source": [
    "## User.json Data"
   ]
  },
  {
   "cell_type": "code",
   "execution_count": 27,
   "metadata": {},
   "outputs": [],
   "source": [
    "# Columns that are used for the initial dataframe\n",
    "cols = ['user_id', 'review_count', 'yelping_since', 'fans', 'average_stars']\n",
    "\n",
    "user_df = pd.read_csv('..\\Yelp Dataset\\yelp_user.csv', index_col='user_id', usecols=cols)"
   ]
  },
  {
   "cell_type": "code",
   "execution_count": 28,
   "metadata": {},
   "outputs": [
    {
     "data": {
      "text/html": [
       "<div>\n",
       "<style scoped>\n",
       "    .dataframe tbody tr th:only-of-type {\n",
       "        vertical-align: middle;\n",
       "    }\n",
       "\n",
       "    .dataframe tbody tr th {\n",
       "        vertical-align: top;\n",
       "    }\n",
       "\n",
       "    .dataframe thead th {\n",
       "        text-align: right;\n",
       "    }\n",
       "</style>\n",
       "<table border=\"1\" class=\"dataframe\">\n",
       "  <thead>\n",
       "    <tr style=\"text-align: right;\">\n",
       "      <th></th>\n",
       "      <th>review_count</th>\n",
       "      <th>yelping_since</th>\n",
       "      <th>fans</th>\n",
       "      <th>average_stars</th>\n",
       "    </tr>\n",
       "    <tr>\n",
       "      <th>user_id</th>\n",
       "      <th></th>\n",
       "      <th></th>\n",
       "      <th></th>\n",
       "      <th></th>\n",
       "    </tr>\n",
       "  </thead>\n",
       "  <tbody>\n",
       "    <tr>\n",
       "      <th>JJ-aSuM4pCFPdkfoZ34q0Q</th>\n",
       "      <td>10</td>\n",
       "      <td>2013-09-24</td>\n",
       "      <td>0</td>\n",
       "      <td>3.70</td>\n",
       "    </tr>\n",
       "    <tr>\n",
       "      <th>uUzsFQn_6cXDh6rPNGbIFA</th>\n",
       "      <td>1</td>\n",
       "      <td>2017-03-02</td>\n",
       "      <td>0</td>\n",
       "      <td>2.00</td>\n",
       "    </tr>\n",
       "    <tr>\n",
       "      <th>mBneaEEH5EMyxaVyqS-72A</th>\n",
       "      <td>6</td>\n",
       "      <td>2015-03-13</td>\n",
       "      <td>0</td>\n",
       "      <td>4.67</td>\n",
       "    </tr>\n",
       "    <tr>\n",
       "      <th>W5mJGs-dcDWRGEhAzUYtoA</th>\n",
       "      <td>3</td>\n",
       "      <td>2016-09-08</td>\n",
       "      <td>0</td>\n",
       "      <td>4.67</td>\n",
       "    </tr>\n",
       "    <tr>\n",
       "      <th>4E8--zUZO1Rr1IBK4_83fg</th>\n",
       "      <td>11</td>\n",
       "      <td>2012-07-16</td>\n",
       "      <td>0</td>\n",
       "      <td>3.45</td>\n",
       "    </tr>\n",
       "  </tbody>\n",
       "</table>\n",
       "</div>"
      ],
      "text/plain": [
       "                        review_count yelping_since  fans  average_stars\n",
       "user_id                                                                \n",
       "JJ-aSuM4pCFPdkfoZ34q0Q            10    2013-09-24     0           3.70\n",
       "uUzsFQn_6cXDh6rPNGbIFA             1    2017-03-02     0           2.00\n",
       "mBneaEEH5EMyxaVyqS-72A             6    2015-03-13     0           4.67\n",
       "W5mJGs-dcDWRGEhAzUYtoA             3    2016-09-08     0           4.67\n",
       "4E8--zUZO1Rr1IBK4_83fg            11    2012-07-16     0           3.45"
      ]
     },
     "execution_count": 28,
     "metadata": {},
     "output_type": "execute_result"
    }
   ],
   "source": [
    "user_df.head()"
   ]
  },
  {
   "cell_type": "code",
   "execution_count": 29,
   "metadata": {},
   "outputs": [
    {
     "name": "stdout",
     "output_type": "stream",
     "text": [
      "<class 'pandas.core.frame.DataFrame'>\n",
      "Index: 1326100 entries, JJ-aSuM4pCFPdkfoZ34q0Q to q-1Tz4SvaTpGEMhI_xwm0Q\n",
      "Data columns (total 4 columns):\n",
      "review_count     1326100 non-null int64\n",
      "yelping_since    1326100 non-null object\n",
      "fans             1326100 non-null int64\n",
      "average_stars    1326100 non-null float64\n",
      "dtypes: float64(1), int64(2), object(1)\n",
      "memory usage: 50.6+ MB\n"
     ]
    }
   ],
   "source": [
    "user_df.info()"
   ]
  },
  {
   "cell_type": "code",
   "execution_count": 30,
   "metadata": {},
   "outputs": [
    {
     "data": {
      "text/plain": [
       "review_count     0\n",
       "yelping_since    0\n",
       "fans             0\n",
       "average_stars    0\n",
       "dtype: int64"
      ]
     },
     "execution_count": 30,
     "metadata": {},
     "output_type": "execute_result"
    }
   ],
   "source": [
    "# No missing values\n",
    "user_df.isna().sum()"
   ]
  },
  {
   "cell_type": "code",
   "execution_count": 31,
   "metadata": {},
   "outputs": [
    {
     "data": {
      "text/html": [
       "<div>\n",
       "<style scoped>\n",
       "    .dataframe tbody tr th:only-of-type {\n",
       "        vertical-align: middle;\n",
       "    }\n",
       "\n",
       "    .dataframe tbody tr th {\n",
       "        vertical-align: top;\n",
       "    }\n",
       "\n",
       "    .dataframe thead th {\n",
       "        text-align: right;\n",
       "    }\n",
       "</style>\n",
       "<table border=\"1\" class=\"dataframe\">\n",
       "  <thead>\n",
       "    <tr style=\"text-align: right;\">\n",
       "      <th></th>\n",
       "      <th>review_count</th>\n",
       "      <th>fans</th>\n",
       "      <th>average_stars</th>\n",
       "    </tr>\n",
       "  </thead>\n",
       "  <tbody>\n",
       "    <tr>\n",
       "      <th>count</th>\n",
       "      <td>1.326100e+06</td>\n",
       "      <td>1.326100e+06</td>\n",
       "      <td>1.326100e+06</td>\n",
       "    </tr>\n",
       "    <tr>\n",
       "      <th>mean</th>\n",
       "      <td>2.311717e+01</td>\n",
       "      <td>1.457274e+00</td>\n",
       "      <td>3.710841e+00</td>\n",
       "    </tr>\n",
       "    <tr>\n",
       "      <th>std</th>\n",
       "      <td>7.909808e+01</td>\n",
       "      <td>1.428609e+01</td>\n",
       "      <td>1.120721e+00</td>\n",
       "    </tr>\n",
       "    <tr>\n",
       "      <th>min</th>\n",
       "      <td>0.000000e+00</td>\n",
       "      <td>0.000000e+00</td>\n",
       "      <td>1.000000e+00</td>\n",
       "    </tr>\n",
       "    <tr>\n",
       "      <th>25%</th>\n",
       "      <td>2.000000e+00</td>\n",
       "      <td>0.000000e+00</td>\n",
       "      <td>3.090000e+00</td>\n",
       "    </tr>\n",
       "    <tr>\n",
       "      <th>50%</th>\n",
       "      <td>5.000000e+00</td>\n",
       "      <td>0.000000e+00</td>\n",
       "      <td>3.900000e+00</td>\n",
       "    </tr>\n",
       "    <tr>\n",
       "      <th>75%</th>\n",
       "      <td>1.500000e+01</td>\n",
       "      <td>0.000000e+00</td>\n",
       "      <td>4.610000e+00</td>\n",
       "    </tr>\n",
       "    <tr>\n",
       "      <th>max</th>\n",
       "      <td>1.195400e+04</td>\n",
       "      <td>7.009000e+03</td>\n",
       "      <td>5.000000e+00</td>\n",
       "    </tr>\n",
       "  </tbody>\n",
       "</table>\n",
       "</div>"
      ],
      "text/plain": [
       "       review_count          fans  average_stars\n",
       "count  1.326100e+06  1.326100e+06   1.326100e+06\n",
       "mean   2.311717e+01  1.457274e+00   3.710841e+00\n",
       "std    7.909808e+01  1.428609e+01   1.120721e+00\n",
       "min    0.000000e+00  0.000000e+00   1.000000e+00\n",
       "25%    2.000000e+00  0.000000e+00   3.090000e+00\n",
       "50%    5.000000e+00  0.000000e+00   3.900000e+00\n",
       "75%    1.500000e+01  0.000000e+00   4.610000e+00\n",
       "max    1.195400e+04  7.009000e+03   5.000000e+00"
      ]
     },
     "execution_count": 31,
     "metadata": {},
     "output_type": "execute_result"
    }
   ],
   "source": [
    "user_df.describe()"
   ]
  },
  {
   "cell_type": "markdown",
   "metadata": {},
   "source": [
    "## Merging DataFrames"
   ]
  },
  {
   "cell_type": "markdown",
   "metadata": {},
   "source": [
    "Let's start merging by inspecting all dataframes and renaming columns that have conflicting names in different dataframes to avoid running into trouble later on"
   ]
  },
  {
   "cell_type": "code",
   "execution_count": 32,
   "metadata": {},
   "outputs": [
    {
     "name": "stderr",
     "output_type": "stream",
     "text": [
      "C:\\Users\\joona\\Anaconda3\\lib\\site-packages\\pandas\\core\\frame.py:3027: SettingWithCopyWarning: \n",
      "A value is trying to be set on a copy of a slice from a DataFrame\n",
      "\n",
      "See the caveats in the documentation: http://pandas.pydata.org/pandas-docs/stable/indexing.html#indexing-view-versus-copy\n",
      "  return super(DataFrame, self).rename(**kwargs)\n"
     ]
    },
    {
     "data": {
      "text/html": [
       "<div>\n",
       "<style scoped>\n",
       "    .dataframe tbody tr th:only-of-type {\n",
       "        vertical-align: middle;\n",
       "    }\n",
       "\n",
       "    .dataframe tbody tr th {\n",
       "        vertical-align: top;\n",
       "    }\n",
       "\n",
       "    .dataframe thead th {\n",
       "        text-align: right;\n",
       "    }\n",
       "</style>\n",
       "<table border=\"1\" class=\"dataframe\">\n",
       "  <thead>\n",
       "    <tr style=\"text-align: right;\">\n",
       "      <th></th>\n",
       "      <th>city</th>\n",
       "      <th>state</th>\n",
       "      <th>postal_code</th>\n",
       "      <th>latitude</th>\n",
       "      <th>longitude</th>\n",
       "      <th>restaurant_stars</th>\n",
       "      <th>restaurant_review_count</th>\n",
       "      <th>category</th>\n",
       "    </tr>\n",
       "    <tr>\n",
       "      <th>business_id</th>\n",
       "      <th></th>\n",
       "      <th></th>\n",
       "      <th></th>\n",
       "      <th></th>\n",
       "      <th></th>\n",
       "      <th></th>\n",
       "      <th></th>\n",
       "      <th></th>\n",
       "    </tr>\n",
       "  </thead>\n",
       "  <tbody>\n",
       "    <tr>\n",
       "      <th>PfOCPjBrlQAnz__NXj9h_w</th>\n",
       "      <td>Cuyahoga Falls</td>\n",
       "      <td>OH</td>\n",
       "      <td>44221</td>\n",
       "      <td>41.119535</td>\n",
       "      <td>-81.475690</td>\n",
       "      <td>3.5</td>\n",
       "      <td>116</td>\n",
       "      <td>American (New)</td>\n",
       "    </tr>\n",
       "    <tr>\n",
       "      <th>o9eMRCWt5PkpLDE0gOPtcQ</th>\n",
       "      <td>Stuttgart</td>\n",
       "      <td>BW</td>\n",
       "      <td>70567</td>\n",
       "      <td>48.727200</td>\n",
       "      <td>9.147950</td>\n",
       "      <td>4.0</td>\n",
       "      <td>5</td>\n",
       "      <td>Italian</td>\n",
       "    </tr>\n",
       "    <tr>\n",
       "      <th>XOSRcvtaKc_Q5H1SAzN20A</th>\n",
       "      <td>Houston</td>\n",
       "      <td>PA</td>\n",
       "      <td>15342</td>\n",
       "      <td>40.241548</td>\n",
       "      <td>-80.212815</td>\n",
       "      <td>4.5</td>\n",
       "      <td>3</td>\n",
       "      <td>Breakfast &amp; Brunch</td>\n",
       "    </tr>\n",
       "    <tr>\n",
       "      <th>fNMVV_ZX7CJSDWQGdOM8Nw</th>\n",
       "      <td>Charlotte</td>\n",
       "      <td>NC</td>\n",
       "      <td>28202</td>\n",
       "      <td>35.221647</td>\n",
       "      <td>-80.839345</td>\n",
       "      <td>3.5</td>\n",
       "      <td>7</td>\n",
       "      <td>American (Traditional)</td>\n",
       "    </tr>\n",
       "    <tr>\n",
       "      <th>l09JfMeQ6ynYs5MCJtrcmQ</th>\n",
       "      <td>Toronto</td>\n",
       "      <td>ON</td>\n",
       "      <td>M4P 2H6</td>\n",
       "      <td>43.711399</td>\n",
       "      <td>-79.399339</td>\n",
       "      <td>3.0</td>\n",
       "      <td>12</td>\n",
       "      <td>Italian</td>\n",
       "    </tr>\n",
       "  </tbody>\n",
       "</table>\n",
       "</div>"
      ],
      "text/plain": [
       "                                  city state postal_code   latitude  \\\n",
       "business_id                                                           \n",
       "PfOCPjBrlQAnz__NXj9h_w  Cuyahoga Falls    OH       44221  41.119535   \n",
       "o9eMRCWt5PkpLDE0gOPtcQ       Stuttgart    BW       70567  48.727200   \n",
       "XOSRcvtaKc_Q5H1SAzN20A         Houston    PA       15342  40.241548   \n",
       "fNMVV_ZX7CJSDWQGdOM8Nw       Charlotte    NC       28202  35.221647   \n",
       "l09JfMeQ6ynYs5MCJtrcmQ         Toronto    ON     M4P 2H6  43.711399   \n",
       "\n",
       "                        longitude  restaurant_stars  restaurant_review_count  \\\n",
       "business_id                                                                    \n",
       "PfOCPjBrlQAnz__NXj9h_w -81.475690               3.5                      116   \n",
       "o9eMRCWt5PkpLDE0gOPtcQ   9.147950               4.0                        5   \n",
       "XOSRcvtaKc_Q5H1SAzN20A -80.212815               4.5                        3   \n",
       "fNMVV_ZX7CJSDWQGdOM8Nw -80.839345               3.5                        7   \n",
       "l09JfMeQ6ynYs5MCJtrcmQ -79.399339               3.0                       12   \n",
       "\n",
       "                                      category  \n",
       "business_id                                     \n",
       "PfOCPjBrlQAnz__NXj9h_w          American (New)  \n",
       "o9eMRCWt5PkpLDE0gOPtcQ                 Italian  \n",
       "XOSRcvtaKc_Q5H1SAzN20A      Breakfast & Brunch  \n",
       "fNMVV_ZX7CJSDWQGdOM8Nw  American (Traditional)  \n",
       "l09JfMeQ6ynYs5MCJtrcmQ                 Italian  "
      ]
     },
     "execution_count": 32,
     "metadata": {},
     "output_type": "execute_result"
    }
   ],
   "source": [
    "r_df_clean.rename(columns={'stars': 'restaurant_stars', 'review_count': 'restaurant_review_count'}, inplace=True)\n",
    "r_df_clean.head()"
   ]
  },
  {
   "cell_type": "code",
   "execution_count": 33,
   "metadata": {},
   "outputs": [
    {
     "name": "stdout",
     "output_type": "stream",
     "text": [
      "<class 'pandas.core.frame.DataFrame'>\n",
      "Index: 46406 entries, PfOCPjBrlQAnz__NXj9h_w to UdEmYOnk2iJDY9lpEPAlJQ\n",
      "Data columns (total 8 columns):\n",
      "city                       46406 non-null object\n",
      "state                      46406 non-null object\n",
      "postal_code                46406 non-null object\n",
      "latitude                   46406 non-null float64\n",
      "longitude                  46406 non-null float64\n",
      "restaurant_stars           46406 non-null float64\n",
      "restaurant_review_count    46406 non-null int64\n",
      "category                   46406 non-null object\n",
      "dtypes: float64(3), int64(1), object(4)\n",
      "memory usage: 3.2+ MB\n"
     ]
    }
   ],
   "source": [
    "r_df_clean.info()"
   ]
  },
  {
   "cell_type": "code",
   "execution_count": 34,
   "metadata": {},
   "outputs": [
    {
     "data": {
      "text/html": [
       "<div>\n",
       "<style scoped>\n",
       "    .dataframe tbody tr th:only-of-type {\n",
       "        vertical-align: middle;\n",
       "    }\n",
       "\n",
       "    .dataframe tbody tr th {\n",
       "        vertical-align: top;\n",
       "    }\n",
       "\n",
       "    .dataframe thead th {\n",
       "        text-align: right;\n",
       "    }\n",
       "</style>\n",
       "<table border=\"1\" class=\"dataframe\">\n",
       "  <thead>\n",
       "    <tr style=\"text-align: right;\">\n",
       "      <th></th>\n",
       "      <th>user_id</th>\n",
       "      <th>business_id</th>\n",
       "      <th>review_stars</th>\n",
       "      <th>date</th>\n",
       "    </tr>\n",
       "    <tr>\n",
       "      <th>review_id</th>\n",
       "      <th></th>\n",
       "      <th></th>\n",
       "      <th></th>\n",
       "      <th></th>\n",
       "    </tr>\n",
       "  </thead>\n",
       "  <tbody>\n",
       "    <tr>\n",
       "      <th>vkVSCC7xljjrAI4UGfnKEQ</th>\n",
       "      <td>bv2nCi5Qv5vroFiqKGopiw</td>\n",
       "      <td>AEx2SYEUJmTxVVB18LlCwA</td>\n",
       "      <td>5</td>\n",
       "      <td>2016-05-28</td>\n",
       "    </tr>\n",
       "    <tr>\n",
       "      <th>n6QzIUObkYshz4dz2QRJTw</th>\n",
       "      <td>bv2nCi5Qv5vroFiqKGopiw</td>\n",
       "      <td>VR6GpWIda3SfvPC-lg9H3w</td>\n",
       "      <td>5</td>\n",
       "      <td>2016-05-28</td>\n",
       "    </tr>\n",
       "    <tr>\n",
       "      <th>MV3CcKScW05u5LVfF6ok0g</th>\n",
       "      <td>bv2nCi5Qv5vroFiqKGopiw</td>\n",
       "      <td>CKC0-MOWMqoeWf6s-szl8g</td>\n",
       "      <td>5</td>\n",
       "      <td>2016-05-28</td>\n",
       "    </tr>\n",
       "    <tr>\n",
       "      <th>IXvOzsEMYtiJI0CARmj77Q</th>\n",
       "      <td>bv2nCi5Qv5vroFiqKGopiw</td>\n",
       "      <td>ACFtxLv8pGrrxMm6EgjreA</td>\n",
       "      <td>4</td>\n",
       "      <td>2016-05-28</td>\n",
       "    </tr>\n",
       "    <tr>\n",
       "      <th>L_9BTb55X0GDtThi6GlZ6w</th>\n",
       "      <td>bv2nCi5Qv5vroFiqKGopiw</td>\n",
       "      <td>s2I_Ni76bjJNK9yG60iD-Q</td>\n",
       "      <td>4</td>\n",
       "      <td>2016-05-28</td>\n",
       "    </tr>\n",
       "  </tbody>\n",
       "</table>\n",
       "</div>"
      ],
      "text/plain": [
       "                                       user_id             business_id  \\\n",
       "review_id                                                                \n",
       "vkVSCC7xljjrAI4UGfnKEQ  bv2nCi5Qv5vroFiqKGopiw  AEx2SYEUJmTxVVB18LlCwA   \n",
       "n6QzIUObkYshz4dz2QRJTw  bv2nCi5Qv5vroFiqKGopiw  VR6GpWIda3SfvPC-lg9H3w   \n",
       "MV3CcKScW05u5LVfF6ok0g  bv2nCi5Qv5vroFiqKGopiw  CKC0-MOWMqoeWf6s-szl8g   \n",
       "IXvOzsEMYtiJI0CARmj77Q  bv2nCi5Qv5vroFiqKGopiw  ACFtxLv8pGrrxMm6EgjreA   \n",
       "L_9BTb55X0GDtThi6GlZ6w  bv2nCi5Qv5vroFiqKGopiw  s2I_Ni76bjJNK9yG60iD-Q   \n",
       "\n",
       "                        review_stars        date  \n",
       "review_id                                         \n",
       "vkVSCC7xljjrAI4UGfnKEQ             5  2016-05-28  \n",
       "n6QzIUObkYshz4dz2QRJTw             5  2016-05-28  \n",
       "MV3CcKScW05u5LVfF6ok0g             5  2016-05-28  \n",
       "IXvOzsEMYtiJI0CARmj77Q             4  2016-05-28  \n",
       "L_9BTb55X0GDtThi6GlZ6w             4  2016-05-28  "
      ]
     },
     "execution_count": 34,
     "metadata": {},
     "output_type": "execute_result"
    }
   ],
   "source": [
    "review_df.rename(columns={'stars': 'review_stars'}, inplace=True)\n",
    "review_df.head()"
   ]
  },
  {
   "cell_type": "code",
   "execution_count": 35,
   "metadata": {},
   "outputs": [
    {
     "name": "stdout",
     "output_type": "stream",
     "text": [
      "<class 'pandas.core.frame.DataFrame'>\n",
      "Index: 5261668 entries, vkVSCC7xljjrAI4UGfnKEQ to ldsIs3sGXPJ7WM7VyAm4lQ\n",
      "Data columns (total 4 columns):\n",
      "user_id         object\n",
      "business_id     object\n",
      "review_stars    int64\n",
      "date            object\n",
      "dtypes: int64(1), object(3)\n",
      "memory usage: 200.7+ MB\n"
     ]
    }
   ],
   "source": [
    "review_df.info()"
   ]
  },
  {
   "cell_type": "code",
   "execution_count": 36,
   "metadata": {},
   "outputs": [
    {
     "data": {
      "text/html": [
       "<div>\n",
       "<style scoped>\n",
       "    .dataframe tbody tr th:only-of-type {\n",
       "        vertical-align: middle;\n",
       "    }\n",
       "\n",
       "    .dataframe tbody tr th {\n",
       "        vertical-align: top;\n",
       "    }\n",
       "\n",
       "    .dataframe thead th {\n",
       "        text-align: right;\n",
       "    }\n",
       "</style>\n",
       "<table border=\"1\" class=\"dataframe\">\n",
       "  <thead>\n",
       "    <tr style=\"text-align: right;\">\n",
       "      <th></th>\n",
       "      <th>user_review_count</th>\n",
       "      <th>yelping_since</th>\n",
       "      <th>fans</th>\n",
       "      <th>average_stars</th>\n",
       "    </tr>\n",
       "    <tr>\n",
       "      <th>user_id</th>\n",
       "      <th></th>\n",
       "      <th></th>\n",
       "      <th></th>\n",
       "      <th></th>\n",
       "    </tr>\n",
       "  </thead>\n",
       "  <tbody>\n",
       "    <tr>\n",
       "      <th>JJ-aSuM4pCFPdkfoZ34q0Q</th>\n",
       "      <td>10</td>\n",
       "      <td>2013-09-24</td>\n",
       "      <td>0</td>\n",
       "      <td>3.70</td>\n",
       "    </tr>\n",
       "    <tr>\n",
       "      <th>uUzsFQn_6cXDh6rPNGbIFA</th>\n",
       "      <td>1</td>\n",
       "      <td>2017-03-02</td>\n",
       "      <td>0</td>\n",
       "      <td>2.00</td>\n",
       "    </tr>\n",
       "    <tr>\n",
       "      <th>mBneaEEH5EMyxaVyqS-72A</th>\n",
       "      <td>6</td>\n",
       "      <td>2015-03-13</td>\n",
       "      <td>0</td>\n",
       "      <td>4.67</td>\n",
       "    </tr>\n",
       "    <tr>\n",
       "      <th>W5mJGs-dcDWRGEhAzUYtoA</th>\n",
       "      <td>3</td>\n",
       "      <td>2016-09-08</td>\n",
       "      <td>0</td>\n",
       "      <td>4.67</td>\n",
       "    </tr>\n",
       "    <tr>\n",
       "      <th>4E8--zUZO1Rr1IBK4_83fg</th>\n",
       "      <td>11</td>\n",
       "      <td>2012-07-16</td>\n",
       "      <td>0</td>\n",
       "      <td>3.45</td>\n",
       "    </tr>\n",
       "  </tbody>\n",
       "</table>\n",
       "</div>"
      ],
      "text/plain": [
       "                        user_review_count yelping_since  fans  average_stars\n",
       "user_id                                                                     \n",
       "JJ-aSuM4pCFPdkfoZ34q0Q                 10    2013-09-24     0           3.70\n",
       "uUzsFQn_6cXDh6rPNGbIFA                  1    2017-03-02     0           2.00\n",
       "mBneaEEH5EMyxaVyqS-72A                  6    2015-03-13     0           4.67\n",
       "W5mJGs-dcDWRGEhAzUYtoA                  3    2016-09-08     0           4.67\n",
       "4E8--zUZO1Rr1IBK4_83fg                 11    2012-07-16     0           3.45"
      ]
     },
     "execution_count": 36,
     "metadata": {},
     "output_type": "execute_result"
    }
   ],
   "source": [
    "user_df.rename(columns={'review_count': 'user_review_count'}, inplace=True)\n",
    "user_df.head()"
   ]
  },
  {
   "cell_type": "code",
   "execution_count": 37,
   "metadata": {},
   "outputs": [
    {
     "name": "stdout",
     "output_type": "stream",
     "text": [
      "<class 'pandas.core.frame.DataFrame'>\n",
      "Index: 1326100 entries, JJ-aSuM4pCFPdkfoZ34q0Q to q-1Tz4SvaTpGEMhI_xwm0Q\n",
      "Data columns (total 4 columns):\n",
      "user_review_count    1326100 non-null int64\n",
      "yelping_since        1326100 non-null object\n",
      "fans                 1326100 non-null int64\n",
      "average_stars        1326100 non-null float64\n",
      "dtypes: float64(1), int64(2), object(1)\n",
      "memory usage: 50.6+ MB\n"
     ]
    }
   ],
   "source": [
    "user_df.info()"
   ]
  },
  {
   "cell_type": "markdown",
   "metadata": {},
   "source": [
    "As there are no missing values we can start merging by joining review_df and user_df on user_id. Using inner join we keep only users that have reviewed something and reviews on restaurants on the second join."
   ]
  },
  {
   "cell_type": "code",
   "execution_count": 38,
   "metadata": {},
   "outputs": [
    {
     "data": {
      "text/html": [
       "<div>\n",
       "<style scoped>\n",
       "    .dataframe tbody tr th:only-of-type {\n",
       "        vertical-align: middle;\n",
       "    }\n",
       "\n",
       "    .dataframe tbody tr th {\n",
       "        vertical-align: top;\n",
       "    }\n",
       "\n",
       "    .dataframe thead th {\n",
       "        text-align: right;\n",
       "    }\n",
       "</style>\n",
       "<table border=\"1\" class=\"dataframe\">\n",
       "  <thead>\n",
       "    <tr style=\"text-align: right;\">\n",
       "      <th></th>\n",
       "      <th>user_id</th>\n",
       "      <th>business_id</th>\n",
       "      <th>review_stars</th>\n",
       "      <th>date</th>\n",
       "      <th>user_review_count</th>\n",
       "      <th>yelping_since</th>\n",
       "      <th>fans</th>\n",
       "      <th>average_stars</th>\n",
       "    </tr>\n",
       "    <tr>\n",
       "      <th>review_id</th>\n",
       "      <th></th>\n",
       "      <th></th>\n",
       "      <th></th>\n",
       "      <th></th>\n",
       "      <th></th>\n",
       "      <th></th>\n",
       "      <th></th>\n",
       "      <th></th>\n",
       "    </tr>\n",
       "  </thead>\n",
       "  <tbody>\n",
       "    <tr>\n",
       "      <th>vkVSCC7xljjrAI4UGfnKEQ</th>\n",
       "      <td>bv2nCi5Qv5vroFiqKGopiw</td>\n",
       "      <td>AEx2SYEUJmTxVVB18LlCwA</td>\n",
       "      <td>5</td>\n",
       "      <td>2016-05-28</td>\n",
       "      <td>6</td>\n",
       "      <td>2015-12-22</td>\n",
       "      <td>0</td>\n",
       "      <td>4.67</td>\n",
       "    </tr>\n",
       "    <tr>\n",
       "      <th>n6QzIUObkYshz4dz2QRJTw</th>\n",
       "      <td>bv2nCi5Qv5vroFiqKGopiw</td>\n",
       "      <td>VR6GpWIda3SfvPC-lg9H3w</td>\n",
       "      <td>5</td>\n",
       "      <td>2016-05-28</td>\n",
       "      <td>6</td>\n",
       "      <td>2015-12-22</td>\n",
       "      <td>0</td>\n",
       "      <td>4.67</td>\n",
       "    </tr>\n",
       "    <tr>\n",
       "      <th>MV3CcKScW05u5LVfF6ok0g</th>\n",
       "      <td>bv2nCi5Qv5vroFiqKGopiw</td>\n",
       "      <td>CKC0-MOWMqoeWf6s-szl8g</td>\n",
       "      <td>5</td>\n",
       "      <td>2016-05-28</td>\n",
       "      <td>6</td>\n",
       "      <td>2015-12-22</td>\n",
       "      <td>0</td>\n",
       "      <td>4.67</td>\n",
       "    </tr>\n",
       "    <tr>\n",
       "      <th>IXvOzsEMYtiJI0CARmj77Q</th>\n",
       "      <td>bv2nCi5Qv5vroFiqKGopiw</td>\n",
       "      <td>ACFtxLv8pGrrxMm6EgjreA</td>\n",
       "      <td>4</td>\n",
       "      <td>2016-05-28</td>\n",
       "      <td>6</td>\n",
       "      <td>2015-12-22</td>\n",
       "      <td>0</td>\n",
       "      <td>4.67</td>\n",
       "    </tr>\n",
       "    <tr>\n",
       "      <th>L_9BTb55X0GDtThi6GlZ6w</th>\n",
       "      <td>bv2nCi5Qv5vroFiqKGopiw</td>\n",
       "      <td>s2I_Ni76bjJNK9yG60iD-Q</td>\n",
       "      <td>4</td>\n",
       "      <td>2016-05-28</td>\n",
       "      <td>6</td>\n",
       "      <td>2015-12-22</td>\n",
       "      <td>0</td>\n",
       "      <td>4.67</td>\n",
       "    </tr>\n",
       "  </tbody>\n",
       "</table>\n",
       "</div>"
      ],
      "text/plain": [
       "                                       user_id             business_id  \\\n",
       "review_id                                                                \n",
       "vkVSCC7xljjrAI4UGfnKEQ  bv2nCi5Qv5vroFiqKGopiw  AEx2SYEUJmTxVVB18LlCwA   \n",
       "n6QzIUObkYshz4dz2QRJTw  bv2nCi5Qv5vroFiqKGopiw  VR6GpWIda3SfvPC-lg9H3w   \n",
       "MV3CcKScW05u5LVfF6ok0g  bv2nCi5Qv5vroFiqKGopiw  CKC0-MOWMqoeWf6s-szl8g   \n",
       "IXvOzsEMYtiJI0CARmj77Q  bv2nCi5Qv5vroFiqKGopiw  ACFtxLv8pGrrxMm6EgjreA   \n",
       "L_9BTb55X0GDtThi6GlZ6w  bv2nCi5Qv5vroFiqKGopiw  s2I_Ni76bjJNK9yG60iD-Q   \n",
       "\n",
       "                        review_stars        date  user_review_count  \\\n",
       "review_id                                                             \n",
       "vkVSCC7xljjrAI4UGfnKEQ             5  2016-05-28                  6   \n",
       "n6QzIUObkYshz4dz2QRJTw             5  2016-05-28                  6   \n",
       "MV3CcKScW05u5LVfF6ok0g             5  2016-05-28                  6   \n",
       "IXvOzsEMYtiJI0CARmj77Q             4  2016-05-28                  6   \n",
       "L_9BTb55X0GDtThi6GlZ6w             4  2016-05-28                  6   \n",
       "\n",
       "                       yelping_since  fans  average_stars  \n",
       "review_id                                                  \n",
       "vkVSCC7xljjrAI4UGfnKEQ    2015-12-22     0           4.67  \n",
       "n6QzIUObkYshz4dz2QRJTw    2015-12-22     0           4.67  \n",
       "MV3CcKScW05u5LVfF6ok0g    2015-12-22     0           4.67  \n",
       "IXvOzsEMYtiJI0CARmj77Q    2015-12-22     0           4.67  \n",
       "L_9BTb55X0GDtThi6GlZ6w    2015-12-22     0           4.67  "
      ]
     },
     "execution_count": 38,
     "metadata": {},
     "output_type": "execute_result"
    }
   ],
   "source": [
    "user_review_df = pd.merge(review_df, user_df, how='inner', left_on=\"user_id\" , right_index= True)\n",
    "user_review_df.head()"
   ]
  },
  {
   "cell_type": "code",
   "execution_count": 39,
   "metadata": {},
   "outputs": [
    {
     "data": {
      "text/html": [
       "<div>\n",
       "<style scoped>\n",
       "    .dataframe tbody tr th:only-of-type {\n",
       "        vertical-align: middle;\n",
       "    }\n",
       "\n",
       "    .dataframe tbody tr th {\n",
       "        vertical-align: top;\n",
       "    }\n",
       "\n",
       "    .dataframe thead th {\n",
       "        text-align: right;\n",
       "    }\n",
       "</style>\n",
       "<table border=\"1\" class=\"dataframe\">\n",
       "  <thead>\n",
       "    <tr style=\"text-align: right;\">\n",
       "      <th></th>\n",
       "      <th>user_id</th>\n",
       "      <th>business_id</th>\n",
       "      <th>review_stars</th>\n",
       "      <th>date</th>\n",
       "      <th>user_review_count</th>\n",
       "      <th>yelping_since</th>\n",
       "      <th>fans</th>\n",
       "      <th>average_stars</th>\n",
       "    </tr>\n",
       "    <tr>\n",
       "      <th>review_id</th>\n",
       "      <th></th>\n",
       "      <th></th>\n",
       "      <th></th>\n",
       "      <th></th>\n",
       "      <th></th>\n",
       "      <th></th>\n",
       "      <th></th>\n",
       "      <th></th>\n",
       "    </tr>\n",
       "  </thead>\n",
       "  <tbody>\n",
       "    <tr>\n",
       "      <th>PoGSiNz1X5SUu0qEt-qM5w</th>\n",
       "      <td>mPjPyipaD0C_myqWqDipZg</td>\n",
       "      <td>Ngk84Ax1tXgpoJFEGxot3w</td>\n",
       "      <td>1</td>\n",
       "      <td>2011-11-21</td>\n",
       "      <td>30</td>\n",
       "      <td>2011-10-18</td>\n",
       "      <td>1</td>\n",
       "      <td>2.74</td>\n",
       "    </tr>\n",
       "    <tr>\n",
       "      <th>-CJNPrDWgIkorx4iEZJXIg</th>\n",
       "      <td>mPjPyipaD0C_myqWqDipZg</td>\n",
       "      <td>pOEL97ld-FJMKO8Ki8JmYg</td>\n",
       "      <td>3</td>\n",
       "      <td>2016-04-30</td>\n",
       "      <td>30</td>\n",
       "      <td>2011-10-18</td>\n",
       "      <td>1</td>\n",
       "      <td>2.74</td>\n",
       "    </tr>\n",
       "    <tr>\n",
       "      <th>W9eVvOcpBvG6lpJPoJOxuA</th>\n",
       "      <td>mPjPyipaD0C_myqWqDipZg</td>\n",
       "      <td>5ubokMNw8qfbX2WtxgJG1Q</td>\n",
       "      <td>4</td>\n",
       "      <td>2011-10-23</td>\n",
       "      <td>30</td>\n",
       "      <td>2011-10-18</td>\n",
       "      <td>1</td>\n",
       "      <td>2.74</td>\n",
       "    </tr>\n",
       "    <tr>\n",
       "      <th>hqQ1UTFKMN2P1ezUow48OQ</th>\n",
       "      <td>mPjPyipaD0C_myqWqDipZg</td>\n",
       "      <td>EO3i5kTUG7_S2OIQ23sdSA</td>\n",
       "      <td>3</td>\n",
       "      <td>2011-11-07</td>\n",
       "      <td>30</td>\n",
       "      <td>2011-10-18</td>\n",
       "      <td>1</td>\n",
       "      <td>2.74</td>\n",
       "    </tr>\n",
       "    <tr>\n",
       "      <th>ldsIs3sGXPJ7WM7VyAm4lQ</th>\n",
       "      <td>mPjPyipaD0C_myqWqDipZg</td>\n",
       "      <td>HloEEXm_QzEpycuwA_RtQA</td>\n",
       "      <td>3</td>\n",
       "      <td>2011-11-15</td>\n",
       "      <td>30</td>\n",
       "      <td>2011-10-18</td>\n",
       "      <td>1</td>\n",
       "      <td>2.74</td>\n",
       "    </tr>\n",
       "  </tbody>\n",
       "</table>\n",
       "</div>"
      ],
      "text/plain": [
       "                                       user_id             business_id  \\\n",
       "review_id                                                                \n",
       "PoGSiNz1X5SUu0qEt-qM5w  mPjPyipaD0C_myqWqDipZg  Ngk84Ax1tXgpoJFEGxot3w   \n",
       "-CJNPrDWgIkorx4iEZJXIg  mPjPyipaD0C_myqWqDipZg  pOEL97ld-FJMKO8Ki8JmYg   \n",
       "W9eVvOcpBvG6lpJPoJOxuA  mPjPyipaD0C_myqWqDipZg  5ubokMNw8qfbX2WtxgJG1Q   \n",
       "hqQ1UTFKMN2P1ezUow48OQ  mPjPyipaD0C_myqWqDipZg  EO3i5kTUG7_S2OIQ23sdSA   \n",
       "ldsIs3sGXPJ7WM7VyAm4lQ  mPjPyipaD0C_myqWqDipZg  HloEEXm_QzEpycuwA_RtQA   \n",
       "\n",
       "                        review_stars        date  user_review_count  \\\n",
       "review_id                                                             \n",
       "PoGSiNz1X5SUu0qEt-qM5w             1  2011-11-21                 30   \n",
       "-CJNPrDWgIkorx4iEZJXIg             3  2016-04-30                 30   \n",
       "W9eVvOcpBvG6lpJPoJOxuA             4  2011-10-23                 30   \n",
       "hqQ1UTFKMN2P1ezUow48OQ             3  2011-11-07                 30   \n",
       "ldsIs3sGXPJ7WM7VyAm4lQ             3  2011-11-15                 30   \n",
       "\n",
       "                       yelping_since  fans  average_stars  \n",
       "review_id                                                  \n",
       "PoGSiNz1X5SUu0qEt-qM5w    2011-10-18     1           2.74  \n",
       "-CJNPrDWgIkorx4iEZJXIg    2011-10-18     1           2.74  \n",
       "W9eVvOcpBvG6lpJPoJOxuA    2011-10-18     1           2.74  \n",
       "hqQ1UTFKMN2P1ezUow48OQ    2011-10-18     1           2.74  \n",
       "ldsIs3sGXPJ7WM7VyAm4lQ    2011-10-18     1           2.74  "
      ]
     },
     "execution_count": 39,
     "metadata": {},
     "output_type": "execute_result"
    }
   ],
   "source": [
    "user_review_df.tail()"
   ]
  },
  {
   "cell_type": "code",
   "execution_count": 40,
   "metadata": {},
   "outputs": [
    {
     "name": "stdout",
     "output_type": "stream",
     "text": [
      "<class 'pandas.core.frame.DataFrame'>\n",
      "Index: 5261662 entries, vkVSCC7xljjrAI4UGfnKEQ to ldsIs3sGXPJ7WM7VyAm4lQ\n",
      "Data columns (total 8 columns):\n",
      "user_id              object\n",
      "business_id          object\n",
      "review_stars         int64\n",
      "date                 object\n",
      "user_review_count    int64\n",
      "yelping_since        object\n",
      "fans                 int64\n",
      "average_stars        float64\n",
      "dtypes: float64(1), int64(3), object(4)\n",
      "memory usage: 361.3+ MB\n"
     ]
    }
   ],
   "source": [
    "user_review_df.info()"
   ]
  },
  {
   "cell_type": "code",
   "execution_count": 41,
   "metadata": {},
   "outputs": [
    {
     "data": {
      "text/html": [
       "<div>\n",
       "<style scoped>\n",
       "    .dataframe tbody tr th:only-of-type {\n",
       "        vertical-align: middle;\n",
       "    }\n",
       "\n",
       "    .dataframe tbody tr th {\n",
       "        vertical-align: top;\n",
       "    }\n",
       "\n",
       "    .dataframe thead th {\n",
       "        text-align: right;\n",
       "    }\n",
       "</style>\n",
       "<table border=\"1\" class=\"dataframe\">\n",
       "  <thead>\n",
       "    <tr style=\"text-align: right;\">\n",
       "      <th></th>\n",
       "      <th>review_stars</th>\n",
       "      <th>user_review_count</th>\n",
       "      <th>fans</th>\n",
       "      <th>average_stars</th>\n",
       "    </tr>\n",
       "  </thead>\n",
       "  <tbody>\n",
       "    <tr>\n",
       "      <th>count</th>\n",
       "      <td>5.261662e+06</td>\n",
       "      <td>5.261662e+06</td>\n",
       "      <td>5.261662e+06</td>\n",
       "      <td>5.261662e+06</td>\n",
       "    </tr>\n",
       "    <tr>\n",
       "      <th>mean</th>\n",
       "      <td>3.727738e+00</td>\n",
       "      <td>1.216500e+02</td>\n",
       "      <td>1.099750e+01</td>\n",
       "      <td>3.737311e+00</td>\n",
       "    </tr>\n",
       "    <tr>\n",
       "      <th>std</th>\n",
       "      <td>1.433593e+00</td>\n",
       "      <td>3.413802e+02</td>\n",
       "      <td>5.060646e+01</td>\n",
       "      <td>7.826569e-01</td>\n",
       "    </tr>\n",
       "    <tr>\n",
       "      <th>min</th>\n",
       "      <td>1.000000e+00</td>\n",
       "      <td>0.000000e+00</td>\n",
       "      <td>0.000000e+00</td>\n",
       "      <td>1.000000e+00</td>\n",
       "    </tr>\n",
       "    <tr>\n",
       "      <th>25%</th>\n",
       "      <td>3.000000e+00</td>\n",
       "      <td>7.000000e+00</td>\n",
       "      <td>0.000000e+00</td>\n",
       "      <td>3.400000e+00</td>\n",
       "    </tr>\n",
       "    <tr>\n",
       "      <th>50%</th>\n",
       "      <td>4.000000e+00</td>\n",
       "      <td>2.400000e+01</td>\n",
       "      <td>0.000000e+00</td>\n",
       "      <td>3.800000e+00</td>\n",
       "    </tr>\n",
       "    <tr>\n",
       "      <th>75%</th>\n",
       "      <td>5.000000e+00</td>\n",
       "      <td>9.700000e+01</td>\n",
       "      <td>4.000000e+00</td>\n",
       "      <td>4.200000e+00</td>\n",
       "    </tr>\n",
       "    <tr>\n",
       "      <th>max</th>\n",
       "      <td>5.000000e+00</td>\n",
       "      <td>1.195400e+04</td>\n",
       "      <td>7.009000e+03</td>\n",
       "      <td>5.000000e+00</td>\n",
       "    </tr>\n",
       "  </tbody>\n",
       "</table>\n",
       "</div>"
      ],
      "text/plain": [
       "       review_stars  user_review_count          fans  average_stars\n",
       "count  5.261662e+06       5.261662e+06  5.261662e+06   5.261662e+06\n",
       "mean   3.727738e+00       1.216500e+02  1.099750e+01   3.737311e+00\n",
       "std    1.433593e+00       3.413802e+02  5.060646e+01   7.826569e-01\n",
       "min    1.000000e+00       0.000000e+00  0.000000e+00   1.000000e+00\n",
       "25%    3.000000e+00       7.000000e+00  0.000000e+00   3.400000e+00\n",
       "50%    4.000000e+00       2.400000e+01  0.000000e+00   3.800000e+00\n",
       "75%    5.000000e+00       9.700000e+01  4.000000e+00   4.200000e+00\n",
       "max    5.000000e+00       1.195400e+04  7.009000e+03   5.000000e+00"
      ]
     },
     "execution_count": 41,
     "metadata": {},
     "output_type": "execute_result"
    }
   ],
   "source": [
    "user_review_df.describe()"
   ]
  },
  {
   "cell_type": "code",
   "execution_count": 42,
   "metadata": {},
   "outputs": [
    {
     "data": {
      "text/plain": [
       "user_id              0\n",
       "business_id          0\n",
       "review_stars         0\n",
       "date                 0\n",
       "user_review_count    0\n",
       "yelping_since        0\n",
       "fans                 0\n",
       "average_stars        0\n",
       "dtype: int64"
      ]
     },
     "execution_count": 42,
     "metadata": {},
     "output_type": "execute_result"
    }
   ],
   "source": [
    "user_review_df.isna().sum()"
   ]
  },
  {
   "cell_type": "markdown",
   "metadata": {},
   "source": [
    "Now we can join user_reviews_df with r_df_clean (containing restaurant information) on business_id to form the final data frame"
   ]
  },
  {
   "cell_type": "code",
   "execution_count": 43,
   "metadata": {},
   "outputs": [
    {
     "data": {
      "text/html": [
       "<div>\n",
       "<style scoped>\n",
       "    .dataframe tbody tr th:only-of-type {\n",
       "        vertical-align: middle;\n",
       "    }\n",
       "\n",
       "    .dataframe tbody tr th {\n",
       "        vertical-align: top;\n",
       "    }\n",
       "\n",
       "    .dataframe thead th {\n",
       "        text-align: right;\n",
       "    }\n",
       "</style>\n",
       "<table border=\"1\" class=\"dataframe\">\n",
       "  <thead>\n",
       "    <tr style=\"text-align: right;\">\n",
       "      <th></th>\n",
       "      <th>user_id</th>\n",
       "      <th>business_id</th>\n",
       "      <th>review_stars</th>\n",
       "      <th>date</th>\n",
       "      <th>user_review_count</th>\n",
       "      <th>yelping_since</th>\n",
       "      <th>fans</th>\n",
       "      <th>average_stars</th>\n",
       "      <th>city</th>\n",
       "      <th>state</th>\n",
       "      <th>postal_code</th>\n",
       "      <th>latitude</th>\n",
       "      <th>longitude</th>\n",
       "      <th>restaurant_stars</th>\n",
       "      <th>restaurant_review_count</th>\n",
       "      <th>category</th>\n",
       "    </tr>\n",
       "    <tr>\n",
       "      <th>review_id</th>\n",
       "      <th></th>\n",
       "      <th></th>\n",
       "      <th></th>\n",
       "      <th></th>\n",
       "      <th></th>\n",
       "      <th></th>\n",
       "      <th></th>\n",
       "      <th></th>\n",
       "      <th></th>\n",
       "      <th></th>\n",
       "      <th></th>\n",
       "      <th></th>\n",
       "      <th></th>\n",
       "      <th></th>\n",
       "      <th></th>\n",
       "      <th></th>\n",
       "    </tr>\n",
       "  </thead>\n",
       "  <tbody>\n",
       "    <tr>\n",
       "      <th>vkVSCC7xljjrAI4UGfnKEQ</th>\n",
       "      <td>bv2nCi5Qv5vroFiqKGopiw</td>\n",
       "      <td>AEx2SYEUJmTxVVB18LlCwA</td>\n",
       "      <td>5</td>\n",
       "      <td>2016-05-28</td>\n",
       "      <td>6</td>\n",
       "      <td>2015-12-22</td>\n",
       "      <td>0</td>\n",
       "      <td>4.67</td>\n",
       "      <td>Montréal</td>\n",
       "      <td>QC</td>\n",
       "      <td>H2T 2M1</td>\n",
       "      <td>45.523333</td>\n",
       "      <td>-73.594859</td>\n",
       "      <td>4.0</td>\n",
       "      <td>84</td>\n",
       "      <td>Diners</td>\n",
       "    </tr>\n",
       "    <tr>\n",
       "      <th>vm1b1keOzwHjtGZEPPuYXA</th>\n",
       "      <td>xYciRtVZ1PW4IxSX4oJ1aw</td>\n",
       "      <td>AEx2SYEUJmTxVVB18LlCwA</td>\n",
       "      <td>5</td>\n",
       "      <td>2016-02-22</td>\n",
       "      <td>177</td>\n",
       "      <td>2015-02-15</td>\n",
       "      <td>30</td>\n",
       "      <td>3.41</td>\n",
       "      <td>Montréal</td>\n",
       "      <td>QC</td>\n",
       "      <td>H2T 2M1</td>\n",
       "      <td>45.523333</td>\n",
       "      <td>-73.594859</td>\n",
       "      <td>4.0</td>\n",
       "      <td>84</td>\n",
       "      <td>Diners</td>\n",
       "    </tr>\n",
       "    <tr>\n",
       "      <th>jUzausdZ_ujqe_n8BlBj-g</th>\n",
       "      <td>DVOOF0Z627DyrZ4XKQbTgA</td>\n",
       "      <td>AEx2SYEUJmTxVVB18LlCwA</td>\n",
       "      <td>5</td>\n",
       "      <td>2017-08-08</td>\n",
       "      <td>40</td>\n",
       "      <td>2017-01-16</td>\n",
       "      <td>1</td>\n",
       "      <td>3.98</td>\n",
       "      <td>Montréal</td>\n",
       "      <td>QC</td>\n",
       "      <td>H2T 2M1</td>\n",
       "      <td>45.523333</td>\n",
       "      <td>-73.594859</td>\n",
       "      <td>4.0</td>\n",
       "      <td>84</td>\n",
       "      <td>Diners</td>\n",
       "    </tr>\n",
       "    <tr>\n",
       "      <th>SXwA9KZ-Nc_hMARk_3cJ7g</th>\n",
       "      <td>5Ymfsf9fAYz-Ds_p0xawVQ</td>\n",
       "      <td>AEx2SYEUJmTxVVB18LlCwA</td>\n",
       "      <td>5</td>\n",
       "      <td>2013-03-29</td>\n",
       "      <td>79</td>\n",
       "      <td>2011-04-14</td>\n",
       "      <td>8</td>\n",
       "      <td>4.52</td>\n",
       "      <td>Montréal</td>\n",
       "      <td>QC</td>\n",
       "      <td>H2T 2M1</td>\n",
       "      <td>45.523333</td>\n",
       "      <td>-73.594859</td>\n",
       "      <td>4.0</td>\n",
       "      <td>84</td>\n",
       "      <td>Diners</td>\n",
       "    </tr>\n",
       "    <tr>\n",
       "      <th>oCRDwF3tszAkeszSfxwthg</th>\n",
       "      <td>5JoKz3mU42Cp906KRXDwJw</td>\n",
       "      <td>AEx2SYEUJmTxVVB18LlCwA</td>\n",
       "      <td>4</td>\n",
       "      <td>2009-01-17</td>\n",
       "      <td>3</td>\n",
       "      <td>2008-05-29</td>\n",
       "      <td>0</td>\n",
       "      <td>4.00</td>\n",
       "      <td>Montréal</td>\n",
       "      <td>QC</td>\n",
       "      <td>H2T 2M1</td>\n",
       "      <td>45.523333</td>\n",
       "      <td>-73.594859</td>\n",
       "      <td>4.0</td>\n",
       "      <td>84</td>\n",
       "      <td>Diners</td>\n",
       "    </tr>\n",
       "  </tbody>\n",
       "</table>\n",
       "</div>"
      ],
      "text/plain": [
       "                                       user_id             business_id  \\\n",
       "review_id                                                                \n",
       "vkVSCC7xljjrAI4UGfnKEQ  bv2nCi5Qv5vroFiqKGopiw  AEx2SYEUJmTxVVB18LlCwA   \n",
       "vm1b1keOzwHjtGZEPPuYXA  xYciRtVZ1PW4IxSX4oJ1aw  AEx2SYEUJmTxVVB18LlCwA   \n",
       "jUzausdZ_ujqe_n8BlBj-g  DVOOF0Z627DyrZ4XKQbTgA  AEx2SYEUJmTxVVB18LlCwA   \n",
       "SXwA9KZ-Nc_hMARk_3cJ7g  5Ymfsf9fAYz-Ds_p0xawVQ  AEx2SYEUJmTxVVB18LlCwA   \n",
       "oCRDwF3tszAkeszSfxwthg  5JoKz3mU42Cp906KRXDwJw  AEx2SYEUJmTxVVB18LlCwA   \n",
       "\n",
       "                        review_stars        date  user_review_count  \\\n",
       "review_id                                                             \n",
       "vkVSCC7xljjrAI4UGfnKEQ             5  2016-05-28                  6   \n",
       "vm1b1keOzwHjtGZEPPuYXA             5  2016-02-22                177   \n",
       "jUzausdZ_ujqe_n8BlBj-g             5  2017-08-08                 40   \n",
       "SXwA9KZ-Nc_hMARk_3cJ7g             5  2013-03-29                 79   \n",
       "oCRDwF3tszAkeszSfxwthg             4  2009-01-17                  3   \n",
       "\n",
       "                       yelping_since  fans  average_stars      city state  \\\n",
       "review_id                                                                   \n",
       "vkVSCC7xljjrAI4UGfnKEQ    2015-12-22     0           4.67  Montréal    QC   \n",
       "vm1b1keOzwHjtGZEPPuYXA    2015-02-15    30           3.41  Montréal    QC   \n",
       "jUzausdZ_ujqe_n8BlBj-g    2017-01-16     1           3.98  Montréal    QC   \n",
       "SXwA9KZ-Nc_hMARk_3cJ7g    2011-04-14     8           4.52  Montréal    QC   \n",
       "oCRDwF3tszAkeszSfxwthg    2008-05-29     0           4.00  Montréal    QC   \n",
       "\n",
       "                       postal_code   latitude  longitude  restaurant_stars  \\\n",
       "review_id                                                                    \n",
       "vkVSCC7xljjrAI4UGfnKEQ     H2T 2M1  45.523333 -73.594859               4.0   \n",
       "vm1b1keOzwHjtGZEPPuYXA     H2T 2M1  45.523333 -73.594859               4.0   \n",
       "jUzausdZ_ujqe_n8BlBj-g     H2T 2M1  45.523333 -73.594859               4.0   \n",
       "SXwA9KZ-Nc_hMARk_3cJ7g     H2T 2M1  45.523333 -73.594859               4.0   \n",
       "oCRDwF3tszAkeszSfxwthg     H2T 2M1  45.523333 -73.594859               4.0   \n",
       "\n",
       "                        restaurant_review_count category  \n",
       "review_id                                                 \n",
       "vkVSCC7xljjrAI4UGfnKEQ                       84   Diners  \n",
       "vm1b1keOzwHjtGZEPPuYXA                       84   Diners  \n",
       "jUzausdZ_ujqe_n8BlBj-g                       84   Diners  \n",
       "SXwA9KZ-Nc_hMARk_3cJ7g                       84   Diners  \n",
       "oCRDwF3tszAkeszSfxwthg                       84   Diners  "
      ]
     },
     "execution_count": 43,
     "metadata": {},
     "output_type": "execute_result"
    }
   ],
   "source": [
    "final_df = pd.merge(user_review_df, r_df_clean, how='inner', left_on=\"business_id\" , right_index= True)\n",
    "final_df.head()"
   ]
  },
  {
   "cell_type": "code",
   "execution_count": 44,
   "metadata": {},
   "outputs": [
    {
     "name": "stdout",
     "output_type": "stream",
     "text": [
      "<class 'pandas.core.frame.DataFrame'>\n",
      "Index: 2722485 entries, vkVSCC7xljjrAI4UGfnKEQ to 99hWXPtbpzXXbsL43RYuKA\n",
      "Data columns (total 16 columns):\n",
      "user_id                    object\n",
      "business_id                object\n",
      "review_stars               int64\n",
      "date                       object\n",
      "user_review_count          int64\n",
      "yelping_since              object\n",
      "fans                       int64\n",
      "average_stars              float64\n",
      "city                       object\n",
      "state                      object\n",
      "postal_code                object\n",
      "latitude                   float64\n",
      "longitude                  float64\n",
      "restaurant_stars           float64\n",
      "restaurant_review_count    int64\n",
      "category                   object\n",
      "dtypes: float64(4), int64(4), object(8)\n",
      "memory usage: 353.1+ MB\n"
     ]
    }
   ],
   "source": [
    "final_df.info()"
   ]
  },
  {
   "cell_type": "code",
   "execution_count": 45,
   "metadata": {},
   "outputs": [
    {
     "data": {
      "text/plain": [
       "user_id                    0\n",
       "business_id                0\n",
       "review_stars               0\n",
       "date                       0\n",
       "user_review_count          0\n",
       "yelping_since              0\n",
       "fans                       0\n",
       "average_stars              0\n",
       "city                       0\n",
       "state                      0\n",
       "postal_code                0\n",
       "latitude                   0\n",
       "longitude                  0\n",
       "restaurant_stars           0\n",
       "restaurant_review_count    0\n",
       "category                   0\n",
       "dtype: int64"
      ]
     },
     "execution_count": 45,
     "metadata": {},
     "output_type": "execute_result"
    }
   ],
   "source": [
    "final_df.isna().sum()"
   ]
  },
  {
   "cell_type": "code",
   "execution_count": 46,
   "metadata": {},
   "outputs": [
    {
     "data": {
      "text/plain": [
       "user_id                    0\n",
       "business_id                0\n",
       "review_stars               0\n",
       "date                       0\n",
       "user_review_count          0\n",
       "yelping_since              0\n",
       "fans                       0\n",
       "average_stars              0\n",
       "city                       0\n",
       "state                      0\n",
       "postal_code                0\n",
       "latitude                   0\n",
       "longitude                  0\n",
       "restaurant_stars           0\n",
       "restaurant_review_count    0\n",
       "category                   0\n",
       "dtype: int64"
      ]
     },
     "execution_count": 46,
     "metadata": {},
     "output_type": "execute_result"
    }
   ],
   "source": [
    "final_df[final_df.duplicated()].count()"
   ]
  },
  {
   "cell_type": "code",
   "execution_count": 50,
   "metadata": {},
   "outputs": [
    {
     "data": {
      "text/plain": [
       "(2722485, 16)"
      ]
     },
     "execution_count": 50,
     "metadata": {},
     "output_type": "execute_result"
    }
   ],
   "source": [
    "final_df.shape"
   ]
  },
  {
   "cell_type": "markdown",
   "metadata": {},
   "source": [
    "## Variable distributions and outliers"
   ]
  },
  {
   "cell_type": "code",
   "execution_count": 52,
   "metadata": {},
   "outputs": [
    {
     "data": {
      "image/png": "[encoded data removed]",
      "text/plain": [
       "<matplotlib.figure.Figure at 0x1a229cf2898>"
      ]
     },
     "metadata": {
      "needs_background": "light"
     },
     "output_type": "display_data"
    }
   ],
   "source": [
    "df = final_df\n",
    "\n",
    "# Let's start with latitude and longitude to limit geographical area if possible\n",
    "\n",
    "'''The valid range of latitude in degrees is -90 and +90 for the southern and northern hemisphere respectively.\n",
    "Longitude is in the range -180 and +180 specifying coordinates west and east of the Prime Meridian, respectively.'''\n",
    "\n",
    "plt.scatter(df['longitude'], df['latitude'])\n",
    "plt.ylabel('Latitude')\n",
    "plt.xlabel('Longitude')\n",
    "plt.show()"
   ]
  },
  {
   "cell_type": "markdown",
   "metadata": {},
   "source": [
    "We can see that all values fit in to the valid ranges of latitude and longitude, but there seems to be some \"outliers\". Let's explore them and see if they make sense to keep."
   ]
  },
  {
   "cell_type": "code",
   "execution_count": 53,
   "metadata": {},
   "outputs": [
    {
     "data": {
      "text/plain": [
       "sImzZLPpBMqFq7AX4S-wvw    25\n",
       "Ss6J7HFhMCxoq7M8wXqc8A    16\n",
       "Y23VrXVc75Pv15Z9Bw1R6w    11\n",
       "bGxzQDGOTpab_6hdqsqv9g     8\n",
       "KNyDf8u8nd0Qs8HmqSk6Og     8\n",
       "4-xLjGavuWFqEfNuznxL3A     5\n",
       "-mkmQnY__U4xnjj5v2vRyQ     4\n",
       "softZjpREG65wpAns2FaWA     4\n",
       "i1e8KsIy1ELvI7G6mvvZkw     3\n",
       "zMAiU0s8ScUYHwAESCB8Qg     3\n",
       "YBaWP2r64BPJazkmyf1fig     3\n",
       "Name: business_id, dtype: int64"
      ]
     },
     "execution_count": 53,
     "metadata": {},
     "output_type": "execute_result"
    }
   ],
   "source": [
    "df[df['latitude'] < -30]['business_id'].value_counts()"
   ]
  },
  {
   "cell_type": "markdown",
   "metadata": {},
   "source": [
    "In this group, there are only 90 reviews (compare to 2,7 million in the whole dataset so these can be removed due to small size."
   ]
  },
  {
   "cell_type": "code",
   "execution_count": 54,
   "metadata": {},
   "outputs": [
    {
     "data": {
      "text/plain": [
       "(2722395, 16)"
      ]
     },
     "execution_count": 54,
     "metadata": {},
     "output_type": "execute_result"
    }
   ],
   "source": [
    "df = df.drop(df[df['latitude'] < -30].index)\n",
    "df.shape"
   ]
  },
  {
   "cell_type": "code",
   "execution_count": 55,
   "metadata": {},
   "outputs": [
    {
     "data": {
      "text/plain": [
       "1yQUqh3_h1IOrXZmb4CBFw    15\n",
       "Name: business_id, dtype: int64"
      ]
     },
     "execution_count": 55,
     "metadata": {},
     "output_type": "execute_result"
    }
   ],
   "source": [
    "df[df['latitude'] > 80]['business_id'].value_counts()"
   ]
  },
  {
   "cell_type": "markdown",
   "metadata": {},
   "source": [
    "Only 15 reviews so we can drop this also"
   ]
  },
  {
   "cell_type": "code",
   "execution_count": 56,
   "metadata": {},
   "outputs": [
    {
     "data": {
      "text/plain": [
       "(2722380, 16)"
      ]
     },
     "execution_count": 56,
     "metadata": {},
     "output_type": "execute_result"
    }
   ],
   "source": [
    "df = df.drop(df[df['latitude'] > 80].index)\n",
    "df.shape"
   ]
  },
  {
   "cell_type": "code",
   "execution_count": 57,
   "metadata": {},
   "outputs": [
    {
     "data": {
      "text/plain": [
       "Zmp2_b2gpSloz4Dv2VsVNg    71\n",
       "Name: business_id, dtype: int64"
      ]
     },
     "execution_count": 57,
     "metadata": {},
     "output_type": "execute_result"
    }
   ],
   "source": [
    "df[df['longitude'] > 100]['business_id'].value_counts()"
   ]
  },
  {
   "cell_type": "markdown",
   "metadata": {},
   "source": [
    "Same thing here"
   ]
  },
  {
   "cell_type": "code",
   "execution_count": 58,
   "metadata": {},
   "outputs": [
    {
     "data": {
      "text/plain": [
       "(2722309, 16)"
      ]
     },
     "execution_count": 58,
     "metadata": {},
     "output_type": "execute_result"
    }
   ],
   "source": [
    "df = df.drop(df[df['longitude'] > 100].index)\n",
    "df.shape"
   ]
  },
  {
   "cell_type": "code",
   "execution_count": 59,
   "metadata": {},
   "outputs": [
    {
     "data": {
      "text/plain": [
       "vBxK_MAGuy8eWL_CCfUCUQ    5\n",
       "Name: business_id, dtype: int64"
      ]
     },
     "execution_count": 59,
     "metadata": {},
     "output_type": "execute_result"
    }
   ],
   "source": [
    "df[df['latitude'] < 20]['business_id'].value_counts()"
   ]
  },
  {
   "cell_type": "markdown",
   "metadata": {},
   "source": [
    "Same here"
   ]
  },
  {
   "cell_type": "code",
   "execution_count": 60,
   "metadata": {},
   "outputs": [
    {
     "data": {
      "text/plain": [
       "(2722304, 16)"
      ]
     },
     "execution_count": 60,
     "metadata": {},
     "output_type": "execute_result"
    }
   ],
   "source": [
    "df = df.drop(df[df['latitude'] < 20].index)\n",
    "df.shape"
   ]
  },
  {
   "cell_type": "markdown",
   "metadata": {},
   "source": [
    "Now we can make the scatter plot again"
   ]
  },
  {
   "cell_type": "code",
   "execution_count": 62,
   "metadata": {},
   "outputs": [
    {
     "data": {
      "image/png": "[encoded data removed]",
      "text/plain": [
       "<matplotlib.figure.Figure at 0x1a22d642160>"
      ]
     },
     "metadata": {
      "needs_background": "light"
     },
     "output_type": "display_data"
    }
   ],
   "source": [
    "plt.scatter(df['longitude'], df['latitude'])\n",
    "plt.ylabel('Latitude')\n",
    "plt.xlabel('Longitude')\n",
    "plt.show()"
   ]
  },
  {
   "cell_type": "markdown",
   "metadata": {},
   "source": [
    "Makes more sense now, geographical areas are closer to each other"
   ]
  },
  {
   "cell_type": "markdown",
   "metadata": {},
   "source": [
    "### Exploring distributions of numerical variables"
   ]
  },
  {
   "cell_type": "code",
   "execution_count": 63,
   "metadata": {},
   "outputs": [
    {
     "data": {
      "image/png": "[encoded data removed]",
      "text/plain": [
       "<matplotlib.figure.Figure at 0x1a239c89630>"
      ]
     },
     "metadata": {
      "needs_background": "light"
     },
     "output_type": "display_data"
    }
   ],
   "source": [
    "df['fans'].plot(kind='box')\n",
    "plt.show()"
   ]
  },
  {
   "cell_type": "code",
   "execution_count": 65,
   "metadata": {},
   "outputs": [
    {
     "data": {
      "text/html": [
       "<div>\n",
       "<style scoped>\n",
       "    .dataframe tbody tr th:only-of-type {\n",
       "        vertical-align: middle;\n",
       "    }\n",
       "\n",
       "    .dataframe tbody tr th {\n",
       "        vertical-align: top;\n",
       "    }\n",
       "\n",
       "    .dataframe thead th {\n",
       "        text-align: right;\n",
       "    }\n",
       "</style>\n",
       "<table border=\"1\" class=\"dataframe\">\n",
       "  <thead>\n",
       "    <tr style=\"text-align: right;\">\n",
       "      <th></th>\n",
       "      <th>user_id</th>\n",
       "      <th>business_id</th>\n",
       "      <th>review_stars</th>\n",
       "      <th>date</th>\n",
       "      <th>user_review_count</th>\n",
       "      <th>yelping_since</th>\n",
       "      <th>fans</th>\n",
       "      <th>average_stars</th>\n",
       "      <th>city</th>\n",
       "      <th>state</th>\n",
       "      <th>postal_code</th>\n",
       "      <th>latitude</th>\n",
       "      <th>longitude</th>\n",
       "      <th>restaurant_stars</th>\n",
       "      <th>restaurant_review_count</th>\n",
       "      <th>category</th>\n",
       "    </tr>\n",
       "    <tr>\n",
       "      <th>review_id</th>\n",
       "      <th></th>\n",
       "      <th></th>\n",
       "      <th></th>\n",
       "      <th></th>\n",
       "      <th></th>\n",
       "      <th></th>\n",
       "      <th></th>\n",
       "      <th></th>\n",
       "      <th></th>\n",
       "      <th></th>\n",
       "      <th></th>\n",
       "      <th></th>\n",
       "      <th></th>\n",
       "      <th></th>\n",
       "      <th></th>\n",
       "      <th></th>\n",
       "    </tr>\n",
       "  </thead>\n",
       "  <tbody>\n",
       "    <tr>\n",
       "      <th>YmVAQJK2dke4xaQJne5Ofg</th>\n",
       "      <td>37cpUoM8hlkSQfReIEBd-Q</td>\n",
       "      <td>0qet57CmMA5qUm6gPFUTpg</td>\n",
       "      <td>2</td>\n",
       "      <td>2014-12-30</td>\n",
       "      <td>1477</td>\n",
       "      <td>2009-04-25</td>\n",
       "      <td>7009</td>\n",
       "      <td>4.23</td>\n",
       "      <td>Las Vegas</td>\n",
       "      <td>NV</td>\n",
       "      <td>89109</td>\n",
       "      <td>36.115274</td>\n",
       "      <td>-115.172738</td>\n",
       "      <td>2.5</td>\n",
       "      <td>114</td>\n",
       "      <td>Italian</td>\n",
       "    </tr>\n",
       "    <tr>\n",
       "      <th>qn_5DSdHyazKJuldOYO21g</th>\n",
       "      <td>37cpUoM8hlkSQfReIEBd-Q</td>\n",
       "      <td>lYCeqldIiOggsbByH3RRhw</td>\n",
       "      <td>3</td>\n",
       "      <td>2015-01-13</td>\n",
       "      <td>1477</td>\n",
       "      <td>2009-04-25</td>\n",
       "      <td>7009</td>\n",
       "      <td>4.23</td>\n",
       "      <td>Las Vegas</td>\n",
       "      <td>NV</td>\n",
       "      <td>89119</td>\n",
       "      <td>36.080900</td>\n",
       "      <td>-115.139103</td>\n",
       "      <td>2.5</td>\n",
       "      <td>15</td>\n",
       "      <td>Pizza</td>\n",
       "    </tr>\n",
       "  </tbody>\n",
       "</table>\n",
       "</div>"
      ],
      "text/plain": [
       "                                       user_id             business_id  \\\n",
       "review_id                                                                \n",
       "YmVAQJK2dke4xaQJne5Ofg  37cpUoM8hlkSQfReIEBd-Q  0qet57CmMA5qUm6gPFUTpg   \n",
       "qn_5DSdHyazKJuldOYO21g  37cpUoM8hlkSQfReIEBd-Q  lYCeqldIiOggsbByH3RRhw   \n",
       "\n",
       "                        review_stars        date  user_review_count  \\\n",
       "review_id                                                             \n",
       "YmVAQJK2dke4xaQJne5Ofg             2  2014-12-30               1477   \n",
       "qn_5DSdHyazKJuldOYO21g             3  2015-01-13               1477   \n",
       "\n",
       "                       yelping_since  fans  average_stars       city state  \\\n",
       "review_id                                                                    \n",
       "YmVAQJK2dke4xaQJne5Ofg    2009-04-25  7009           4.23  Las Vegas    NV   \n",
       "qn_5DSdHyazKJuldOYO21g    2009-04-25  7009           4.23  Las Vegas    NV   \n",
       "\n",
       "                       postal_code   latitude   longitude  restaurant_stars  \\\n",
       "review_id                                                                     \n",
       "YmVAQJK2dke4xaQJne5Ofg       89109  36.115274 -115.172738               2.5   \n",
       "qn_5DSdHyazKJuldOYO21g       89119  36.080900 -115.139103               2.5   \n",
       "\n",
       "                        restaurant_review_count category  \n",
       "review_id                                                 \n",
       "YmVAQJK2dke4xaQJne5Ofg                      114  Italian  \n",
       "qn_5DSdHyazKJuldOYO21g                       15    Pizza  "
      ]
     },
     "execution_count": 65,
     "metadata": {},
     "output_type": "execute_result"
    }
   ],
   "source": [
    "df[df['fans'] > 6000]"
   ]
  },
  {
   "cell_type": "code",
   "execution_count": 66,
   "metadata": {},
   "outputs": [
    {
     "data": {
      "text/plain": [
       "(2722302, 16)"
      ]
     },
     "execution_count": 66,
     "metadata": {},
     "output_type": "execute_result"
    }
   ],
   "source": [
    "# Only one user differs greatly from others so we can remove that observation.\n",
    "df = df.drop(df[df['fans'] > 6000].index)\n",
    "df.shape"
   ]
  },
  {
   "cell_type": "code",
   "execution_count": 67,
   "metadata": {},
   "outputs": [
    {
     "data": {
      "image/png": "[encoded data removed]",
      "text/plain": [
       "<matplotlib.figure.Figure at 0x1a22f6f82e8>"
      ]
     },
     "metadata": {
      "needs_background": "light"
     },
     "output_type": "display_data"
    }
   ],
   "source": [
    "df.boxplot(vert=False, figsize=(10,6))\n",
    "plt.show()"
   ]
  },
  {
   "cell_type": "markdown",
   "metadata": {},
   "source": [
    "All \"outliers\" off boxplot make sense in this domain so we can assume there are no real outliers left in the dataframe"
   ]
  },
  {
   "cell_type": "markdown",
   "metadata": {},
   "source": [
    "Plotting histograms of numerical variables with seaborn"
   ]
  },
  {
   "cell_type": "code",
   "execution_count": 79,
   "metadata": {},
   "outputs": [
    {
     "data": {
      "image/png": "[encoded data removed]",
      "text/plain": [
       "<matplotlib.figure.Figure at 0x1a226a46898>"
      ]
     },
     "metadata": {
      "needs_background": "light"
     },
     "output_type": "display_data"
    }
   ],
   "source": [
    "ax = sns.distplot(df['review_stars'], kde=False, axlabel='Review stars')"
   ]
  },
  {
   "cell_type": "code",
   "execution_count": 76,
   "metadata": {},
   "outputs": [
    {
     "data": {
      "text/html": [
       "<div>\n",
       "<style scoped>\n",
       "    .dataframe tbody tr th:only-of-type {\n",
       "        vertical-align: middle;\n",
       "    }\n",
       "\n",
       "    .dataframe tbody tr th {\n",
       "        vertical-align: top;\n",
       "    }\n",
       "\n",
       "    .dataframe thead th {\n",
       "        text-align: right;\n",
       "    }\n",
       "</style>\n",
       "<table border=\"1\" class=\"dataframe\">\n",
       "  <thead>\n",
       "    <tr style=\"text-align: right;\">\n",
       "      <th></th>\n",
       "      <th>review_stars</th>\n",
       "      <th>user_review_count</th>\n",
       "      <th>fans</th>\n",
       "      <th>average_stars</th>\n",
       "      <th>latitude</th>\n",
       "      <th>longitude</th>\n",
       "      <th>restaurant_stars</th>\n",
       "      <th>restaurant_review_count</th>\n",
       "    </tr>\n",
       "  </thead>\n",
       "  <tbody>\n",
       "    <tr>\n",
       "      <th>count</th>\n",
       "      <td>124402.000000</td>\n",
       "      <td>124402.000000</td>\n",
       "      <td>124402.000000</td>\n",
       "      <td>124402.000000</td>\n",
       "      <td>124402.000000</td>\n",
       "      <td>124402.000000</td>\n",
       "      <td>124402.000000</td>\n",
       "      <td>124402.000000</td>\n",
       "    </tr>\n",
       "    <tr>\n",
       "      <th>mean</th>\n",
       "      <td>3.617016</td>\n",
       "      <td>107.338097</td>\n",
       "      <td>9.001222</td>\n",
       "      <td>3.679925</td>\n",
       "      <td>37.291286</td>\n",
       "      <td>-100.277530</td>\n",
       "      <td>3.619705</td>\n",
       "      <td>314.725125</td>\n",
       "    </tr>\n",
       "    <tr>\n",
       "      <th>std</th>\n",
       "      <td>1.433126</td>\n",
       "      <td>289.422273</td>\n",
       "      <td>42.014037</td>\n",
       "      <td>0.784616</td>\n",
       "      <td>4.016287</td>\n",
       "      <td>19.306856</td>\n",
       "      <td>0.648711</td>\n",
       "      <td>663.307604</td>\n",
       "    </tr>\n",
       "    <tr>\n",
       "      <th>min</th>\n",
       "      <td>1.000000</td>\n",
       "      <td>0.000000</td>\n",
       "      <td>0.000000</td>\n",
       "      <td>1.000000</td>\n",
       "      <td>33.137390</td>\n",
       "      <td>-115.350952</td>\n",
       "      <td>1.000000</td>\n",
       "      <td>3.000000</td>\n",
       "    </tr>\n",
       "    <tr>\n",
       "      <th>25%</th>\n",
       "      <td>3.000000</td>\n",
       "      <td>8.000000</td>\n",
       "      <td>0.000000</td>\n",
       "      <td>3.330000</td>\n",
       "      <td>33.619772</td>\n",
       "      <td>-115.111688</td>\n",
       "      <td>3.500000</td>\n",
       "      <td>40.000000</td>\n",
       "    </tr>\n",
       "    <tr>\n",
       "      <th>50%</th>\n",
       "      <td>4.000000</td>\n",
       "      <td>24.000000</td>\n",
       "      <td>0.000000</td>\n",
       "      <td>3.770000</td>\n",
       "      <td>36.106520</td>\n",
       "      <td>-111.926224</td>\n",
       "      <td>4.000000</td>\n",
       "      <td>120.000000</td>\n",
       "    </tr>\n",
       "    <tr>\n",
       "      <th>75%</th>\n",
       "      <td>5.000000</td>\n",
       "      <td>85.000000</td>\n",
       "      <td>3.000000</td>\n",
       "      <td>4.140000</td>\n",
       "      <td>40.464752</td>\n",
       "      <td>-80.851277</td>\n",
       "      <td>4.000000</td>\n",
       "      <td>286.000000</td>\n",
       "    </tr>\n",
       "    <tr>\n",
       "      <th>max</th>\n",
       "      <td>5.000000</td>\n",
       "      <td>8353.000000</td>\n",
       "      <td>2499.000000</td>\n",
       "      <td>5.000000</td>\n",
       "      <td>57.481913</td>\n",
       "      <td>14.092636</td>\n",
       "      <td>5.000000</td>\n",
       "      <td>3741.000000</td>\n",
       "    </tr>\n",
       "  </tbody>\n",
       "</table>\n",
       "</div>"
      ],
      "text/plain": [
       "        review_stars  user_review_count           fans  average_stars  \\\n",
       "count  124402.000000      124402.000000  124402.000000  124402.000000   \n",
       "mean        3.617016         107.338097       9.001222       3.679925   \n",
       "std         1.433126         289.422273      42.014037       0.784616   \n",
       "min         1.000000           0.000000       0.000000       1.000000   \n",
       "25%         3.000000           8.000000       0.000000       3.330000   \n",
       "50%         4.000000          24.000000       0.000000       3.770000   \n",
       "75%         5.000000          85.000000       3.000000       4.140000   \n",
       "max         5.000000        8353.000000    2499.000000       5.000000   \n",
       "\n",
       "            latitude      longitude  restaurant_stars  restaurant_review_count  \n",
       "count  124402.000000  124402.000000     124402.000000            124402.000000  \n",
       "mean       37.291286    -100.277530          3.619705               314.725125  \n",
       "std         4.016287      19.306856          0.648711               663.307604  \n",
       "min        33.137390    -115.350952          1.000000                 3.000000  \n",
       "25%        33.619772    -115.111688          3.500000                40.000000  \n",
       "50%        36.106520    -111.926224          4.000000               120.000000  \n",
       "75%        40.464752     -80.851277          4.000000               286.000000  \n",
       "max        57.481913      14.092636          5.000000              3741.000000  "
      ]
     },
     "execution_count": 76,
     "metadata": {},
     "output_type": "execute_result"
    }
   ],
   "source": [
    "df[df['category'] == 'Pizza'].describe()"
   ]
  },
  {
   "cell_type": "code",
   "execution_count": 78,
   "metadata": {},
   "outputs": [
    {
     "data": {
      "text/html": [
       "<div>\n",
       "<style scoped>\n",
       "    .dataframe tbody tr th:only-of-type {\n",
       "        vertical-align: middle;\n",
       "    }\n",
       "\n",
       "    .dataframe tbody tr th {\n",
       "        vertical-align: top;\n",
       "    }\n",
       "\n",
       "    .dataframe thead th {\n",
       "        text-align: right;\n",
       "    }\n",
       "</style>\n",
       "<table border=\"1\" class=\"dataframe\">\n",
       "  <thead>\n",
       "    <tr style=\"text-align: right;\">\n",
       "      <th></th>\n",
       "      <th>review_stars</th>\n",
       "      <th>user_review_count</th>\n",
       "      <th>fans</th>\n",
       "      <th>average_stars</th>\n",
       "      <th>latitude</th>\n",
       "      <th>longitude</th>\n",
       "      <th>restaurant_stars</th>\n",
       "      <th>restaurant_review_count</th>\n",
       "    </tr>\n",
       "  </thead>\n",
       "  <tbody>\n",
       "    <tr>\n",
       "      <th>count</th>\n",
       "      <td>120653.000000</td>\n",
       "      <td>120653.000000</td>\n",
       "      <td>120653.000000</td>\n",
       "      <td>120653.000000</td>\n",
       "      <td>120653.000000</td>\n",
       "      <td>120653.000000</td>\n",
       "      <td>120653.000000</td>\n",
       "      <td>120653.000000</td>\n",
       "    </tr>\n",
       "    <tr>\n",
       "      <th>mean</th>\n",
       "      <td>3.725950</td>\n",
       "      <td>110.603284</td>\n",
       "      <td>9.339096</td>\n",
       "      <td>3.727547</td>\n",
       "      <td>37.990691</td>\n",
       "      <td>-96.764744</td>\n",
       "      <td>3.723355</td>\n",
       "      <td>318.151070</td>\n",
       "    </tr>\n",
       "    <tr>\n",
       "      <th>std</th>\n",
       "      <td>1.358676</td>\n",
       "      <td>298.285415</td>\n",
       "      <td>44.536380</td>\n",
       "      <td>0.733996</td>\n",
       "      <td>4.746329</td>\n",
       "      <td>25.155699</td>\n",
       "      <td>0.532056</td>\n",
       "      <td>431.970855</td>\n",
       "    </tr>\n",
       "    <tr>\n",
       "      <th>min</th>\n",
       "      <td>1.000000</td>\n",
       "      <td>0.000000</td>\n",
       "      <td>0.000000</td>\n",
       "      <td>1.000000</td>\n",
       "      <td>33.220008</td>\n",
       "      <td>-115.333614</td>\n",
       "      <td>1.000000</td>\n",
       "      <td>3.000000</td>\n",
       "    </tr>\n",
       "    <tr>\n",
       "      <th>25%</th>\n",
       "      <td>3.000000</td>\n",
       "      <td>8.000000</td>\n",
       "      <td>0.000000</td>\n",
       "      <td>3.400000</td>\n",
       "      <td>33.638322</td>\n",
       "      <td>-115.136026</td>\n",
       "      <td>3.500000</td>\n",
       "      <td>59.000000</td>\n",
       "    </tr>\n",
       "    <tr>\n",
       "      <th>50%</th>\n",
       "      <td>4.000000</td>\n",
       "      <td>25.000000</td>\n",
       "      <td>0.000000</td>\n",
       "      <td>3.790000</td>\n",
       "      <td>36.115059</td>\n",
       "      <td>-111.906005</td>\n",
       "      <td>4.000000</td>\n",
       "      <td>164.000000</td>\n",
       "    </tr>\n",
       "    <tr>\n",
       "      <th>75%</th>\n",
       "      <td>5.000000</td>\n",
       "      <td>90.000000</td>\n",
       "      <td>3.000000</td>\n",
       "      <td>4.160000</td>\n",
       "      <td>41.508884</td>\n",
       "      <td>-79.975133</td>\n",
       "      <td>4.000000</td>\n",
       "      <td>384.000000</td>\n",
       "    </tr>\n",
       "    <tr>\n",
       "      <th>max</th>\n",
       "      <td>5.000000</td>\n",
       "      <td>8353.000000</td>\n",
       "      <td>1962.000000</td>\n",
       "      <td>5.000000</td>\n",
       "      <td>59.436505</td>\n",
       "      <td>11.770300</td>\n",
       "      <td>5.000000</td>\n",
       "      <td>2349.000000</td>\n",
       "    </tr>\n",
       "  </tbody>\n",
       "</table>\n",
       "</div>"
      ],
      "text/plain": [
       "        review_stars  user_review_count           fans  average_stars  \\\n",
       "count  120653.000000      120653.000000  120653.000000  120653.000000   \n",
       "mean        3.725950         110.603284       9.339096       3.727547   \n",
       "std         1.358676         298.285415      44.536380       0.733996   \n",
       "min         1.000000           0.000000       0.000000       1.000000   \n",
       "25%         3.000000           8.000000       0.000000       3.400000   \n",
       "50%         4.000000          25.000000       0.000000       3.790000   \n",
       "75%         5.000000          90.000000       3.000000       4.160000   \n",
       "max         5.000000        8353.000000    1962.000000       5.000000   \n",
       "\n",
       "            latitude      longitude  restaurant_stars  restaurant_review_count  \n",
       "count  120653.000000  120653.000000     120653.000000            120653.000000  \n",
       "mean       37.990691     -96.764744          3.723355               318.151070  \n",
       "std         4.746329      25.155699          0.532056               431.970855  \n",
       "min        33.220008    -115.333614          1.000000                 3.000000  \n",
       "25%        33.638322    -115.136026          3.500000                59.000000  \n",
       "50%        36.115059    -111.906005          4.000000               164.000000  \n",
       "75%        41.508884     -79.975133          4.000000               384.000000  \n",
       "max        59.436505      11.770300          5.000000              2349.000000  "
      ]
     },
     "execution_count": 78,
     "metadata": {},
     "output_type": "execute_result"
    }
   ],
   "source": [
    "df[df['category'] == 'Italian'].describe()"
   ]
  },
  {
   "cell_type": "markdown",
   "metadata": {},
   "source": [
    "## Data output"
   ]
  },
  {
   "cell_type": "markdown",
   "metadata": {},
   "source": [
    "There are no missing or duplicated values nor outliers. Let's store DataFrame in both csv and json formats"
   ]
  },
  {
   "cell_type": "code",
   "execution_count": 80,
   "metadata": {},
   "outputs": [],
   "source": [
    "df.to_csv('..\\Yelp Dataset\\clean_data.csv')"
   ]
  },
  {
   "cell_type": "code",
   "execution_count": 81,
   "metadata": {},
   "outputs": [],
   "source": [
    "df.to_json('..\\Yelp Dataset\\clean_data.json')"
   ]
  }
 ],
 "metadata": {
  "kernelspec": {
   "display_name": "Python 3",
   "language": "python",
   "name": "python3"
  },
  "language_info": {
   "codemirror_mode": {
    "name": "ipython",
    "version": 3
   },
   "file_extension": ".py",
   "mimetype": "text/x-python",
   "name": "python",
   "nbconvert_exporter": "python",
   "pygments_lexer": "ipython3",
   "version": "3.6.9"
  }
 },
 "nbformat": 4,
 "nbformat_minor": 2
}
