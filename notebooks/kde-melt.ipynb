{
 "cells": [
  {
   "cell_type": "markdown",
   "metadata": {},
   "source": [
    "# Wrangling data to be used in D3 visualization"
   ]
  },
  {
   "cell_type": "code",
   "execution_count": 1,
   "metadata": {
    "ExecuteTime": {
     "end_time": "2019-11-15T15:27:41.022622Z",
     "start_time": "2019-11-15T15:27:39.501424Z"
    }
   },
   "outputs": [],
   "source": [
    "import pandas as pd\n",
    "import numpy as np"
   ]
  },
  {
   "cell_type": "code",
   "execution_count": 19,
   "metadata": {
    "ExecuteTime": {
     "end_time": "2019-11-15T19:42:17.115431Z",
     "start_time": "2019-11-15T19:42:16.918969Z"
    }
   },
   "outputs": [
    {
     "data": {
      "text/html": [
       "<div>\n",
       "<style scoped>\n",
       "    .dataframe tbody tr th:only-of-type {\n",
       "        vertical-align: middle;\n",
       "    }\n",
       "\n",
       "    .dataframe tbody tr th {\n",
       "        vertical-align: top;\n",
       "    }\n",
       "\n",
       "    .dataframe thead th {\n",
       "        text-align: right;\n",
       "    }\n",
       "</style>\n",
       "<table border=\"1\" class=\"dataframe\">\n",
       "  <thead>\n",
       "    <tr style=\"text-align: right;\">\n",
       "      <th></th>\n",
       "      <th>state</th>\n",
       "      <th>category</th>\n",
       "      <th>restaurant_stars</th>\n",
       "    </tr>\n",
       "  </thead>\n",
       "  <tbody>\n",
       "    <tr>\n",
       "      <th>0</th>\n",
       "      <td>QC</td>\n",
       "      <td>Diners</td>\n",
       "      <td>4.166667</td>\n",
       "    </tr>\n",
       "    <tr>\n",
       "      <th>1</th>\n",
       "      <td>QC</td>\n",
       "      <td>Canadian (New)</td>\n",
       "      <td>4.460000</td>\n",
       "    </tr>\n",
       "    <tr>\n",
       "      <th>2</th>\n",
       "      <td>QC</td>\n",
       "      <td>Fast Food</td>\n",
       "      <td>3.557377</td>\n",
       "    </tr>\n",
       "    <tr>\n",
       "      <th>3</th>\n",
       "      <td>QC</td>\n",
       "      <td>Bakeries</td>\n",
       "      <td>4.287154</td>\n",
       "    </tr>\n",
       "    <tr>\n",
       "      <th>4</th>\n",
       "      <td>ON</td>\n",
       "      <td>Thai</td>\n",
       "      <td>3.954955</td>\n",
       "    </tr>\n",
       "  </tbody>\n",
       "</table>\n",
       "</div>"
      ],
      "text/plain": [
       "  state        category  restaurant_stars\n",
       "0    QC          Diners          4.166667\n",
       "1    QC  Canadian (New)          4.460000\n",
       "2    QC       Fast Food          3.557377\n",
       "3    QC        Bakeries          4.287154\n",
       "4    ON            Thai          3.954955"
      ]
     },
     "execution_count": 19,
     "metadata": {},
     "output_type": "execute_result"
    }
   ],
   "source": [
    "df = pd.read_csv('../visualization/data/restaurants.csv', index_col=False, usecols=['state', 'category', 'restaurant_stars'])\n",
    "df.head()"
   ]
  },
  {
   "cell_type": "code",
   "execution_count": 20,
   "metadata": {
    "ExecuteTime": {
     "end_time": "2019-11-15T19:42:24.145641Z",
     "start_time": "2019-11-15T19:42:24.074857Z"
    }
   },
   "outputs": [
    {
     "name": "stdout",
     "output_type": "stream",
     "text": [
      "<class 'pandas.core.frame.DataFrame'>\n",
      "RangeIndex: 36440 entries, 0 to 36439\n",
      "Data columns (total 3 columns):\n",
      "state               36440 non-null object\n",
      "category            36440 non-null object\n",
      "restaurant_stars    36440 non-null float64\n",
      "dtypes: float64(1), object(2)\n",
      "memory usage: 854.1+ KB\n"
     ]
    }
   ],
   "source": [
    "df.info()"
   ]
  },
  {
   "cell_type": "code",
   "execution_count": 21,
   "metadata": {
    "ExecuteTime": {
     "end_time": "2019-11-15T19:42:36.145152Z",
     "start_time": "2019-11-15T19:42:36.110288Z"
    }
   },
   "outputs": [
    {
     "data": {
      "text/plain": [
       "array(['QC', 'ON', 'NV', 'WI', 'AZ', 'PA', 'NC', 'IL', 'OH', 'SC'],\n",
       "      dtype=object)"
      ]
     },
     "execution_count": 21,
     "metadata": {},
     "output_type": "execute_result"
    }
   ],
   "source": [
    "df.state.unique()"
   ]
  },
  {
   "cell_type": "code",
   "execution_count": 22,
   "metadata": {
    "ExecuteTime": {
     "end_time": "2019-11-15T19:42:41.311063Z",
     "start_time": "2019-11-15T19:42:41.290122Z"
    }
   },
   "outputs": [
    {
     "data": {
      "text/plain": [
       "array(['Diners', 'Canadian (New)', 'Fast Food', 'Bakeries', 'Thai',\n",
       "       'Breakfast & Brunch', 'American (Traditional)', 'Burgers',\n",
       "       'American (New)', 'Vietnamese', 'Chinese', 'Japanese',\n",
       "       'Asian Fusion', 'Sushi Bars', 'Cafes', 'Italian', 'Mediterranean',\n",
       "       'Korean', 'French', 'Sandwiches', 'Desserts', 'Mexican', 'Pizza',\n",
       "       'Steakhouses', 'Seafood', 'Delis', 'Barbeque', 'Tex-Mex',\n",
       "       'Hot Dogs', 'Chicken Wings', 'Salad', 'Vegetarian', 'Indian',\n",
       "       'Caribbean', 'Greek', 'Latin American', 'Soup', 'Middle Eastern',\n",
       "       'German'], dtype=object)"
      ]
     },
     "execution_count": 22,
     "metadata": {},
     "output_type": "execute_result"
    }
   ],
   "source": [
    "df.category.unique()"
   ]
  },
  {
   "cell_type": "code",
   "execution_count": 25,
   "metadata": {
    "ExecuteTime": {
     "end_time": "2019-11-15T19:43:11.841059Z",
     "start_time": "2019-11-15T19:43:11.801168Z"
    }
   },
   "outputs": [
    {
     "data": {
      "text/plain": [
       "3.000000    1324\n",
       "4.000000    1184\n",
       "3.333333     690\n",
       "3.666667     653\n",
       "2.000000     638\n",
       "3.500000     615\n",
       "2.666667     472\n",
       "2.333333     455\n",
       "4.333333     447\n",
       "2.500000     402\n",
       "3.750000     368\n",
       "5.000000     339\n",
       "3.250000     322\n",
       "4.666667     304\n",
       "2.750000     291\n",
       "4.500000     290\n",
       "3.400000     246\n",
       "3.600000     242\n",
       "4.250000     227\n",
       "3.200000     226\n",
       "3.800000     214\n",
       "2.250000     213\n",
       "2.800000     208\n",
       "1.666667     206\n",
       "2.600000     192\n",
       "4.200000     187\n",
       "1.000000     184\n",
       "3.833333     179\n",
       "3.166667     178\n",
       "2.833333     162\n",
       "            ... \n",
       "3.877339       1\n",
       "3.389831       1\n",
       "4.076023       1\n",
       "2.861702       1\n",
       "3.132743       1\n",
       "3.746212       1\n",
       "3.948905       1\n",
       "3.561798       1\n",
       "4.424419       1\n",
       "1.756757       1\n",
       "2.793814       1\n",
       "3.850267       1\n",
       "4.123810       1\n",
       "2.974026       1\n",
       "3.709845       1\n",
       "3.116505       1\n",
       "3.559322       1\n",
       "3.866171       1\n",
       "3.392000       1\n",
       "3.473469       1\n",
       "4.063291       1\n",
       "3.651934       1\n",
       "3.324921       1\n",
       "3.860294       1\n",
       "3.399103       1\n",
       "2.946809       1\n",
       "3.922414       1\n",
       "4.352258       1\n",
       "3.723577       1\n",
       "4.547826       1\n",
       "Name: restaurant_stars, Length: 7875, dtype: int64"
      ]
     },
     "execution_count": 25,
     "metadata": {},
     "output_type": "execute_result"
    }
   ],
   "source": [
    "df.restaurant_stars.value_counts()"
   ]
  },
  {
   "cell_type": "code",
   "execution_count": 28,
   "metadata": {
    "ExecuteTime": {
     "end_time": "2019-11-15T19:46:22.953488Z",
     "start_time": "2019-11-15T19:46:22.910614Z"
    }
   },
   "outputs": [
    {
     "data": {
      "text/html": [
       "<div>\n",
       "<style scoped>\n",
       "    .dataframe tbody tr th:only-of-type {\n",
       "        vertical-align: middle;\n",
       "    }\n",
       "\n",
       "    .dataframe tbody tr th {\n",
       "        vertical-align: top;\n",
       "    }\n",
       "\n",
       "    .dataframe thead th {\n",
       "        text-align: right;\n",
       "    }\n",
       "</style>\n",
       "<table border=\"1\" class=\"dataframe\">\n",
       "  <thead>\n",
       "    <tr style=\"text-align: right;\">\n",
       "      <th></th>\n",
       "      <th>state</th>\n",
       "      <th>category</th>\n",
       "      <th>restaurant_stars</th>\n",
       "    </tr>\n",
       "  </thead>\n",
       "  <tbody>\n",
       "    <tr>\n",
       "      <th>15237</th>\n",
       "      <td>WI</td>\n",
       "      <td>Thai</td>\n",
       "      <td>3.471698</td>\n",
       "    </tr>\n",
       "    <tr>\n",
       "      <th>15455</th>\n",
       "      <td>WI</td>\n",
       "      <td>Thai</td>\n",
       "      <td>4.000000</td>\n",
       "    </tr>\n",
       "    <tr>\n",
       "      <th>15457</th>\n",
       "      <td>WI</td>\n",
       "      <td>Thai</td>\n",
       "      <td>2.750000</td>\n",
       "    </tr>\n",
       "    <tr>\n",
       "      <th>19347</th>\n",
       "      <td>WI</td>\n",
       "      <td>Thai</td>\n",
       "      <td>3.769231</td>\n",
       "    </tr>\n",
       "    <tr>\n",
       "      <th>34709</th>\n",
       "      <td>WI</td>\n",
       "      <td>Thai</td>\n",
       "      <td>4.250000</td>\n",
       "    </tr>\n",
       "    <tr>\n",
       "      <th>3717</th>\n",
       "      <td>WI</td>\n",
       "      <td>Vegetarian</td>\n",
       "      <td>3.653846</td>\n",
       "    </tr>\n",
       "    <tr>\n",
       "      <th>4525</th>\n",
       "      <td>WI</td>\n",
       "      <td>Vegetarian</td>\n",
       "      <td>3.583333</td>\n",
       "    </tr>\n",
       "    <tr>\n",
       "      <th>6384</th>\n",
       "      <td>WI</td>\n",
       "      <td>Vegetarian</td>\n",
       "      <td>4.102564</td>\n",
       "    </tr>\n",
       "    <tr>\n",
       "      <th>11976</th>\n",
       "      <td>WI</td>\n",
       "      <td>Vegetarian</td>\n",
       "      <td>3.375000</td>\n",
       "    </tr>\n",
       "    <tr>\n",
       "      <th>16279</th>\n",
       "      <td>WI</td>\n",
       "      <td>Vegetarian</td>\n",
       "      <td>2.227273</td>\n",
       "    </tr>\n",
       "    <tr>\n",
       "      <th>19295</th>\n",
       "      <td>WI</td>\n",
       "      <td>Vegetarian</td>\n",
       "      <td>3.692308</td>\n",
       "    </tr>\n",
       "    <tr>\n",
       "      <th>23610</th>\n",
       "      <td>WI</td>\n",
       "      <td>Vegetarian</td>\n",
       "      <td>4.800000</td>\n",
       "    </tr>\n",
       "    <tr>\n",
       "      <th>25090</th>\n",
       "      <td>WI</td>\n",
       "      <td>Vegetarian</td>\n",
       "      <td>4.083333</td>\n",
       "    </tr>\n",
       "    <tr>\n",
       "      <th>27149</th>\n",
       "      <td>WI</td>\n",
       "      <td>Vegetarian</td>\n",
       "      <td>4.400000</td>\n",
       "    </tr>\n",
       "    <tr>\n",
       "      <th>1576</th>\n",
       "      <td>WI</td>\n",
       "      <td>Vietnamese</td>\n",
       "      <td>4.091379</td>\n",
       "    </tr>\n",
       "    <tr>\n",
       "      <th>1934</th>\n",
       "      <td>WI</td>\n",
       "      <td>Vietnamese</td>\n",
       "      <td>3.962069</td>\n",
       "    </tr>\n",
       "    <tr>\n",
       "      <th>14154</th>\n",
       "      <td>WI</td>\n",
       "      <td>Vietnamese</td>\n",
       "      <td>3.902985</td>\n",
       "    </tr>\n",
       "    <tr>\n",
       "      <th>21590</th>\n",
       "      <td>WI</td>\n",
       "      <td>Vietnamese</td>\n",
       "      <td>3.500000</td>\n",
       "    </tr>\n",
       "    <tr>\n",
       "      <th>24212</th>\n",
       "      <td>WI</td>\n",
       "      <td>Vietnamese</td>\n",
       "      <td>3.538462</td>\n",
       "    </tr>\n",
       "    <tr>\n",
       "      <th>28867</th>\n",
       "      <td>WI</td>\n",
       "      <td>Vietnamese</td>\n",
       "      <td>3.388889</td>\n",
       "    </tr>\n",
       "  </tbody>\n",
       "</table>\n",
       "</div>"
      ],
      "text/plain": [
       "      state    category  restaurant_stars\n",
       "15237    WI        Thai          3.471698\n",
       "15455    WI        Thai          4.000000\n",
       "15457    WI        Thai          2.750000\n",
       "19347    WI        Thai          3.769231\n",
       "34709    WI        Thai          4.250000\n",
       "3717     WI  Vegetarian          3.653846\n",
       "4525     WI  Vegetarian          3.583333\n",
       "6384     WI  Vegetarian          4.102564\n",
       "11976    WI  Vegetarian          3.375000\n",
       "16279    WI  Vegetarian          2.227273\n",
       "19295    WI  Vegetarian          3.692308\n",
       "23610    WI  Vegetarian          4.800000\n",
       "25090    WI  Vegetarian          4.083333\n",
       "27149    WI  Vegetarian          4.400000\n",
       "1576     WI  Vietnamese          4.091379\n",
       "1934     WI  Vietnamese          3.962069\n",
       "14154    WI  Vietnamese          3.902985\n",
       "21590    WI  Vietnamese          3.500000\n",
       "24212    WI  Vietnamese          3.538462\n",
       "28867    WI  Vietnamese          3.388889"
      ]
     },
     "execution_count": 28,
     "metadata": {},
     "output_type": "execute_result"
    }
   ],
   "source": [
    "df.sort_values(by=['state', 'category'], inplace=True)\n",
    "df.tail(20)"
   ]
  },
  {
   "cell_type": "code",
   "execution_count": 29,
   "metadata": {
    "ExecuteTime": {
     "end_time": "2019-11-15T19:47:16.217500Z",
     "start_time": "2019-11-15T19:47:16.202540Z"
    }
   },
   "outputs": [
    {
     "data": {
      "text/plain": [
       "(36440, 3)"
      ]
     },
     "execution_count": 29,
     "metadata": {},
     "output_type": "execute_result"
    }
   ],
   "source": [
    "df.shape"
   ]
  },
  {
   "cell_type": "code",
   "execution_count": 30,
   "metadata": {
    "ExecuteTime": {
     "end_time": "2019-11-15T19:48:25.316719Z",
     "start_time": "2019-11-15T19:48:25.086439Z"
    }
   },
   "outputs": [],
   "source": [
    "df.to_csv('../visualization/data/histogram.csv', index=False)"
   ]
  }
 ],
 "metadata": {
  "kernelspec": {
   "display_name": "Python 3",
   "language": "python",
   "name": "python3"
  },
  "language_info": {
   "codemirror_mode": {
    "name": "ipython",
    "version": 3
   },
   "file_extension": ".py",
   "mimetype": "text/x-python",
   "name": "python",
   "nbconvert_exporter": "python",
   "pygments_lexer": "ipython3",
   "version": "3.6.9"
  }
 },
 "nbformat": 4,
 "nbformat_minor": 2
}
